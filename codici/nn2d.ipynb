{
  "nbformat": 4,
  "nbformat_minor": 0,
  "metadata": {
    "anaconda-cloud": {},
    "kernelspec": {
      "display_name": "Python 3",
      "language": "python",
      "name": "python3"
    },
    "language_info": {
      "codemirror_mode": {
        "name": "ipython",
        "version": 3
      },
      "file_extension": ".py",
      "mimetype": "text/x-python",
      "name": "python",
      "nbconvert_exporter": "python",
      "pygments_lexer": "ipython3",
      "version": "3.7.4"
    },
    "colab": {
      "name": "nn2d.ipynb",
      "provenance": []
    }
  },
  "cells": [
    {
      "cell_type": "code",
      "metadata": {
        "id": "m_qNWqBxfss5",
        "colab_type": "code",
        "colab": {}
      },
      "source": [
        "%tensorflow_version 2.x"
      ],
      "execution_count": 0,
      "outputs": []
    },
    {
      "cell_type": "code",
      "metadata": {
        "id": "0OLmAdg-fU7n",
        "colab_type": "code",
        "colab": {
          "base_uri": "https://localhost:8080/",
          "height": 34
        },
        "outputId": "28a2ab4f-caa5-4fb8-8a2c-da2806b74ba5"
      },
      "source": [
        "%matplotlib inline\n",
        "import pandas as pd\n",
        "import numpy as np\n",
        "import scipy.special as sp\n",
        "from keras.utils import to_categorical\n",
        "from keras.models import Sequential\n",
        "from keras.layers import Dense\n",
        "from keras.regularizers import L1L2\n",
        "from keras.optimizers import Adam\n",
        "from sklearn.metrics import confusion_matrix, precision_recall_fscore_support, accuracy_score\n",
        "from sklearn.model_selection import train_test_split\n",
        "from sklearn.preprocessing import StandardScaler"
      ],
      "execution_count": 2,
      "outputs": [
        {
          "output_type": "stream",
          "text": [
            "Using TensorFlow backend.\n"
          ],
          "name": "stderr"
        }
      ]
    },
    {
      "cell_type": "code",
      "metadata": {
        "id": "JORvgj36fVJD",
        "colab_type": "code",
        "colab": {
          "base_uri": "https://localhost:8080/",
          "height": 105
        },
        "outputId": "124a4870-f51d-4bf2-e7c9-4f5c8415b2ff"
      },
      "source": [
        "import matplotlib.pyplot as plt\n",
        "import matplotlib.colors as mcolors\n",
        "import seaborn.apionly as sns\n",
        "\n",
        "plt.style.use('fivethirtyeight')\n",
        "\n",
        "plt.rcParams['font.family'] = 'sans-serif'\n",
        "plt.rcParams['font.serif'] = 'Ubuntu'\n",
        "plt.rcParams['font.monospace'] = 'Ubuntu Mono'\n",
        "plt.rcParams['font.size'] = 10\n",
        "plt.rcParams['axes.labelsize'] = 10\n",
        "plt.rcParams['axes.labelweight'] = 'bold'\n",
        "plt.rcParams['axes.titlesize'] = 10\n",
        "plt.rcParams['xtick.labelsize'] = 8\n",
        "plt.rcParams['ytick.labelsize'] = 8\n",
        "plt.rcParams['legend.fontsize'] = 10\n",
        "plt.rcParams['figure.titlesize'] = 12\n",
        "plt.rcParams['image.cmap'] = 'jet'\n",
        "plt.rcParams['image.interpolation'] = 'none'\n",
        "plt.rcParams['figure.figsize'] = (16, 8)\n",
        "plt.rcParams['lines.linewidth'] = 2\n",
        "plt.rcParams['lines.markersize'] = 8\n",
        "\n",
        "colors = ['#008fd5', '#fc4f30', '#e5ae38', '#6d904f', '#8b8b8b', '#810f7c', \n",
        "'#137e6d', '#be0119', '#3b638c', '#af6f09', '#008fd5', '#fc4f30', '#e5ae38', '#6d904f', '#8b8b8b', \n",
        "'#810f7c', '#137e6d', '#be0119', '#3b638c', '#af6f09']\n",
        "\n",
        "cmap = mcolors.LinearSegmentedColormap.from_list(\"\", [\"#82cafc\", \"#069af3\", \"#0485d1\", colors[0], colors[8]])"
      ],
      "execution_count": 3,
      "outputs": [
        {
          "output_type": "stream",
          "text": [
            "/usr/local/lib/python3.6/dist-packages/statsmodels/tools/_testing.py:19: FutureWarning: pandas.util.testing is deprecated. Use the functions in the public API at pandas.testing instead.\n",
            "  import pandas.util.testing as tm\n",
            "/usr/local/lib/python3.6/dist-packages/seaborn/apionly.py:9: UserWarning: As seaborn no longer sets a default style on import, the seaborn.apionly module is deprecated. It will be removed in a future version.\n",
            "  warnings.warn(msg, UserWarning)\n"
          ],
          "name": "stderr"
        }
      ]
    },
    {
      "cell_type": "code",
      "metadata": {
        "id": "kpX2ln6Bf7mE",
        "colab_type": "code",
        "colab": {
          "base_uri": "https://localhost:8080/",
          "height": 122
        },
        "outputId": "7ba1f103-7720-4d43-acdb-22b8d74d4398"
      },
      "source": [
        "from google.colab import drive\n",
        "drive.mount('/gdrive')"
      ],
      "execution_count": 4,
      "outputs": [
        {
          "output_type": "stream",
          "text": [
            "Go to this URL in a browser: https://accounts.google.com/o/oauth2/auth?client_id=947318989803-6bn6qk8qdgf4n4g3pfee6491hc0brc4i.apps.googleusercontent.com&redirect_uri=urn%3aietf%3awg%3aoauth%3a2.0%3aoob&response_type=code&scope=email%20https%3a%2f%2fwww.googleapis.com%2fauth%2fdocs.test%20https%3a%2f%2fwww.googleapis.com%2fauth%2fdrive%20https%3a%2f%2fwww.googleapis.com%2fauth%2fdrive.photos.readonly%20https%3a%2f%2fwww.googleapis.com%2fauth%2fpeopleapi.readonly\n",
            "\n",
            "Enter your authorization code:\n",
            "··········\n",
            "Mounted at /gdrive\n"
          ],
          "name": "stdout"
        }
      ]
    },
    {
      "cell_type": "code",
      "metadata": {
        "id": "unFv9gucgIjG",
        "colab_type": "code",
        "colab": {}
      },
      "source": [
        "def save_model(m,filename):\n",
        "    model_json = m.to_json()\n",
        "    with open(\"/gdrive/My Drive/colab_data/\"+filename+\".json\", \"w\") as json_file:\n",
        "        json_file.write(model_json)\n",
        "    # serialize weights to HDF5\n",
        "    m.save_weights(\"/gdrive/My Drive/colab_data/\"+filename+\".h5\")\n",
        "    print(\"Saved model to disk\")"
      ],
      "execution_count": 0,
      "outputs": []
    },
    {
      "cell_type": "code",
      "metadata": {
        "id": "43mL0SdPgOqH",
        "colab_type": "code",
        "colab": {}
      },
      "source": [
        "def load_model_weights(filename, model):\n",
        "    model.load_weights(\"/gdrive/My Drive/colab_data/\"+filename+\".h5\")\n",
        "    print(\"Loaded weights from disk\")\n",
        "    return model"
      ],
      "execution_count": 0,
      "outputs": []
    },
    {
      "cell_type": "code",
      "metadata": {
        "id": "_6p5InfQgPry",
        "colab_type": "code",
        "colab": {}
      },
      "source": [
        "def load_model(filename):\n",
        "    json_file = open(\"/gdrive/My Drive/colab_data/\"+filename+'.json', 'r')\n",
        "    loaded_model_json = json_file.read()\n",
        "    json_file.close()\n",
        "    m = model_from_json(loaded_model_json)\n",
        "    # load weights into new model\n",
        "    m.load_weights(\"/gdrive/My Drive/colab_data/\"+filename+\".h5\")\n",
        "    print(\"Loaded model from disk\")\n",
        "    return m"
      ],
      "execution_count": 0,
      "outputs": []
    },
    {
      "cell_type": "code",
      "metadata": {
        "id": "X0gA0oZ0fVKf",
        "colab_type": "code",
        "colab": {
          "base_uri": "https://localhost:8080/",
          "height": 232
        },
        "outputId": "99120234-a146-4502-f212-26405b8134e8"
      },
      "source": [
        "class my_cb(Callback):\n",
        "    def __init__(self):\n",
        "        self.epoch = 0\n",
        "    def on_train_begin(self, logs={}):\n",
        "        self.losses = []\n",
        "\n",
        "    def on_batch_end(self, batch, logs={}):\n",
        "        print('.',end='')\n",
        "        \n",
        "    def on_epoch_end(self, batch, logs={}):\n",
        "        self.epoch += 1\n",
        "        print('\\n')\n",
        "        print(\"{0:3d} epochs: accuracy={1:5.4f}\".format(self.epoch, logs['accuracy']))"
      ],
      "execution_count": 8,
      "outputs": [
        {
          "output_type": "error",
          "ename": "NameError",
          "evalue": "ignored",
          "traceback": [
            "\u001b[0;31m---------------------------------------------------------------------------\u001b[0m",
            "\u001b[0;31mNameError\u001b[0m                                 Traceback (most recent call last)",
            "\u001b[0;32m<ipython-input-8-52a59531697c>\u001b[0m in \u001b[0;36m<module>\u001b[0;34m()\u001b[0m\n\u001b[0;32m----> 1\u001b[0;31m \u001b[0;32mclass\u001b[0m \u001b[0mmy_cb\u001b[0m\u001b[0;34m(\u001b[0m\u001b[0mCallback\u001b[0m\u001b[0;34m)\u001b[0m\u001b[0;34m:\u001b[0m\u001b[0;34m\u001b[0m\u001b[0;34m\u001b[0m\u001b[0m\n\u001b[0m\u001b[1;32m      2\u001b[0m     \u001b[0;32mdef\u001b[0m \u001b[0m__init__\u001b[0m\u001b[0;34m(\u001b[0m\u001b[0mself\u001b[0m\u001b[0;34m)\u001b[0m\u001b[0;34m:\u001b[0m\u001b[0;34m\u001b[0m\u001b[0;34m\u001b[0m\u001b[0m\n\u001b[1;32m      3\u001b[0m         \u001b[0mself\u001b[0m\u001b[0;34m.\u001b[0m\u001b[0mepoch\u001b[0m \u001b[0;34m=\u001b[0m \u001b[0;36m0\u001b[0m\u001b[0;34m\u001b[0m\u001b[0;34m\u001b[0m\u001b[0m\n\u001b[1;32m      4\u001b[0m     \u001b[0;32mdef\u001b[0m \u001b[0mon_train_begin\u001b[0m\u001b[0;34m(\u001b[0m\u001b[0mself\u001b[0m\u001b[0;34m,\u001b[0m \u001b[0mlogs\u001b[0m\u001b[0;34m=\u001b[0m\u001b[0;34m{\u001b[0m\u001b[0;34m}\u001b[0m\u001b[0;34m)\u001b[0m\u001b[0;34m:\u001b[0m\u001b[0;34m\u001b[0m\u001b[0;34m\u001b[0m\u001b[0m\n\u001b[1;32m      5\u001b[0m         \u001b[0mself\u001b[0m\u001b[0;34m.\u001b[0m\u001b[0mlosses\u001b[0m \u001b[0;34m=\u001b[0m \u001b[0;34m[\u001b[0m\u001b[0;34m]\u001b[0m\u001b[0;34m\u001b[0m\u001b[0;34m\u001b[0m\u001b[0m\n",
            "\u001b[0;31mNameError\u001b[0m: name 'Callback' is not defined"
          ]
        }
      ]
    },
    {
      "cell_type": "code",
      "metadata": {
        "id": "jpTkbyh_gkqw",
        "colab_type": "code",
        "colab": {}
      },
      "source": [
        "import urllib.request\n",
        "\n",
        "filepath = \"../dataset/\"\n",
        "url = \"https://tvml.github.io/ml1920/dataset/\"\n",
        "\n",
        "def get_file(filename,local):\n",
        "    if local:\n",
        "        return filepath+filename\n",
        "    else:\n",
        "        urllib.request.urlretrieve (url+filename, filename)\n",
        "        return filename"
      ],
      "execution_count": 0,
      "outputs": []
    },
    {
      "cell_type": "code",
      "metadata": {
        "id": "GPvtc6-OfVRV",
        "colab_type": "code",
        "colab": {}
      },
      "source": [
        "# legge i dati in dataframe pandas\n",
        "data = pd.read_csv(get_file(\"ex2data1.txt\",False), header=0, delimiter=',', names=['x1','x2','t'])\n",
        "# calcola dimensione dei dati\n",
        "n = len(data)\n",
        "\n",
        "# calcola dimensionalità delle features\n",
        "nfeatures = len(data.columns)-1\n",
        "\n",
        "X = np.array(data[['x1','x2']])\n",
        "t = np.array(data['t']).reshape(-1,1)\n",
        "\n",
        "data[['x1','x2']] = StandardScaler().fit_transform(X)"
      ],
      "execution_count": 0,
      "outputs": []
    },
    {
      "cell_type": "code",
      "metadata": {
        "id": "slAKvbzRfVYN",
        "colab_type": "code",
        "colab": {
          "base_uri": "https://localhost:8080/",
          "height": 544
        },
        "outputId": "206313a3-1106-431a-d5c7-569101f49fb0"
      },
      "source": [
        "fig = plt.figure(figsize=(16,8))\n",
        "ax = fig.gca()\n",
        "ax.scatter(data[data.t==0].x1, data[data.t==0].x2, s=40, color=colors[0], edgecolor='k', alpha=.7)\n",
        "ax.scatter(data[data.t==1].x1, data[data.t==1].x2, s=40, color=colors[1], edgecolor='k', alpha=.7)\n",
        "plt.xlabel('$x_1$', fontsize=12)\n",
        "plt.ylabel('$x_2$', fontsize=12)\n",
        "plt.xticks(fontsize=10)\n",
        "plt.yticks(fontsize=10)\n",
        "plt.title('Dataset', fontsize=12)\n",
        "plt.show()"
      ],
      "execution_count": 11,
      "outputs": [
        {
          "output_type": "display_data",
          "data": {
            "image/png": "[encoded data removed]",
            "text/plain": [
              "<Figure size 1152x576 with 1 Axes>"
            ]
          },
          "metadata": {
            "tags": []
          }
        }
      ]
    },
    {
      "cell_type": "code",
      "metadata": {
        "id": "KqMnJA80fVdl",
        "colab_type": "code",
        "colab": {}
      },
      "source": [
        "num_classes = np.unique(t).shape[0]"
      ],
      "execution_count": 0,
      "outputs": []
    },
    {
      "cell_type": "code",
      "metadata": {
        "id": "mNp6gEuRfVqO",
        "colab_type": "code",
        "colab": {}
      },
      "source": [
        "t1 = to_categorical(t, num_classes)"
      ],
      "execution_count": 0,
      "outputs": []
    },
    {
      "cell_type": "code",
      "metadata": {
        "id": "HBltoJwufVrh",
        "colab_type": "code",
        "colab": {}
      },
      "source": [
        "delta1=max(data.x1)-min(data.x1)\n",
        "delta2=max(data.x2)-min(data.x2)\n",
        "min1=min(data.x1)-delta1/10\n",
        "max1=max(data.x1)+delta1/10\n",
        "min2=min(data.x2)-delta2/10\n",
        "max2=max(data.x2)+delta2/10\n",
        "u = np.linspace(min1, max1, 100)\n",
        "v = np.linspace(min2, max2, 100)\n",
        "u, v = np.meshgrid(u, v)"
      ],
      "execution_count": 0,
      "outputs": []
    },
    {
      "cell_type": "code",
      "metadata": {
        "id": "MIVtXGkYfVsJ",
        "colab_type": "code",
        "colab": {}
      },
      "source": [
        "model0 = Sequential([\n",
        "    Dense(15, input_dim=2, activation='relu'),\n",
        "    Dense(64, activation='relu'),\n",
        "    Dense(32, activation='relu'),\n",
        "#    Dense(32, activation='relu'),\n",
        "#    Dense(32, activation='relu'),\n",
        "#    Dense(8, activation='relu'),\n",
        "    Dense(1, activation='sigmoid')\n",
        "])\n",
        "\n",
        "model0.compile(optimizer=Adam(lr=0.01), loss='binary_crossentropy',\n",
        "              metrics=['accuracy'])\n"
      ],
      "execution_count": 0,
      "outputs": []
    },
    {
      "cell_type": "code",
      "metadata": {
        "id": "M8EE3wZQhAAR",
        "colab_type": "code",
        "colab": {}
      },
      "source": [
        "#model0 = load_model_weights('regr', model0)"
      ],
      "execution_count": 0,
      "outputs": []
    },
    {
      "cell_type": "code",
      "metadata": {
        "id": "uGhxEoVffVtJ",
        "colab_type": "code",
        "colab": {
          "base_uri": "https://localhost:8080/",
          "height": 289
        },
        "outputId": "cbbba63f-b983-4ca5-bf42-b78ab2246c17"
      },
      "source": [
        "model0.summary()"
      ],
      "execution_count": 34,
      "outputs": [
        {
          "output_type": "stream",
          "text": [
            "Model: \"sequential_2\"\n",
            "_________________________________________________________________\n",
            "Layer (type)                 Output Shape              Param #   \n",
            "=================================================================\n",
            "dense_4 (Dense)              (None, 15)                45        \n",
            "_________________________________________________________________\n",
            "dense_5 (Dense)              (None, 64)                1024      \n",
            "_________________________________________________________________\n",
            "dense_6 (Dense)              (None, 32)                2080      \n",
            "_________________________________________________________________\n",
            "dense_7 (Dense)              (None, 1)                 33        \n",
            "=================================================================\n",
            "Total params: 3,182\n",
            "Trainable params: 3,182\n",
            "Non-trainable params: 0\n",
            "_________________________________________________________________\n"
          ],
          "name": "stdout"
        }
      ]
    },
    {
      "cell_type": "code",
      "metadata": {
        "id": "EHoGT7irfVul",
        "colab_type": "code",
        "colab": {
          "base_uri": "https://localhost:8080/",
          "height": 1000
        },
        "outputId": "601c8a02-58d5-4ede-8754-f23897a48850"
      },
      "source": [
        "batch_size = 10\n",
        "epochs = 30\n",
        "\n",
        "history = model0.fit(data[['x1','x2']], t.ravel(), shuffle=True, batch_size=5, epochs=epochs, verbose=1)"
      ],
      "execution_count": 35,
      "outputs": [
        {
          "output_type": "stream",
          "text": [
            "Epoch 1/30\n",
            "99/99 [==============================] - 0s 1ms/step - loss: 0.4797 - accuracy: 0.7475\n",
            "Epoch 2/30\n",
            "99/99 [==============================] - 0s 292us/step - loss: 0.2784 - accuracy: 0.8687\n",
            "Epoch 3/30\n",
            "99/99 [==============================] - 0s 328us/step - loss: 0.2105 - accuracy: 0.9091\n",
            "Epoch 4/30\n",
            "99/99 [==============================] - 0s 286us/step - loss: 0.1623 - accuracy: 0.9596\n",
            "Epoch 5/30\n",
            "99/99 [==============================] - 0s 304us/step - loss: 0.1820 - accuracy: 0.9091\n",
            "Epoch 6/30\n",
            "99/99 [==============================] - 0s 300us/step - loss: 0.1425 - accuracy: 0.9192\n",
            "Epoch 7/30\n",
            "99/99 [==============================] - 0s 333us/step - loss: 0.1802 - accuracy: 0.9293\n",
            "Epoch 8/30\n",
            "99/99 [==============================] - 0s 280us/step - loss: 0.1747 - accuracy: 0.8889\n",
            "Epoch 9/30\n",
            "99/99 [==============================] - 0s 293us/step - loss: 0.0995 - accuracy: 0.9697\n",
            "Epoch 10/30\n",
            "99/99 [==============================] - 0s 282us/step - loss: 0.1034 - accuracy: 0.9394\n",
            "Epoch 11/30\n",
            "99/99 [==============================] - 0s 358us/step - loss: 0.0812 - accuracy: 0.9596\n",
            "Epoch 12/30\n",
            "99/99 [==============================] - 0s 283us/step - loss: 0.0684 - accuracy: 0.9697\n",
            "Epoch 13/30\n",
            "99/99 [==============================] - 0s 319us/step - loss: 0.1249 - accuracy: 0.9596\n",
            "Epoch 14/30\n",
            "99/99 [==============================] - 0s 301us/step - loss: 0.1449 - accuracy: 0.9495\n",
            "Epoch 15/30\n",
            "99/99 [==============================] - 0s 333us/step - loss: 0.1565 - accuracy: 0.9495\n",
            "Epoch 16/30\n",
            "99/99 [==============================] - 0s 433us/step - loss: 0.0997 - accuracy: 0.9596\n",
            "Epoch 17/30\n",
            "99/99 [==============================] - 0s 469us/step - loss: 0.0924 - accuracy: 0.9495\n",
            "Epoch 18/30\n",
            "99/99 [==============================] - 0s 388us/step - loss: 0.0696 - accuracy: 0.9697\n",
            "Epoch 19/30\n",
            "99/99 [==============================] - 0s 322us/step - loss: 0.0812 - accuracy: 0.9899\n",
            "Epoch 20/30\n",
            "99/99 [==============================] - 0s 353us/step - loss: 0.0903 - accuracy: 0.9697\n",
            "Epoch 21/30\n",
            "99/99 [==============================] - 0s 391us/step - loss: 0.1896 - accuracy: 0.9192\n",
            "Epoch 22/30\n",
            "99/99 [==============================] - 0s 323us/step - loss: 0.0815 - accuracy: 0.9798\n",
            "Epoch 23/30\n",
            "99/99 [==============================] - 0s 360us/step - loss: 0.0593 - accuracy: 0.9798\n",
            "Epoch 24/30\n",
            "99/99 [==============================] - 0s 323us/step - loss: 0.0839 - accuracy: 0.9697\n",
            "Epoch 25/30\n",
            "99/99 [==============================] - 0s 325us/step - loss: 0.0693 - accuracy: 0.9697\n",
            "Epoch 26/30\n",
            "99/99 [==============================] - 0s 333us/step - loss: 0.2419 - accuracy: 0.9091\n",
            "Epoch 27/30\n",
            "99/99 [==============================] - 0s 414us/step - loss: 0.2076 - accuracy: 0.8990\n",
            "Epoch 28/30\n",
            "99/99 [==============================] - 0s 381us/step - loss: 0.1324 - accuracy: 0.9293\n",
            "Epoch 29/30\n",
            "99/99 [==============================] - 0s 380us/step - loss: 0.0772 - accuracy: 0.9899\n",
            "Epoch 30/30\n",
            "99/99 [==============================] - 0s 297us/step - loss: 0.0534 - accuracy: 0.9798\n"
          ],
          "name": "stdout"
        }
      ]
    },
    {
      "cell_type": "code",
      "metadata": {
        "id": "4XxxUL1Ph748",
        "colab_type": "code",
        "colab": {
          "base_uri": "https://localhost:8080/",
          "height": 34
        },
        "outputId": "b309b7de-e7eb-4a01-959e-ebf022d0f89d"
      },
      "source": [
        "save_model(model0,'regr')"
      ],
      "execution_count": 36,
      "outputs": [
        {
          "output_type": "stream",
          "text": [
            "Saved model to disk\n"
          ],
          "name": "stdout"
        }
      ]
    },
    {
      "cell_type": "code",
      "metadata": {
        "id": "ahbaFy4ZfVu-",
        "colab_type": "code",
        "colab": {}
      },
      "source": [
        "history_df = pd.DataFrame(history.history)"
      ],
      "execution_count": 0,
      "outputs": []
    },
    {
      "cell_type": "code",
      "metadata": {
        "id": "PkJcNeGGhkCC",
        "colab_type": "code",
        "colab": {
          "base_uri": "https://localhost:8080/",
          "height": 204
        },
        "outputId": "d54c7af9-1d2e-4d99-879a-c550a6bf430b"
      },
      "source": [
        "history_df.tail()"
      ],
      "execution_count": 38,
      "outputs": [
        {
          "output_type": "execute_result",
          "data": {
            "text/html": [
              "<div>\n",
              "<style scoped>\n",
              "    .dataframe tbody tr th:only-of-type {\n",
              "        vertical-align: middle;\n",
              "    }\n",
              "\n",
              "    .dataframe tbody tr th {\n",
              "        vertical-align: top;\n",
              "    }\n",
              "\n",
              "    .dataframe thead th {\n",
              "        text-align: right;\n",
              "    }\n",
              "</style>\n",
              "<table border=\"1\" class=\"dataframe\">\n",
              "  <thead>\n",
              "    <tr style=\"text-align: right;\">\n",
              "      <th></th>\n",
              "      <th>loss</th>\n",
              "      <th>accuracy</th>\n",
              "    </tr>\n",
              "  </thead>\n",
              "  <tbody>\n",
              "    <tr>\n",
              "      <th>25</th>\n",
              "      <td>0.241889</td>\n",
              "      <td>0.909091</td>\n",
              "    </tr>\n",
              "    <tr>\n",
              "      <th>26</th>\n",
              "      <td>0.207634</td>\n",
              "      <td>0.898990</td>\n",
              "    </tr>\n",
              "    <tr>\n",
              "      <th>27</th>\n",
              "      <td>0.132362</td>\n",
              "      <td>0.929293</td>\n",
              "    </tr>\n",
              "    <tr>\n",
              "      <th>28</th>\n",
              "      <td>0.077225</td>\n",
              "      <td>0.989899</td>\n",
              "    </tr>\n",
              "    <tr>\n",
              "      <th>29</th>\n",
              "      <td>0.053373</td>\n",
              "      <td>0.979798</td>\n",
              "    </tr>\n",
              "  </tbody>\n",
              "</table>\n",
              "</div>"
            ],
            "text/plain": [
              "        loss  accuracy\n",
              "25  0.241889  0.909091\n",
              "26  0.207634  0.898990\n",
              "27  0.132362  0.929293\n",
              "28  0.077225  0.989899\n",
              "29  0.053373  0.979798"
            ]
          },
          "metadata": {
            "tags": []
          },
          "execution_count": 38
        }
      ]
    },
    {
      "cell_type": "code",
      "metadata": {
        "id": "VYqPf96CfVvO",
        "colab_type": "code",
        "colab": {}
      },
      "source": [
        "z = model0.predict(np.c_[u.ravel(), v.ravel()])"
      ],
      "execution_count": 0,
      "outputs": []
    },
    {
      "cell_type": "code",
      "metadata": {
        "id": "B5QBXjtFfVvt",
        "colab_type": "code",
        "colab": {}
      },
      "source": [
        "z = z[:,0].reshape(u.shape)"
      ],
      "execution_count": 0,
      "outputs": []
    },
    {
      "cell_type": "code",
      "metadata": {
        "id": "e0WRrGHSfV1z",
        "colab_type": "code",
        "colab": {
          "base_uri": "https://localhost:8080/",
          "height": 525
        },
        "outputId": "a6c0368b-1d99-4920-cfe6-58606c9c9d25"
      },
      "source": [
        "fig = plt.figure(figsize=(16,8))\n",
        "ax = fig.gca()\n",
        "imshow_handle = plt.imshow(z, origin='lower', aspect='auto', extent=(min1, max1, min2, max2), alpha=.3)\n",
        "ax.scatter(data[data.t==0].x1, data[data.t==0].x2, edgecolor='k', s=40, color=colors[0], alpha=.7)\n",
        "ax.scatter(data[data.t==1].x1, data[data.t==1].x2, edgecolor='k', s=40, color=colors[1], alpha=.7)\n",
        "plt.contour(u, v, z, [0.5], colors=[colors[8]], linewidths=[1.5])\n",
        "plt.xlabel('Punteggio esame 1', fontsize=10)\n",
        "plt.ylabel('Punteggio esame 2', fontsize=10)\n",
        "plt.xticks(fontsize=10)\n",
        "plt.yticks(fontsize=10)\n",
        "plt.show()"
      ],
      "execution_count": 25,
      "outputs": [
        {
          "output_type": "display_data",
          "data": {
            "image/png": "[encoded data removed]",
            "text/plain": [
              "<Figure size 1152x576 with 1 Axes>"
            ]
          },
          "metadata": {
            "tags": []
          }
        }
      ]
    },
    {
      "cell_type": "code",
      "metadata": {
        "id": "BcJcwDe2fV_A",
        "colab_type": "code",
        "colab": {}
      },
      "source": [
        "y = model0.predict(data[['x1','x2']])[:,0]"
      ],
      "execution_count": 0,
      "outputs": []
    },
    {
      "cell_type": "code",
      "metadata": {
        "id": "Hx9__DevfWAD",
        "colab_type": "code",
        "colab": {}
      },
      "source": [
        "y = np.where(y>0.5, 1, 0)"
      ],
      "execution_count": 0,
      "outputs": []
    },
    {
      "cell_type": "code",
      "metadata": {
        "id": "vcoerfLefWAl",
        "colab_type": "code",
        "colab": {
          "base_uri": "https://localhost:8080/",
          "height": 51
        },
        "outputId": "8e89ee4d-9a58-4044-e7fb-ee1794d8f05b"
      },
      "source": [
        "cm = confusion_matrix(t,y)\n",
        "cm"
      ],
      "execution_count": 43,
      "outputs": [
        {
          "output_type": "execute_result",
          "data": {
            "text/plain": [
              "array([[36,  3],\n",
              "       [ 0, 60]])"
            ]
          },
          "metadata": {
            "tags": []
          },
          "execution_count": 43
        }
      ]
    },
    {
      "cell_type": "code",
      "metadata": {
        "id": "m35hxKShfWBs",
        "colab_type": "code",
        "colab": {}
      },
      "source": [
        "pr = precision_recall_fscore_support(t,y)"
      ],
      "execution_count": 0,
      "outputs": []
    },
    {
      "cell_type": "code",
      "metadata": {
        "id": "cooXTsk_fWDD",
        "colab_type": "code",
        "colab": {
          "base_uri": "https://localhost:8080/",
          "height": 68
        },
        "outputId": "0d2ea2c6-07b4-4667-da3b-9bbe1cf4a79b"
      },
      "source": [
        "print('Classe 0: precision={0:5.3f}, recall={1:5.3f}'.format(pr[0][0], pr[1][0]))\n",
        "\n",
        "print('Classe 1: precision={0:5.3f}, recall={1:5.3f}'.format(pr[1][0], pr[1][1]))\n",
        "\n",
        "print('Accuracy={0:5.3f}'.format(accuracy_score(t,y)))"
      ],
      "execution_count": 45,
      "outputs": [
        {
          "output_type": "stream",
          "text": [
            "Classe 0: precision=1.000, recall=0.923\n",
            "Classe 1: precision=0.923, recall=1.000\n",
            "Accuracy=0.970\n"
          ],
          "name": "stdout"
        }
      ]
    }
  ]
}