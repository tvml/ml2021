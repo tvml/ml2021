{
 "cells": [
  {
   "cell_type": "code",
   "execution_count": 1,
   "metadata": {},
   "outputs": [],
   "source": [
    "import numpy as np\n",
    "from sklearn.datasets import fetch_20newsgroups"
   ]
  },
  {
   "cell_type": "code",
   "execution_count": 2,
   "metadata": {},
   "outputs": [],
   "source": [
    "import matplotlib.pyplot as plt\n",
    "import matplotlib.colors as mcolors\n",
    "\n",
    "plt.style.use('fivethirtyeight')\n",
    "\n",
    "plt.rcParams['font.family'] = 'sans-serif'\n",
    "plt.rcParams['font.serif'] = 'Ubuntu'\n",
    "plt.rcParams['font.monospace'] = 'Ubuntu Mono'\n",
    "plt.rcParams['font.size'] = 10\n",
    "plt.rcParams['axes.labelsize'] = 10\n",
    "plt.rcParams['axes.labelweight'] = 'bold'\n",
    "plt.rcParams['axes.titlesize'] = 10\n",
    "plt.rcParams['xtick.labelsize'] = 8\n",
    "plt.rcParams['ytick.labelsize'] = 8\n",
    "plt.rcParams['legend.fontsize'] = 10\n",
    "plt.rcParams['figure.titlesize'] = 12\n",
    "plt.rcParams['image.cmap'] = 'jet'\n",
    "plt.rcParams['image.interpolation'] = 'none'\n",
    "plt.rcParams['figure.figsize'] = (16, 8)\n",
    "plt.rcParams['lines.linewidth'] = 2\n",
    "plt.rcParams['lines.markersize'] = 8\n",
    "\n",
    "colors = ['#008fd5', '#fc4f30', '#e5ae38', '#6d904f', '#8b8b8b', '#810f7c', \n",
    "'#137e6d', '#be0119', '#3b638c', '#af6f09', '#008fd5', '#fc4f30', '#e5ae38', '#6d904f', '#8b8b8b', \n",
    "'#810f7c', '#137e6d', '#be0119', '#3b638c', '#af6f09']\n",
    "\n",
    "cmap = mcolors.LinearSegmentedColormap.from_list(\"\", [\"#82cafc\", \"#069af3\", \"#0485d1\", colors[0], colors[8]])"
   ]
  },
  {
   "cell_type": "code",
   "execution_count": 3,
   "metadata": {},
   "outputs": [],
   "source": [
    "twenty_train = fetch_20newsgroups(subset='train', shuffle=True)\n",
    "twenty_test = fetch_20newsgroups(subset='test', shuffle=True)"
   ]
  },
  {
   "cell_type": "code",
   "execution_count": 4,
   "metadata": {},
   "outputs": [],
   "source": [
    "msg_train = twenty_train.data\n",
    "target_train = twenty_train.target"
   ]
  },
  {
   "cell_type": "code",
   "execution_count": 5,
   "metadata": {},
   "outputs": [],
   "source": [
    "msg_test = twenty_test.data\n",
    "target_test = twenty_test.target"
   ]
  },
  {
   "cell_type": "code",
   "execution_count": 6,
   "metadata": {},
   "outputs": [],
   "source": [
    "classes = twenty_train.target_names "
   ]
  },
  {
   "cell_type": "code",
   "execution_count": 7,
   "metadata": {},
   "outputs": [],
   "source": [
    "msg = msg_train + msg_test"
   ]
  },
  {
   "cell_type": "code",
   "execution_count": 8,
   "metadata": {},
   "outputs": [
    {
     "data": {
      "text/plain": [
       "18846"
      ]
     },
     "execution_count": 8,
     "metadata": {},
     "output_type": "execute_result"
    }
   ],
   "source": [
    "len(msg)"
   ]
  },
  {
   "cell_type": "code",
   "execution_count": 9,
   "metadata": {},
   "outputs": [],
   "source": [
    "t = np.array(list(target_train) + list(target_test))"
   ]
  },
  {
   "cell_type": "code",
   "execution_count": 10,
   "metadata": {},
   "outputs": [
    {
     "name": "stdout",
     "output_type": "stream",
     "text": [
      "From: lerxst@wam.umd.edu (where's my thing)\n",
      "Subject: WHAT car is this!?\n",
      "Nntp-Posting-Host: rac3.wam.umd.edu\n",
      "Organization: University of Maryland, College Park\n"
     ]
    }
   ],
   "source": [
    "print(\"\\n\".join(msg_train[0].split(\"\\n\")[:4]))"
   ]
  },
  {
   "cell_type": "markdown",
   "metadata": {},
   "source": [
    "Costruisce matrice termini-documenti con count del numero di occorrenze"
   ]
  },
  {
   "cell_type": "code",
   "execution_count": 26,
   "metadata": {},
   "outputs": [],
   "source": [
    "from sklearn.feature_extraction.text import CountVectorizer\n",
    "count_vect = CountVectorizer()\n",
    "X_counts = count_vect.fit_transform(msg)"
   ]
  },
  {
   "cell_type": "markdown",
   "metadata": {},
   "source": [
    "Dizionario dei termini considerati nella collezione"
   ]
  },
  {
   "cell_type": "code",
   "execution_count": 14,
   "metadata": {},
   "outputs": [],
   "source": [
    "terms = np.array(count_vect.get_feature_names())"
   ]
  },
  {
   "cell_type": "markdown",
   "metadata": {},
   "source": [
    "Restituisci termini e occorrenze per un documento dato"
   ]
  },
  {
   "cell_type": "code",
   "execution_count": 39,
   "metadata": {},
   "outputs": [
    {
     "name": "stdout",
     "output_type": "stream",
     "text": [
      "Messaggio #  6:  70 termini diversi nel testo, 0.040% di tutto il vocabolario\n",
      "[('12', 1), ('accidentally', 1), ('and', 1), ('astrocytomas', 1), ('because', 1), ('bmdelane', 2), ('bouncing', 1), ('brain', 1), ('brian', 2), ('chicago', 1), ('couldn', 1), ('debra', 1), ('delaney', 1), ('delete', 1), ('directly', 1), ('edu', 2), ('email', 1), ('everyone', 1), ('few', 1), ('file', 1), ('for', 2), ('from', 1), ('glad', 1), ('hit', 1), ('hmmm', 1), ('info', 1), ('instead', 1), ('last', 1), ('lines', 1), ('mail', 1), ('manning', 1), ('midway', 1), ('my', 1), ('news', 1), ('of', 3), ('on', 1), ('organization', 1), ('people', 1), ('probs', 1), ('publicly', 1), ('quads', 1), ('reply', 1), ('request', 1), ('responded', 1), ('rm', 1), ('rn', 1), ('sean', 1), ('september', 1), ('sharon', 1), ('so', 1), ('subject', 1), ('sure', 1), ('thank', 2), ('thanks', 2), ('there', 1), ('this', 1), ('thought', 1), ('through', 1), ('to', 3), ('treatment', 2), ('trying', 1), ('tumor', 1), ('uchicago', 2), ('university', 1), ('was', 1), ('were', 1), ('what', 1), ('when', 1), ('who', 1), ('whom', 1)]\n"
     ]
    }
   ],
   "source": [
    "doc_idx = 6\n",
    "l = np.array([X_counts[doc_idx,i] for i in range(X_counts.shape[1])])\n",
    "terms_idx = np.array(np.argwhere(l > 0).reshape(1,-1)[0])\n",
    "print('Messaggio #{0:3d}: {1:3d} termini diversi nel testo, {2:5.3f}% di tutto il vocabolario'.format(doc_idx, terms_idx.shape[0], \n",
    "                terms_idx.shape[0]/X_counts.shape[1]*100))\n",
    "\n",
    "print(list(zip(terms[terms_idx],l[l>0])))"
   ]
  },
  {
   "cell_type": "code",
   "execution_count": 40,
   "metadata": {},
   "outputs": [
    {
     "data": {
      "text/plain": [
       "(18846, 173762)"
      ]
     },
     "execution_count": 40,
     "metadata": {},
     "output_type": "execute_result"
    }
   ],
   "source": [
    "# TF-IDF\n",
    "from sklearn.feature_extraction.text import TfidfTransformer\n",
    "tfidf_transformer = TfidfTransformer()\n",
    "X_tfidf = tfidf_transformer.fit_transform(X_counts)\n",
    "X_tfidf.shape"
   ]
  },
  {
   "cell_type": "code",
   "execution_count": 41,
   "metadata": {},
   "outputs": [
    {
     "name": "stdout",
     "output_type": "stream",
     "text": [
      "[('11', 0.051028442680077224), ('1qvfo9innc3s', 0.14403286875043725), ('800', 0.07193238616602284), ('acceleration', 0.09625401926160045), ('adapters', 0.10383216148559032), ('add', 0.12477323486241704), ('and', 0.050376546929291305), ('answered', 0.08296211979899024), ('are', 0.02337597946678537), ('article', 0.024964919849871436), ('attained', 0.1186094398856234), ('base', 0.06816230114669868), ('be', 0.022352224201986317), ('brave', 0.09726795663363846), ('brief', 0.08617634005386285), ('call', 0.10325323544468093), ('cards', 0.06984620923263532), ('carson', 0.17676730505268132), ('clock', 0.3658750611490335), ('cpu', 0.07683054253961187), ('day', 0.049113570666663484), ('days', 0.05630008492652677), ('detailing', 0.10658705783556864), ('disk', 0.06331585846369911), ('done', 0.05170054688154026), ('edu', 0.060330031175403545), ('especially', 0.058361000140917656), ('experiences', 0.16149499384698648), ('fair', 0.07371421335662626), ('final', 0.13687035318278185), ('floppies', 0.0937898930419585), ('floppy', 0.07507657351073116), ('for', 0.03732623270958402), ('from', 0.01418908581282231), ('functionality', 0.09442062291560728), ('guy', 0.12423862241196461), ('guykuo', 0.2257125213451428), ('have', 0.04325646805888289), ('haven', 0.05917999605713018), ('heat', 0.07813320773422934), ('host', 0.026094754542004963), ('hour', 0.07786293126121079), ('if', 0.02360509794106759), ('in', 0.01659101721739749), ('keywords', 0.05028095834049596), ('knowledge', 0.06606218290148969), ('kuo', 0.19671992690112627), ('lines', 0.014231308534106734), ('message', 0.0522071612970475), ('network', 0.061097766560647755), ('next', 0.052043502206871886), ('nntp', 0.02625067050522437), ('number', 0.049552674355561536), ('of', 0.04827488277557391), ('on', 0.021169008330704148), ('organization', 0.01475273075226086), ('oscillator', 0.10263236945075203), ('per', 0.06348492191178726), ('please', 0.08218537123621762), ('poll', 0.2873189617070591), ('posting', 0.02545766300418974), ('procedure', 0.08570332672599368), ('rated', 0.09223336569143341), ('reports', 0.0700763075585049), ('requested', 0.08852483862468223), ('send', 0.05550289554987673), ('shared', 0.08458549808972637), ('shelley', 0.09033867730277839), ('si', 0.34766723273522737), ('sinks', 0.11366728631147123), ('so', 0.02848173984337153), ('souls', 0.09485724462103273), ('speed', 0.12006023477713158), ('subject', 0.01418908581282231), ('summarizing', 0.1198440517804211), ('summary', 0.05832717632081777), ('thanks', 0.04120847443653065), ('the', 0.060677073905422686), ('their', 0.0713144724567987), ('this', 0.04299064622846789), ('to', 0.015750545776020516), ('top', 0.0606530579563179), ('two', 0.04009102875190182), ('university', 0.02739286374948703), ('upgrade', 0.15366108507922374), ('upgraded', 0.09318601102080959), ('usage', 0.08717247430460315), ('washington', 0.24237392632506183), ('who', 0.03239224913453546), ('will', 0.030211588507333218), ('with', 0.04489243735808871), ('you', 0.021979744263395766), ('your', 0.0319959250680772)]\n"
     ]
    }
   ],
   "source": [
    "doc_idx =1\n",
    "l1 = np.array([X_tfidf[doc_idx,i] for i in range(X_counts.shape[1])])\n",
    "l_ind = np.argwhere(l1 > 0).reshape(1,-1)[0]\n",
    "#print(terms[l_ind])\n",
    "l_val = l1[l_ind]\n",
    "print(list(zip(terms[l_ind],l_val)))"
   ]
  },
  {
   "cell_type": "code",
   "execution_count": 48,
   "metadata": {},
   "outputs": [],
   "source": [
    "from sklearn.feature_selection import SelectKBest, mutual_info_classif\n",
    "#fs = SelectKBest(mutual_info_classif, k='all').fit(X_tfidf, t)\n",
    "#np.savetxt('scores_tc_features', fs.scores_)\n",
    "#fscores = fs.scores_"
   ]
  },
  {
   "cell_type": "code",
   "execution_count": 49,
   "metadata": {},
   "outputs": [],
   "source": [
    "fscores = np.loadtxt('scores_tc_features')"
   ]
  },
  {
   "cell_type": "code",
   "execution_count": 50,
   "metadata": {},
   "outputs": [
    {
     "data": {
      "text/plain": [
       "array([0.11834061, 0.11040454, 0.00172379, 0.00109669, 0.00015652,\n",
       "       0.00031278, 0.00078072, 0.00046828, 0.00015631, 0.00015631,\n",
       "       0.00015631, 0.00015604, 0.00015631, 0.00015631, 0.00015631,\n",
       "       0.00015631, 0.00140642, 0.00015647, 0.00015647, 0.00015647,\n",
       "       0.00015631, 0.00015631, 0.00015631, 0.00015631, 0.00015631,\n",
       "       0.00015631, 0.00015631, 0.00015631, 0.00015783, 0.00015647,\n",
       "       0.00047108, 0.00015647, 0.00016936, 0.00015647, 0.00015783,\n",
       "       0.00015631, 0.00015631, 0.00015631, 0.00015631, 0.00015631])"
      ]
     },
     "execution_count": 50,
     "metadata": {},
     "output_type": "execute_result"
    }
   ],
   "source": [
    "fscores[:40]"
   ]
  },
  {
   "cell_type": "code",
   "execution_count": 51,
   "metadata": {},
   "outputs": [],
   "source": [
    "idx = np.argsort(fscores)[::-1]"
   ]
  },
  {
   "cell_type": "code",
   "execution_count": 54,
   "metadata": {},
   "outputs": [
    {
     "name": "stdout",
     "output_type": "stream",
     "text": [
      "[('from', 2.9901835823114293), ('subject', 2.9901835823114293), ('lines', 2.9827129582295764), ('organization', 2.8872340585958653), ('the', 2.8093653827225817), ('to', 2.6949242835789966), ('of', 2.635742296260702), ('in', 2.5521815824076737), ('and', 2.502090711880774), ('is', 2.2964297324563514), ('for', 2.186490849513726), ('that', 2.15680449501269), ('it', 2.150922101493323), ('re', 2.128640694507527), ('edu', 1.987546025987935), ('on', 1.8384516286475932), ('this', 1.8005533913662404), ('have', 1.7784225793395665), ('you', 1.7457368291500561), ('be', 1.701777010644354), ('with', 1.6765310682995458), ('not', 1.6542259297958384), ('are', 1.5849222441032127), ('writes', 1.5803993209674478), ('or', 1.553818192849759), ('but', 1.5523994291802687), ('if', 1.5483073888132615), ('article', 1.4247030094428226), ('as', 1.3698130986541506), ('posting', 1.3592888090685964), ('can', 1.3556071519627912), ('at', 1.3427357712444694), ('host', 1.3004314553968106), ('nntp', 1.286307512642393), ('com', 1.28111058668911), ('was', 1.250592121885505), ('an', 1.2359068076933963), ('what', 1.218294859938851), ('there', 1.2118973876296466), ('they', 1.204526131424123)]\n"
     ]
    }
   ],
   "source": [
    "print(list(zip(terms[idx[:40]],fscores[idx[:40]])))"
   ]
  },
  {
   "cell_type": "markdown",
   "metadata": {},
   "source": [
    "Considera le sole feature più significative"
   ]
  },
  {
   "cell_type": "code",
   "execution_count": 57,
   "metadata": {},
   "outputs": [],
   "source": [
    "n_terms = 3000\n",
    "X_red = X_tfidf[:,idx[:n_terms]]"
   ]
  },
  {
   "cell_type": "code",
   "execution_count": 58,
   "metadata": {},
   "outputs": [
    {
     "data": {
      "text/plain": [
       "(18846, 3000)"
      ]
     },
     "execution_count": 58,
     "metadata": {},
     "output_type": "execute_result"
    }
   ],
   "source": [
    "X_red.shape"
   ]
  },
  {
   "cell_type": "code",
   "execution_count": 59,
   "metadata": {},
   "outputs": [],
   "source": [
    "from sklearn.model_selection import train_test_split\n",
    "X_train, X_test, t_train, t_test = train_test_split(X_red, t, test_size=0.3)"
   ]
  },
  {
   "cell_type": "code",
   "execution_count": 60,
   "metadata": {},
   "outputs": [],
   "source": [
    "# Machine Learning\n",
    "# Training Naive Bayes (NB) classifier on training data.\n",
    "from sklearn.naive_bayes import MultinomialNB\n",
    "clf = MultinomialNB().fit(X_train, t_train)"
   ]
  },
  {
   "cell_type": "code",
   "execution_count": 61,
   "metadata": {},
   "outputs": [],
   "source": [
    "y = clf.predict(X_test)"
   ]
  },
  {
   "cell_type": "code",
   "execution_count": 62,
   "metadata": {},
   "outputs": [
    {
     "data": {
      "text/plain": [
       "0.7875840113194199"
      ]
     },
     "execution_count": 62,
     "metadata": {},
     "output_type": "execute_result"
    }
   ],
   "source": [
    "from sklearn.metrics import classification_report, confusion_matrix, accuracy_score\n",
    "accuracy_score(y,t_test)"
   ]
  },
  {
   "cell_type": "code",
   "execution_count": 65,
   "metadata": {},
   "outputs": [
    {
     "data": {
      "image/png": "[encoded data removed]",
      "text/plain": [
       "<Figure size 1152x576 with 2 Axes>"
      ]
     },
     "metadata": {
      "needs_background": "light"
     },
     "output_type": "display_data"
    }
   ],
   "source": [
    "import seaborn.apionly as sns\n",
    "cm = confusion_matrix(y,t_test)\n",
    "plt.figure(figsize=(16,8))\n",
    "hm = sns.heatmap(cm,\n",
    "                 cbar=True,\n",
    "                 annot=True,\n",
    "                 square=True,\n",
    "                 fmt='3d',\n",
    "                 annot_kws={'size': 8},\n",
    "                 cmap = cmap)\n",
    "plt.tight_layout()\n",
    "plt.show()"
   ]
  },
  {
   "cell_type": "code",
   "execution_count": 66,
   "metadata": {},
   "outputs": [
    {
     "name": "stdout",
     "output_type": "stream",
     "text": [
      "              precision    recall  f1-score   support\n",
      "\n",
      "           0       0.72      0.79      0.75       217\n",
      "           1       0.73      0.65      0.69       318\n",
      "           2       0.71      0.72      0.71       300\n",
      "           3       0.64      0.75      0.69       272\n",
      "           4       0.74      0.72      0.73       286\n",
      "           5       0.79      0.78      0.78       300\n",
      "           6       0.79      0.79      0.79       298\n",
      "           7       0.86      0.68      0.76       338\n",
      "           8       0.87      0.89      0.88       298\n",
      "           9       0.84      0.90      0.87       294\n",
      "          10       0.95      0.85      0.90       340\n",
      "          11       0.90      0.90      0.90       298\n",
      "          12       0.71      0.72      0.72       274\n",
      "          13       0.83      0.80      0.82       290\n",
      "          14       0.88      0.87      0.87       291\n",
      "          15       0.94      0.68      0.79       471\n",
      "          16       0.88      0.74      0.81       297\n",
      "          17       0.92      0.89      0.90       287\n",
      "          18       0.63      0.97      0.77       150\n",
      "          19       0.18      1.00      0.31        35\n",
      "\n",
      "    accuracy                           0.79      5654\n",
      "   macro avg       0.78      0.81      0.77      5654\n",
      "weighted avg       0.81      0.79      0.79      5654\n",
      "\n"
     ]
    }
   ],
   "source": [
    "print(classification_report(y,t_test))"
   ]
  },
  {
   "cell_type": "code",
   "execution_count": 77,
   "metadata": {},
   "outputs": [
    {
     "name": "stdout",
     "output_type": "stream",
     "text": [
      "0.6970286522815705\n"
     ]
    }
   ],
   "source": [
    "from sklearn.svm import SVC\n",
    "clf_svm = SVC(kernel='rbf', class_weight='balanced', C=1e3, gamma=0.0001)\n",
    "\n",
    "clf_svm = clf_svm.fit(X_train, t_train)\n",
    "y_svm = clf_svm.predict(X_test)\n",
    "print(accuracy_score(y_svm,t_test))"
   ]
  },
  {
   "cell_type": "code",
   "execution_count": 78,
   "metadata": {},
   "outputs": [
    {
     "data": {
      "image/png": "[encoded data removed]",
      "text/plain": [
       "<Figure size 1152x576 with 2 Axes>"
      ]
     },
     "metadata": {
      "needs_background": "light"
     },
     "output_type": "display_data"
    }
   ],
   "source": [
    "cm = confusion_matrix(y_svm,t_test)\n",
    "plt.figure(figsize=(16,8))\n",
    "hm = sns.heatmap(cm,cbar=True,annot=True,square=True, fmt='3d', annot_kws={'size': 8}, cmap = cmap)\n",
    "plt.tight_layout()\n",
    "plt.show()"
   ]
  },
  {
   "cell_type": "code",
   "execution_count": 69,
   "metadata": {},
   "outputs": [
    {
     "name": "stdout",
     "output_type": "stream",
     "text": [
      "0.7854616200919703\n"
     ]
    }
   ],
   "source": [
    "# Training Support Vector Machines - SVM and calculating its performance\n",
    "\n",
    "from sklearn.linear_model import SGDClassifier\n",
    "text_clf_svm = SGDClassifier(loss='hinge', penalty='l2',alpha=1e-3, max_iter=50, random_state=42)\n",
    "\n",
    "text_clf_svm = text_clf_svm.fit(X_train, t_train)\n",
    "y_sgd = text_clf_svm.predict(X_test)\n",
    "print(accuracy_score(y_sgd,t_test))"
   ]
  },
  {
   "cell_type": "code",
   "execution_count": 68,
   "metadata": {},
   "outputs": [
    {
     "name": "stdout",
     "output_type": "stream",
     "text": [
      "0.6888928192430138\n"
     ]
    }
   ],
   "source": [
    "text_clf_lr = SGDClassifier(loss='log', penalty='l2',alpha=1e-3, max_iter=15, random_state=42)\n",
    "\n",
    "text_clf_lr = text_clf_lr.fit(X_train, t_train)\n",
    "y_lr = text_clf_lr.predict(X_test)\n",
    "print(accuracy_score(y_lr,t_test))"
   ]
  },
  {
   "cell_type": "code",
   "execution_count": 70,
   "metadata": {},
   "outputs": [],
   "source": [
    "from sklearn.model_selection import GridSearchCV\n",
    "parameters = {'alpha': (1e-2, 1e-3)}"
   ]
  },
  {
   "cell_type": "code",
   "execution_count": 71,
   "metadata": {},
   "outputs": [],
   "source": [
    "gs_clf = GridSearchCV(text_clf_svm, parameters, n_jobs=-1)\n",
    "gs_clf = gs_clf.fit(X_red, t)"
   ]
  },
  {
   "cell_type": "code",
   "execution_count": 76,
   "metadata": {},
   "outputs": [
    {
     "name": "stdout",
     "output_type": "stream",
     "text": [
      "0.7760269066438269\n",
      "{'alpha': 0.001}\n"
     ]
    }
   ],
   "source": [
    "print(gs_clf.best_score_)\n",
    "print(gs_clf.best_params_)"
   ]
  },
  {
   "cell_type": "code",
   "execution_count": null,
   "metadata": {},
   "outputs": [],
   "source": []
  }
 ],
 "metadata": {
  "anaconda-cloud": {},
  "kernelspec": {
   "display_name": "Python 3",
   "language": "python",
   "name": "python3"
  },
  "language_info": {
   "codemirror_mode": {
    "name": "ipython",
    "version": 3
   },
   "file_extension": ".py",
   "mimetype": "text/x-python",
   "name": "python",
   "nbconvert_exporter": "python",
   "pygments_lexer": "ipython3",
   "version": "3.7.4"
  }
 },
 "nbformat": 4,
 "nbformat_minor": 4
}
