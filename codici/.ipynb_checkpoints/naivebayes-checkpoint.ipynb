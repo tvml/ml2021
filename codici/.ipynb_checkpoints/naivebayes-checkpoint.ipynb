{
 "cells": [
  {
   "cell_type": "code",
   "execution_count": 1,
   "metadata": {},
   "outputs": [],
   "source": [
    "%matplotlib inline\n",
    "from sklearn.naive_bayes import MultinomialNB\n",
    "from sklearn.metrics import accuracy_score\n",
    "import numpy as np\n",
    "import scipy.io as io\n",
    "import matplotlib.pyplot as plt"
   ]
  },
  {
   "cell_type": "code",
   "execution_count": 2,
   "metadata": {},
   "outputs": [],
   "source": [
    "plt.style.use('fivethirtyeight')\n",
    "\n",
    "plt.rcParams['font.family'] = 'sans-serif'\n",
    "plt.rcParams['font.serif'] = 'Ubuntu'\n",
    "plt.rcParams['font.monospace'] = 'Ubuntu Mono'\n",
    "plt.rcParams['font.size'] = 10\n",
    "plt.rcParams['axes.labelsize'] = 10\n",
    "plt.rcParams['axes.labelweight'] = 'bold'\n",
    "plt.rcParams['axes.titlesize'] = 10\n",
    "plt.rcParams['xtick.labelsize'] = 8\n",
    "plt.rcParams['ytick.labelsize'] = 8\n",
    "plt.rcParams['legend.fontsize'] = 10\n",
    "plt.rcParams['figure.titlesize'] = 12\n",
    "plt.rcParams['image.cmap'] = 'jet'\n",
    "plt.rcParams['image.interpolation'] = 'none'\n",
    "plt.rcParams['figure.figsize'] = (16, 8)\n",
    "plt.rcParams['lines.linewidth'] = 2\n",
    "\n",
    "colors = ['#008fd5', '#fc4f30', '#e5ae38', '#6d904f', '#8b8b8b', '#810f7c', '#137e6d', '#be0119', '#3b638c', '#af6f09',\n",
    "         '#c79fef', '#80f9ad']"
   ]
  },
  {
   "cell_type": "code",
   "execution_count": 3,
   "metadata": {},
   "outputs": [],
   "source": [
    "import urllib.request\n",
    "\n",
    "filepath = \"../dataset/\"\n",
    "url = \"https://tvml.github.io/ml1920/dataset/\"\n",
    "\n",
    "def get_file(filename,local):\n",
    "    if local:\n",
    "        return filepath+filename\n",
    "    else:\n",
    "        urllib.request.urlretrieve (url+filename, filename)\n",
    "        return filename"
   ]
  },
  {
   "cell_type": "markdown",
   "metadata": {},
   "source": [
    "Legge il dataset"
   ]
  },
  {
   "cell_type": "code",
   "execution_count": 4,
   "metadata": {},
   "outputs": [],
   "source": [
    "data = io.loadmat(get_file(\"XwindowsDocData.mat\",local=0))\n",
    "\n",
    "xtrain = data['xtrain']\n",
    "ytrain = data['ytrain']\n",
    "\n",
    "ndocs = xtrain.shape[0] \n",
    "nterms = xtrain.shape[1]\n",
    "classes = np.unique(ytrain)\n",
    "nclasses = classes.shape[0]"
   ]
  },
  {
   "cell_type": "code",
   "execution_count": 5,
   "metadata": {},
   "outputs": [
    {
     "data": {
      "text/plain": [
       "array([[array(['straight'], dtype='<U8')],\n",
       "       [array(['magazines'], dtype='<U9')],\n",
       "       [array(['issues'], dtype='<U6')],\n",
       "       [array(['ray'], dtype='<U3')],\n",
       "       [array(['enabled'], dtype='<U7')],\n",
       "       [array(['head'], dtype='<U4')],\n",
       "       [array(['improved'], dtype='<U8')],\n",
       "       [array(['thread'], dtype='<U6')],\n",
       "       [array(['libs'], dtype='<U4')],\n",
       "       [array(['working'], dtype='<U7')],\n",
       "       [array(['presented'], dtype='<U9')],\n",
       "       [array(['exactly'], dtype='<U7')],\n",
       "       [array(['downloaded'], dtype='<U10')],\n",
       "       [array(['hoping'], dtype='<U6')],\n",
       "       [array(['described'], dtype='<U9')],\n",
       "       [array(['difficult'], dtype='<U9')],\n",
       "       [array(['wclriscspsmotcom'], dtype='<U16')],\n",
       "       [array(['remember'], dtype='<U8')],\n",
       "       [array(['company'], dtype='<U7')],\n",
       "       [array(['icons'], dtype='<U5')],\n",
       "       [array(['hundred'], dtype='<U7')],\n",
       "       [array(['knowing'], dtype='<U7')],\n",
       "       [array(['apart'], dtype='<U5')],\n",
       "       [array(['found'], dtype='<U5')],\n",
       "       [array(['closed'], dtype='<U6')],\n",
       "       [array(['acceptable'], dtype='<U10')],\n",
       "       [array(['customization'], dtype='<U13')],\n",
       "       [array(['server'], dtype='<U6')],\n",
       "       [array(['interfaces'], dtype='<U10')],\n",
       "       [array(['suggest'], dtype='<U7')],\n",
       "       [array(['became'], dtype='<U6')],\n",
       "       [array(['native'], dtype='<U6')],\n",
       "       [array(['population'], dtype='<U10')],\n",
       "       [array(['lest'], dtype='<U4')],\n",
       "       [array(['teach'], dtype='<U5')],\n",
       "       [array(['quickly'], dtype='<U7')],\n",
       "       [array(['windowsbased'], dtype='<U12')],\n",
       "       [array(['boot'], dtype='<U4')],\n",
       "       [array(['named'], dtype='<U5')],\n",
       "       [array(['forget'], dtype='<U6')],\n",
       "       [array(['neat'], dtype='<U4')],\n",
       "       [array(['iii'], dtype='<U3')],\n",
       "       [array(['replacing'], dtype='<U9')],\n",
       "       [array(['aerospace'], dtype='<U9')],\n",
       "       [array(['dragging'], dtype='<U8')],\n",
       "       [array(['change'], dtype='<U6')],\n",
       "       [array(['fancy'], dtype='<U5')],\n",
       "       [array(['viewer'], dtype='<U6')],\n",
       "       [array(['computer'], dtype='<U8')],\n",
       "       [array(['reserved'], dtype='<U8')],\n",
       "       [array(['static'], dtype='<U6')],\n",
       "       [array(['robert'], dtype='<U6')],\n",
       "       [array(['almost'], dtype='<U6')],\n",
       "       [array(['doubt'], dtype='<U5')],\n",
       "       [array(['eventually'], dtype='<U10')],\n",
       "       [array(['only'], dtype='<U4')],\n",
       "       [array(['body'], dtype='<U4')],\n",
       "       [array(['vital'], dtype='<U5')],\n",
       "       [array(['customers'], dtype='<U9')],\n",
       "       [array(['desperately'], dtype='<U11')],\n",
       "       [array(['corp'], dtype='<U4')],\n",
       "       [array(['move'], dtype='<U4')],\n",
       "       [array(['chances'], dtype='<U7')],\n",
       "       [array(['commands'], dtype='<U8')],\n",
       "       [array(['lot'], dtype='<U3')],\n",
       "       [array(['additional'], dtype='<U10')],\n",
       "       [array(['under'], dtype='<U5')],\n",
       "       [array(['compilers'], dtype='<U9')],\n",
       "       [array(['engineering'], dtype='<U11')],\n",
       "       [array(['advocate'], dtype='<U8')],\n",
       "       [array(['internet'], dtype='<U8')],\n",
       "       [array(['come'], dtype='<U4')],\n",
       "       [array(['solaris'], dtype='<U7')],\n",
       "       [array(['dale'], dtype='<U4')],\n",
       "       [array(['necessary'], dtype='<U9')],\n",
       "       [array(['requirements'], dtype='<U12')],\n",
       "       [array(['microsoft'], dtype='<U9')],\n",
       "       [array(['highquality'], dtype='<U11')],\n",
       "       [array(['introduced'], dtype='<U10')],\n",
       "       [array(['purchased'], dtype='<U9')],\n",
       "       [array(['might'], dtype='<U5')],\n",
       "       [array(['location'], dtype='<U8')],\n",
       "       [array(['products'], dtype='<U8')],\n",
       "       [array(['load'], dtype='<U4')],\n",
       "       [array(['buggy'], dtype='<U5')],\n",
       "       [array(['faq'], dtype='<U3')],\n",
       "       [array(['alot'], dtype='<U4')],\n",
       "       [array(['ware'], dtype='<U4')],\n",
       "       [array(['noted'], dtype='<U5')],\n",
       "       [array(['output'], dtype='<U6')],\n",
       "       [array(['corresponding'], dtype='<U13')],\n",
       "       [array(['translation'], dtype='<U11')],\n",
       "       [array(['technology'], dtype='<U10')],\n",
       "       [array(['accurate'], dtype='<U8')],\n",
       "       [array(['goal'], dtype='<U4')],\n",
       "       [array(['process'], dtype='<U7')],\n",
       "       [array(['mileage'], dtype='<U7')],\n",
       "       [array(['intel'], dtype='<U5')],\n",
       "       [array(['live'], dtype='<U4')],\n",
       "       [array(['didnt'], dtype='<U5')],\n",
       "       [array(['facility'], dtype='<U8')],\n",
       "       [array(['aspect'], dtype='<U6')],\n",
       "       [array(['annoying'], dtype='<U8')],\n",
       "       [array(['center'], dtype='<U6')],\n",
       "       [array(['maps'], dtype='<U4')],\n",
       "       [array(['sharing'], dtype='<U7')],\n",
       "       [array(['subject'], dtype='<U7')],\n",
       "       [array(['dedicated'], dtype='<U9')],\n",
       "       [array(['supposed'], dtype='<U8')],\n",
       "       [array(['thomas'], dtype='<U6')],\n",
       "       [array(['happy'], dtype='<U5')],\n",
       "       [array(['forms'], dtype='<U5')],\n",
       "       [array(['mention'], dtype='<U7')],\n",
       "       [array(['names'], dtype='<U5')],\n",
       "       [array(['flavors'], dtype='<U7')],\n",
       "       [array(['prefer'], dtype='<U6')],\n",
       "       [array(['hours'], dtype='<U5')],\n",
       "       [array(['columbia'], dtype='<U8')],\n",
       "       [array(['main'], dtype='<U4')],\n",
       "       [array(['things'], dtype='<U6')],\n",
       "       [array(['clean'], dtype='<U5')],\n",
       "       [array(['framework'], dtype='<U9')],\n",
       "       [array(['string'], dtype='<U6')],\n",
       "       [array(['cutting'], dtype='<U7')],\n",
       "       [array(['cluster'], dtype='<U7')],\n",
       "       [array(['cards'], dtype='<U5')],\n",
       "       [array(['took'], dtype='<U4')],\n",
       "       [array(['pool'], dtype='<U4')],\n",
       "       [array(['addresses'], dtype='<U9')],\n",
       "       [array(['interpret'], dtype='<U9')],\n",
       "       [array(['significantly'], dtype='<U13')],\n",
       "       [array(['winsock'], dtype='<U7')],\n",
       "       [array(['disappear'], dtype='<U9')],\n",
       "       [array(['double'], dtype='<U6')],\n",
       "       [array(['statement'], dtype='<U9')],\n",
       "       [array(['workspace'], dtype='<U9')],\n",
       "       [array(['recomend'], dtype='<U8')],\n",
       "       [array(['fast'], dtype='<U4')],\n",
       "       [array(['green'], dtype='<U5')],\n",
       "       [array(['workstation'], dtype='<U11')],\n",
       "       [array(['space'], dtype='<U5')],\n",
       "       [array(['setup'], dtype='<U5')],\n",
       "       [array(['neither'], dtype='<U7')],\n",
       "       [array(['motherboard'], dtype='<U11')],\n",
       "       [array(['hierarchy'], dtype='<U9')],\n",
       "       [array(['friends'], dtype='<U7')],\n",
       "       [array(['alright'], dtype='<U7')],\n",
       "       [array(['appears'], dtype='<U7')],\n",
       "       [array(['launching'], dtype='<U9')],\n",
       "       [array(['mess'], dtype='<U4')],\n",
       "       [array(['paste'], dtype='<U5')],\n",
       "       [array(['anonymous'], dtype='<U9')],\n",
       "       [array(['show'], dtype='<U4')],\n",
       "       [array(['though'], dtype='<U6')],\n",
       "       [array(['someday'], dtype='<U7')],\n",
       "       [array(['adress'], dtype='<U6')],\n",
       "       [array(['biggest'], dtype='<U7')],\n",
       "       [array(['product'], dtype='<U7')],\n",
       "       [array(['pops'], dtype='<U4')],\n",
       "       [array(['prove'], dtype='<U5')],\n",
       "       [array(['possibly'], dtype='<U8')],\n",
       "       [array(['carefully'], dtype='<U9')],\n",
       "       [array(['attached'], dtype='<U8')],\n",
       "       [array(['kent'], dtype='<U4')],\n",
       "       [array(['reached'], dtype='<U7')],\n",
       "       [array(['circles'], dtype='<U7')],\n",
       "       [array(['hunter'], dtype='<U6')],\n",
       "       [array(['fred'], dtype='<U4')],\n",
       "       [array(['fully'], dtype='<U5')],\n",
       "       [array(['dortmund'], dtype='<U8')],\n",
       "       [array(['james'], dtype='<U5')],\n",
       "       [array(['bryan'], dtype='<U5')],\n",
       "       [array(['entries'], dtype='<U7')],\n",
       "       [array(['seperate'], dtype='<U8')],\n",
       "       [array(['disabled'], dtype='<U8')],\n",
       "       [array(['especially'], dtype='<U10')],\n",
       "       [array(['assumed'], dtype='<U7')],\n",
       "       [array(['allocation'], dtype='<U10')],\n",
       "       [array(['interesting'], dtype='<U11')],\n",
       "       [array(['converting'], dtype='<U10')],\n",
       "       [array(['durham'], dtype='<U6')],\n",
       "       [array(['none'], dtype='<U4')],\n",
       "       [array(['jon'], dtype='<U3')],\n",
       "       [array(['corner'], dtype='<U6')],\n",
       "       [array(['sciences'], dtype='<U8')],\n",
       "       [array(['exists'], dtype='<U6')],\n",
       "       [array(['accepted'], dtype='<U8')],\n",
       "       [array(['issue'], dtype='<U5')],\n",
       "       [array(['heck'], dtype='<U4')],\n",
       "       [array(['yourself'], dtype='<U8')],\n",
       "       [array(['plain'], dtype='<U5')],\n",
       "       [array(['vms'], dtype='<U3')],\n",
       "       [array(['archie'], dtype='<U6')],\n",
       "       [array(['pcx'], dtype='<U3')],\n",
       "       [array(['servers'], dtype='<U7')],\n",
       "       [array(['killing'], dtype='<U7')],\n",
       "       [array(['linear'], dtype='<U6')],\n",
       "       [array(['sometime'], dtype='<U8')],\n",
       "       [array(['navigate'], dtype='<U8')],\n",
       "       [array(['stock'], dtype='<U5')],\n",
       "       [array(['however'], dtype='<U7')],\n",
       "       [array(['diplinform'], dtype='<U10')],\n",
       "       [array(['sense'], dtype='<U5')],\n",
       "       [array(['fail'], dtype='<U4')],\n",
       "       [array(['winter'], dtype='<U6')],\n",
       "       [array(['michael'], dtype='<U7')],\n",
       "       [array(['grep'], dtype='<U4')],\n",
       "       [array(['expects'], dtype='<U7')],\n",
       "       [array(['dos'], dtype='<U3')],\n",
       "       [array(['eps'], dtype='<U3')],\n",
       "       [array(['together'], dtype='<U8')],\n",
       "       [array(['programmers'], dtype='<U11')],\n",
       "       [array(['resize'], dtype='<U6')],\n",
       "       [array(['characters'], dtype='<U10')],\n",
       "       [array(['module'], dtype='<U6')],\n",
       "       [array(['specification'], dtype='<U13')],\n",
       "       [array(['whatever'], dtype='<U8')],\n",
       "       [array(['viewing'], dtype='<U7')],\n",
       "       [array(['which'], dtype='<U5')],\n",
       "       [array(['expressed'], dtype='<U9')],\n",
       "       [array(['toolkits'], dtype='<U8')],\n",
       "       [array(['mgr'], dtype='<U3')],\n",
       "       [array(['papers'], dtype='<U6')],\n",
       "       [array(['terminates'], dtype='<U10')],\n",
       "       [array(['these'], dtype='<U5')],\n",
       "       [array(['this'], dtype='<U4')],\n",
       "       [array(['mike'], dtype='<U4')],\n",
       "       [array(['carl'], dtype='<U4')],\n",
       "       [array(['env'], dtype='<U3')],\n",
       "       [array(['south'], dtype='<U5')],\n",
       "       [array(['bbs'], dtype='<U3')],\n",
       "       [array(['compiling'], dtype='<U9')],\n",
       "       [array(['smart'], dtype='<U5')],\n",
       "       [array(['nifty'], dtype='<U5')],\n",
       "       [array(['responded'], dtype='<U9')],\n",
       "       [array(['afford'], dtype='<U6')],\n",
       "       [array(['references'], dtype='<U10')],\n",
       "       [array(['fitting'], dtype='<U7')],\n",
       "       [array(['speeding'], dtype='<U8')],\n",
       "       [array(['prefered'], dtype='<U8')],\n",
       "       [array(['item'], dtype='<U4')],\n",
       "       [array(['supplied'], dtype='<U8')],\n",
       "       [array(['int'], dtype='<U3')],\n",
       "       [array(['auto'], dtype='<U4')],\n",
       "       [array(['redistribution'], dtype='<U14')],\n",
       "       [array(['out'], dtype='<U3')],\n",
       "       [array(['employee'], dtype='<U8')],\n",
       "       [array(['finger'], dtype='<U6')],\n",
       "       [array(['inactive'], dtype='<U8')],\n",
       "       [array(['compuserve'], dtype='<U10')],\n",
       "       [array(['step'], dtype='<U4')],\n",
       "       [array(['per'], dtype='<U3')],\n",
       "       [array(['less'], dtype='<U4')],\n",
       "       [array(['odd'], dtype='<U3')],\n",
       "       [array(['across'], dtype='<U6')],\n",
       "       [array(['details'], dtype='<U7')],\n",
       "       [array(['pitfalls'], dtype='<U8')],\n",
       "       [array(['eat'], dtype='<U3')],\n",
       "       [array(['accept'], dtype='<U6')],\n",
       "       [array(['replacement'], dtype='<U11')],\n",
       "       [array(['hasnt'], dtype='<U5')],\n",
       "       [array(['california'], dtype='<U10')],\n",
       "       [array(['alternative'], dtype='<U11')],\n",
       "       [array(['saved'], dtype='<U5')],\n",
       "       [array(['commandline'], dtype='<U11')],\n",
       "       [array(['pain'], dtype='<U4')],\n",
       "       [array(['correct'], dtype='<U7')],\n",
       "       [array(['errors'], dtype='<U6')],\n",
       "       [array(['taxes'], dtype='<U5')],\n",
       "       [array(['source'], dtype='<U6')],\n",
       "       [array(['capabilities'], dtype='<U12')],\n",
       "       [array(['utilities'], dtype='<U9')],\n",
       "       [array(['desqview'], dtype='<U8')],\n",
       "       [array(['edition'], dtype='<U7')],\n",
       "       [array(['but'], dtype='<U3')],\n",
       "       [array(['faster'], dtype='<U6')],\n",
       "       [array(['will'], dtype='<U4')],\n",
       "       [array(['basis'], dtype='<U5')],\n",
       "       [array(['components'], dtype='<U10')],\n",
       "       [array(['libraries'], dtype='<U9')],\n",
       "       [array(['taking'], dtype='<U6')],\n",
       "       [array(['unless'], dtype='<U6')],\n",
       "       [array(['code'], dtype='<U4')],\n",
       "       [array(['pcs'], dtype='<U3')],\n",
       "       [array(['aliases'], dtype='<U7')],\n",
       "       [array(['monitors'], dtype='<U8')],\n",
       "       [array(['holding'], dtype='<U7')],\n",
       "       [array(['day'], dtype='<U3')],\n",
       "       [array(['consultants'], dtype='<U11')],\n",
       "       [array(['employer'], dtype='<U8')],\n",
       "       [array(['commercial'], dtype='<U10')],\n",
       "       [array(['experience'], dtype='<U10')],\n",
       "       [array(['protection'], dtype='<U10')],\n",
       "       [array(['hung'], dtype='<U4')],\n",
       "       [array(['mfc'], dtype='<U3')],\n",
       "       [array(['useful'], dtype='<U6')],\n",
       "       [array(['nsw'], dtype='<U3')],\n",
       "       [array(['says'], dtype='<U4')],\n",
       "       [array(['mywindow'], dtype='<U8')],\n",
       "       [array(['higher'], dtype='<U6')],\n",
       "       [array(['tasks'], dtype='<U5')],\n",
       "       [array(['packard'], dtype='<U7')],\n",
       "       [array(['joel'], dtype='<U4')],\n",
       "       [array(['unknown'], dtype='<U7')],\n",
       "       [array(['costs'], dtype='<U5')],\n",
       "       [array(['fall'], dtype='<U4')],\n",
       "       [array(['hardware'], dtype='<U8')],\n",
       "       [array(['wanting'], dtype='<U7')],\n",
       "       [array(['occured'], dtype='<U7')],\n",
       "       [array(['meaning'], dtype='<U7')],\n",
       "       [array(['increases'], dtype='<U9')],\n",
       "       [array(['involves'], dtype='<U8')],\n",
       "       [array(['select'], dtype='<U6')],\n",
       "       [array(['popup'], dtype='<U5')],\n",
       "       [array(['dozen'], dtype='<U5')],\n",
       "       [array(['front'], dtype='<U5')],\n",
       "       [array(['article'], dtype='<U7')],\n",
       "       [array(['guys'], dtype='<U4')],\n",
       "       [array(['brevity'], dtype='<U7')],\n",
       "       [array(['runtime'], dtype='<U7')],\n",
       "       [array(['draw'], dtype='<U4')],\n",
       "       [array(['suppose'], dtype='<U7')],\n",
       "       [array(['resizing'], dtype='<U8')],\n",
       "       [array(['appear'], dtype='<U6')],\n",
       "       [array(['ones'], dtype='<U4')],\n",
       "       [array(['letter'], dtype='<U6')],\n",
       "       [array(['wife'], dtype='<U4')],\n",
       "       [array(['mainly'], dtype='<U6')],\n",
       "       [array(['subjects'], dtype='<U8')],\n",
       "       [array(['march'], dtype='<U5')],\n",
       "       [array(['hundreds'], dtype='<U8')],\n",
       "       [array(['save'], dtype='<U4')],\n",
       "       [array(['advanced'], dtype='<U8')],\n",
       "       [array(['berry'], dtype='<U5')],\n",
       "       [array(['icon'], dtype='<U4')],\n",
       "       [array(['government'], dtype='<U10')],\n",
       "       [array(['alter'], dtype='<U5')],\n",
       "       [array(['duplicate'], dtype='<U9')],\n",
       "       [array(['configuring'], dtype='<U11')],\n",
       "       [array(['cache'], dtype='<U5')],\n",
       "       [array(['thats'], dtype='<U5')],\n",
       "       [array(['macro'], dtype='<U5')],\n",
       "       [array(['successful'], dtype='<U10')],\n",
       "       [array(['jan'], dtype='<U3')],\n",
       "       [array(['chunks'], dtype='<U6')],\n",
       "       [array(['temporary'], dtype='<U9')],\n",
       "       [array(['setting'], dtype='<U7')],\n",
       "       [array(['excuse'], dtype='<U6')],\n",
       "       [array(['digital'], dtype='<U7')],\n",
       "       [array(['cpu'], dtype='<U3')],\n",
       "       [array(['levels'], dtype='<U6')],\n",
       "       [array(['perhaps'], dtype='<U7')],\n",
       "       [array(['sending'], dtype='<U7')],\n",
       "       [array(['gurus'], dtype='<U5')],\n",
       "       [array(['cover'], dtype='<U5')],\n",
       "       [array(['find'], dtype='<U4')],\n",
       "       [array(['trade'], dtype='<U5')],\n",
       "       [array(['alternatives'], dtype='<U12')],\n",
       "       [array(['allocate'], dtype='<U8')],\n",
       "       [array(['impossible'], dtype='<U10')],\n",
       "       [array(['both'], dtype='<U4')],\n",
       "       [array(['her'], dtype='<U3')],\n",
       "       [array(['les'], dtype='<U3')],\n",
       "       [array(['parallel'], dtype='<U8')],\n",
       "       [array(['leon'], dtype='<U4')],\n",
       "       [array(['solid'], dtype='<U5')],\n",
       "       [array(['linked'], dtype='<U6')],\n",
       "       [array(['maximum'], dtype='<U7')],\n",
       "       [array(['sparc'], dtype='<U5')],\n",
       "       [array(['replaced'], dtype='<U8')],\n",
       "       [array(['spaces'], dtype='<U6')],\n",
       "       [array(['encountered'], dtype='<U11')],\n",
       "       [array(['doesnt'], dtype='<U6')],\n",
       "       [array(['variants'], dtype='<U8')],\n",
       "       [array(['roberts'], dtype='<U7')],\n",
       "       [array(['scsi'], dtype='<U4')],\n",
       "       [array(['access'], dtype='<U6')],\n",
       "       [array(['download'], dtype='<U8')],\n",
       "       [array(['windows'], dtype='<U7')],\n",
       "       [array(['incompatible'], dtype='<U12')],\n",
       "       [array(['quarterly'], dtype='<U9')],\n",
       "       [array(['ignore'], dtype='<U6')],\n",
       "       [array(['ease'], dtype='<U4')],\n",
       "       [array(['incorrectly'], dtype='<U11')],\n",
       "       [array(['chad'], dtype='<U4')],\n",
       "       [array(['registered'], dtype='<U10')],\n",
       "       [array(['exited'], dtype='<U6')],\n",
       "       [array(['printed'], dtype='<U7')],\n",
       "       [array(['put'], dtype='<U3')],\n",
       "       [array(['consideration'], dtype='<U13')],\n",
       "       [array(['redirect'], dtype='<U8')],\n",
       "       [array(['sigma'], dtype='<U5')],\n",
       "       [array(['too'], dtype='<U3')],\n",
       "       [array(['cursors'], dtype='<U7')],\n",
       "       [array(['don'], dtype='<U3')],\n",
       "       [array(['units'], dtype='<U5')],\n",
       "       [array(['bought'], dtype='<U6')],\n",
       "       [array(['copyright'], dtype='<U9')],\n",
       "       [array(['during'], dtype='<U6')],\n",
       "       [array(['serious'], dtype='<U7')],\n",
       "       [array(['further'], dtype='<U7')],\n",
       "       [array(['property'], dtype='<U8')],\n",
       "       [array(['week'], dtype='<U4')],\n",
       "       [array(['administrators'], dtype='<U14')],\n",
       "       [array(['improvements'], dtype='<U12')],\n",
       "       [array(['looks'], dtype='<U5')],\n",
       "       [array(['generator'], dtype='<U9')],\n",
       "       [array(['vary'], dtype='<U4')],\n",
       "       [array(['were'], dtype='<U4')],\n",
       "       [array(['mario'], dtype='<U5')],\n",
       "       [array(['starting'], dtype='<U8')],\n",
       "       [array(['derek'], dtype='<U5')],\n",
       "       [array(['correctly'], dtype='<U9')],\n",
       "       [array(['addition'], dtype='<U8')],\n",
       "       [array(['separated'], dtype='<U9')],\n",
       "       [array(['ran'], dtype='<U3')],\n",
       "       [array(['marlow'], dtype='<U6')],\n",
       "       [array(['versus'], dtype='<U6')],\n",
       "       [array(['occasional'], dtype='<U10')],\n",
       "       [array(['recognition'], dtype='<U11')],\n",
       "       [array(['take'], dtype='<U4')],\n",
       "       [array(['public'], dtype='<U6')],\n",
       "       [array(['valuable'], dtype='<U8')],\n",
       "       [array(['theyre'], dtype='<U6')],\n",
       "       [array(['formatted'], dtype='<U9')],\n",
       "       [array(['buying'], dtype='<U6')],\n",
       "       [array(['dropped'], dtype='<U7')],\n",
       "       [array(['assumptions'], dtype='<U11')],\n",
       "       [array(['leaving'], dtype='<U7')],\n",
       "       [array(['initial'], dtype='<U7')],\n",
       "       [array(['integrated'], dtype='<U10')],\n",
       "       [array(['bandwidth'], dtype='<U9')],\n",
       "       [array(['preferably'], dtype='<U10')],\n",
       "       [array(['build'], dtype='<U5')],\n",
       "       [array(['connection'], dtype='<U10')],\n",
       "       [array(['win'], dtype='<U3')],\n",
       "       [array(['driver'], dtype='<U6')],\n",
       "       [array(['transfers'], dtype='<U9')],\n",
       "       [array(['vram'], dtype='<U4')],\n",
       "       [array(['otherwise'], dtype='<U9')],\n",
       "       [array(['testing'], dtype='<U7')],\n",
       "       [array(['resource'], dtype='<U8')],\n",
       "       [array(['depending'], dtype='<U9')],\n",
       "       [array(['received'], dtype='<U8')],\n",
       "       [array(['with'], dtype='<U4')],\n",
       "       [array(['puts'], dtype='<U4')],\n",
       "       [array(['wondering'], dtype='<U9')],\n",
       "       [array(['station'], dtype='<U7')],\n",
       "       [array(['acts'], dtype='<U4')],\n",
       "       [array(['beta'], dtype='<U4')],\n",
       "       [array(['monitor'], dtype='<U7')],\n",
       "       [array(['wanted'], dtype='<U6')],\n",
       "       [array(['jumpers'], dtype='<U7')],\n",
       "       [array(['discussions'], dtype='<U11')],\n",
       "       [array(['drives'], dtype='<U6')],\n",
       "       [array(['communications'], dtype='<U14')],\n",
       "       [array(['drops'], dtype='<U5')],\n",
       "       [array(['reboot'], dtype='<U6')],\n",
       "       [array(['delete'], dtype='<U6')],\n",
       "       [array(['optionally'], dtype='<U10')],\n",
       "       [array(['grant'], dtype='<U5')],\n",
       "       [array(['packet'], dtype='<U6')],\n",
       "       [array(['rob'], dtype='<U3')],\n",
       "       [array(['joe'], dtype='<U3')],\n",
       "       [array(['index'], dtype='<U5')],\n",
       "       [array(['you'], dtype='<U3')],\n",
       "       [array(['uses'], dtype='<U4')],\n",
       "       [array(['alex'], dtype='<U4')],\n",
       "       [array(['retrieval'], dtype='<U9')],\n",
       "       [array(['tseng'], dtype='<U5')],\n",
       "       [array(['builtin'], dtype='<U7')],\n",
       "       [array(['xga'], dtype='<U3')],\n",
       "       [array(['infinite'], dtype='<U8')],\n",
       "       [array(['xterm'], dtype='<U5')],\n",
       "       [array(['doing'], dtype='<U5')],\n",
       "       [array(['brief'], dtype='<U5')],\n",
       "       [array(['split'], dtype='<U5')],\n",
       "       [array(['ultra'], dtype='<U5')],\n",
       "       [array(['properly'], dtype='<U8')],\n",
       "       [array(['sun'], dtype='<U3')],\n",
       "       [array(['aug'], dtype='<U3')],\n",
       "       [array(['corrections'], dtype='<U11')],\n",
       "       [array(['username'], dtype='<U8')],\n",
       "       [array(['introduction'], dtype='<U12')],\n",
       "       [array(['yesterday'], dtype='<U9')],\n",
       "       [array(['mit'], dtype='<U3')],\n",
       "       [array(['lose'], dtype='<U4')],\n",
       "       [array(['broad'], dtype='<U5')],\n",
       "       [array(['evaluation'], dtype='<U10')],\n",
       "       [array(['better'], dtype='<U6')],\n",
       "       [array(['easiest'], dtype='<U7')],\n",
       "       [array(['ipx'], dtype='<U3')],\n",
       "       [array(['handles'], dtype='<U7')],\n",
       "       [array(['section'], dtype='<U7')],\n",
       "       [array(['nasty'], dtype='<U5')],\n",
       "       [array(['tobias'], dtype='<U6')],\n",
       "       [array(['satisfy'], dtype='<U7')],\n",
       "       [array(['young'], dtype='<U5')],\n",
       "       [array(['specs'], dtype='<U5')],\n",
       "       [array(['purpose'], dtype='<U7')],\n",
       "       [array(['behalf'], dtype='<U6')],\n",
       "       [array(['pixels'], dtype='<U6')],\n",
       "       [array(['cartridges'], dtype='<U10')],\n",
       "       [array(['super'], dtype='<U5')],\n",
       "       [array(['docs'], dtype='<U4')],\n",
       "       [array(['complaints'], dtype='<U10')],\n",
       "       [array(['phone'], dtype='<U5')],\n",
       "       [array(['detailed'], dtype='<U8')],\n",
       "       [array(['region'], dtype='<U6')],\n",
       "       [array(['window'], dtype='<U6')],\n",
       "       [array(['never'], dtype='<U5')],\n",
       "       [array(['motif'], dtype='<U5')],\n",
       "       [array(['impact'], dtype='<U6')],\n",
       "       [array(['solution'], dtype='<U8')],\n",
       "       [array(['reply'], dtype='<U5')],\n",
       "       [array(['installation'], dtype='<U12')],\n",
       "       [array(['all'], dtype='<U3')],\n",
       "       [array(['bit'], dtype='<U3')],\n",
       "       [array(['background'], dtype='<U10')],\n",
       "       [array(['new'], dtype='<U3')],\n",
       "       [array(['efficiently'], dtype='<U11')],\n",
       "       [array(['empty'], dtype='<U5')],\n",
       "       [array(['visual'], dtype='<U6')],\n",
       "       [array(['slows'], dtype='<U5')],\n",
       "       [array(['sweden'], dtype='<U6')],\n",
       "       [array(['slightly'], dtype='<U8')],\n",
       "       [array(['scott'], dtype='<U5')],\n",
       "       [array(['toolkit'], dtype='<U7')],\n",
       "       [array(['formatting'], dtype='<U10')],\n",
       "       [array(['hire'], dtype='<U4')],\n",
       "       [array(['instruments'], dtype='<U11')],\n",
       "       [array(['different'], dtype='<U9')],\n",
       "       [array(['standard'], dtype='<U8')],\n",
       "       [array(['fee'], dtype='<U3')],\n",
       "       [array(['unixx'], dtype='<U5')],\n",
       "       [array(['run'], dtype='<U3')],\n",
       "       [array(['hunt'], dtype='<U4')],\n",
       "       [array(['submitted'], dtype='<U9')],\n",
       "       [array(['modification'], dtype='<U12')],\n",
       "       [array(['youve'], dtype='<U5')],\n",
       "       [array(['dec'], dtype='<U3')],\n",
       "       [array(['documented'], dtype='<U10')],\n",
       "       [array(['lost'], dtype='<U4')],\n",
       "       [array(['architecture'], dtype='<U12')],\n",
       "       [array(['unusual'], dtype='<U7')],\n",
       "       [array(['cursor'], dtype='<U6')],\n",
       "       [array(['wont'], dtype='<U4')],\n",
       "       [array(['senior'], dtype='<U6')],\n",
       "       [array(['xserver'], dtype='<U7')],\n",
       "       [array(['retain'], dtype='<U6')],\n",
       "       [array(['editing'], dtype='<U7')],\n",
       "       [array(['selection'], dtype='<U9')],\n",
       "       [array(['federal'], dtype='<U7')],\n",
       "       [array(['fight'], dtype='<U5')],\n",
       "       [array(['ken'], dtype='<U3')],\n",
       "       [array(['invite'], dtype='<U6')],\n",
       "       [array(['off'], dtype='<U3')],\n",
       "       [array(['rev'], dtype='<U3')],\n",
       "       [array(['desired'], dtype='<U7')],\n",
       "       [array(['differ'], dtype='<U6')],\n",
       "       [array(['dither'], dtype='<U6')],\n",
       "       [array(['lower'], dtype='<U5')],\n",
       "       [array(['intend'], dtype='<U6')],\n",
       "       [array(['patel'], dtype='<U5')],\n",
       "       [array(['recall'], dtype='<U6')],\n",
       "       [array(['capability'], dtype='<U10')],\n",
       "       [array(['easily'], dtype='<U6')],\n",
       "       [array(['random'], dtype='<U6')],\n",
       "       [array(['wesley'], dtype='<U6')],\n",
       "       [array(['eisa'], dtype='<U4')],\n",
       "       [array(['adopted'], dtype='<U7')],\n",
       "       [array(['michigan'], dtype='<U8')],\n",
       "       [array(['emulator'], dtype='<U8')],\n",
       "       [array(['reach'], dtype='<U5')],\n",
       "       [array(['stephen'], dtype='<U7')],\n",
       "       [array(['finding'], dtype='<U7')],\n",
       "       [array(['just'], dtype='<U4')],\n",
       "       [array(['single'], dtype='<U6')],\n",
       "       [array(['cycle'], dtype='<U5')],\n",
       "       [array(['field'], dtype='<U5')],\n",
       "       [array(['failure'], dtype='<U7')],\n",
       "       [array(['gifs'], dtype='<U4')],\n",
       "       [array(['forum'], dtype='<U5')],\n",
       "       [array(['wonderful'], dtype='<U9')],\n",
       "       [array(['fixes'], dtype='<U5')],\n",
       "       [array(['micro'], dtype='<U5')],\n",
       "       [array(['keys'], dtype='<U4')],\n",
       "       [array(['now'], dtype='<U3')],\n",
       "       [array(['tue'], dtype='<U3')],\n",
       "       [array(['multiuser'], dtype='<U9')],\n",
       "       [array(['drag'], dtype='<U4')],\n",
       "       [array(['integer'], dtype='<U7')],\n",
       "       [array(['everybody'], dtype='<U9')],\n",
       "       [array(['mostly'], dtype='<U6')],\n",
       "       [array(['description'], dtype='<U11')],\n",
       "       [array(['powerful'], dtype='<U8')],\n",
       "       [array(['redraw'], dtype='<U6')],\n",
       "       [array(['edited'], dtype='<U6')],\n",
       "       [array(['consulting'], dtype='<U10')],\n",
       "       [array(['runs'], dtype='<U4')]], dtype=object)"
      ]
     },
     "execution_count": 5,
     "metadata": {},
     "output_type": "execute_result"
    }
   ],
   "source": [
    "data['vocab']"
   ]
  },
  {
   "cell_type": "code",
   "execution_count": 10,
   "metadata": {},
   "outputs": [
    {
     "data": {
      "text/plain": [
       "(900, 600)"
      ]
     },
     "execution_count": 10,
     "metadata": {},
     "output_type": "execute_result"
    }
   ],
   "source": [
    "xtrain.shape"
   ]
  },
  {
   "cell_type": "code",
   "execution_count": 17,
   "metadata": {},
   "outputs": [
    {
     "name": "stdout",
     "output_type": "stream",
     "text": [
      " 12 termini diversi nel documento, 2.000% di tutto il vocabolario\n",
      "[ 27  61 106 225 252 253 274 282 303 313 474 511]\n"
     ]
    }
   ],
   "source": [
    "l = np.array([xtrain[2,i] for i in range(xtrain.shape[1])]).squeeze()\n",
    "print('{0:3.0f} termini diversi nel documento, {1:5.3f}% di tutto il vocabolario'.format(l.sum(), \n",
    "                l.sum()/xtrain.shape[1]*100))\n",
    "print(np.argwhere(l == 1).reshape(1,-1)[0])"
   ]
  },
  {
   "cell_type": "markdown",
   "metadata": {},
   "source": [
    "Crea un classificatore Naive-Bayes ed effettua il learning sul dataset"
   ]
  },
  {
   "cell_type": "code",
   "execution_count": 18,
   "metadata": {},
   "outputs": [
    {
     "data": {
      "text/plain": [
       "MultinomialNB(alpha=1e-09, class_prior=None, fit_prior=True)"
      ]
     },
     "execution_count": 18,
     "metadata": {},
     "output_type": "execute_result"
    }
   ],
   "source": [
    "clf = MultinomialNB(alpha=1.0e-9)\n",
    "clf.fit(xtrain, ytrain.ravel())"
   ]
  },
  {
   "cell_type": "markdown",
   "metadata": {},
   "source": [
    "Deriva probabilità a priori delle classi $p(C_i)$"
   ]
  },
  {
   "cell_type": "code",
   "execution_count": 24,
   "metadata": {},
   "outputs": [
    {
     "data": {
      "text/plain": [
       "array([0.5, 0.5])"
      ]
     },
     "execution_count": 24,
     "metadata": {},
     "output_type": "execute_result"
    }
   ],
   "source": [
    "pclass=np.exp(clf.class_log_prior_)\n",
    "pclass"
   ]
  },
  {
   "cell_type": "markdown",
   "metadata": {},
   "source": [
    "Deriva probabilità a posteriori delle feature (termini) $p(t_j|C_i)$"
   ]
  },
  {
   "cell_type": "code",
   "execution_count": 26,
   "metadata": {},
   "outputs": [
    {
     "data": {
      "text/plain": [
       "(2, 600)"
      ]
     },
     "execution_count": 26,
     "metadata": {},
     "output_type": "execute_result"
    }
   ],
   "source": [
    "pf=np.exp(clf.feature_log_prob_)\n",
    "pf.shape"
   ]
  },
  {
   "cell_type": "markdown",
   "metadata": {},
   "source": [
    "Deriva probabilità a priori delle feature $p(t_j)=p(t_j|C_1)p(C_1)+p(t_j|C_2)p(C_2)$"
   ]
  },
  {
   "cell_type": "code",
   "execution_count": 28,
   "metadata": {},
   "outputs": [
    {
     "data": {
      "text/plain": [
       "(600,)"
      ]
     },
     "execution_count": 28,
     "metadata": {},
     "output_type": "execute_result"
    }
   ],
   "source": [
    "pfeature=np.array([pf[0,i]*pclass[0]+pf[1,i]*pclass[1] for i in range(pf.shape[1])])\n",
    "pfeature.shape"
   ]
  },
  {
   "cell_type": "code",
   "execution_count": 35,
   "metadata": {},
   "outputs": [],
   "source": [
    "ppost = np.zeros([pf.shape[0],pf.shape[1]])\n",
    "for i in range(pf.shape[0]):\n",
    "    for j in range(pf.shape[1]):\n",
    "        ppost[i,j] = pf[i,j]*pclass[i]/pfeature[j]"
   ]
  },
  {
   "cell_type": "markdown",
   "metadata": {},
   "source": [
    "Plot del modello di linguaggio risultante per le due classi"
   ]
  },
  {
   "cell_type": "code",
   "execution_count": 22,
   "metadata": {},
   "outputs": [
    {
     "data": {
      "image/png": "[encoded data removed]",
      "text/plain": [
       "<Figure size 1152x576 with 2 Axes>"
      ]
     },
     "metadata": {},
     "output_type": "display_data"
    }
   ],
   "source": [
    "fig=plt.figure(figsize=(16,8))\n",
    "for i,c in enumerate(classes):\n",
    "    ax=plt.subplot(nclasses,1,i+1)\n",
    "    ax.bar(range(clf.feature_count_.shape[1]), pf[i,:],  facecolor=colors[i], alpha=0.9, edgecolor=colors[i], lw=2)\n",
    "    plt.title('$p(t_j|C_{0:1d})$'.format(c), fontsize=14)\n",
    "plt.suptitle('Language models by ML, no smoothing ', fontsize=16)\n",
    "plt.show()"
   ]
  },
  {
   "cell_type": "code",
   "execution_count": 36,
   "metadata": {},
   "outputs": [
    {
     "data": {
      "image/png": "[encoded data removed]",
      "text/plain": [
       "<Figure size 1152x576 with 2 Axes>"
      ]
     },
     "metadata": {},
     "output_type": "display_data"
    }
   ],
   "source": [
    "fig=plt.figure(figsize=(16,8))\n",
    "for i,c in enumerate(classes):\n",
    "    ax=plt.subplot(nclasses,1,i+1)\n",
    "    ax.bar(range(clf.feature_count_.shape[1]), ppost[i,:],  facecolor=colors[i], alpha=0.9, edgecolor=colors[i], lw=2)\n",
    "    plt.title('$p(C_{0:1d}|t_j)$'.format(c), fontsize=14)\n",
    "plt.suptitle('Posterior probability, no smoothing ', fontsize=16)\n",
    "plt.show()"
   ]
  },
  {
   "cell_type": "markdown",
   "metadata": {},
   "source": [
    "Applicazione del classificatore al training set e derivazione della accuracy"
   ]
  },
  {
   "cell_type": "code",
   "execution_count": 23,
   "metadata": {},
   "outputs": [
    {
     "name": "stdout",
     "output_type": "stream",
     "text": [
      "Accuracy = 0.9211111\n"
     ]
    }
   ],
   "source": [
    "preds = clf.predict(xtrain)\n",
    "print('Accuracy = {0:8.7f}'.format(accuracy_score(ytrain, preds)))"
   ]
  },
  {
   "cell_type": "markdown",
   "metadata": {},
   "source": [
    "Istanza classificatore Naive-Bayes con Dirichlet smoothing simmetrico, con iperparametro $\\alpha$ ed effettua il learning sul dataset"
   ]
  },
  {
   "cell_type": "code",
   "execution_count": 17,
   "metadata": {},
   "outputs": [
    {
     "data": {
      "text/plain": [
       "MultinomialNB(alpha=100, class_prior=None, fit_prior=True)"
      ]
     },
     "execution_count": 17,
     "metadata": {},
     "output_type": "execute_result"
    }
   ],
   "source": [
    "alpha = 100\n",
    "clf1 = MultinomialNB(alpha)\n",
    "clf1.fit(xtrain, ytrain.ravel())"
   ]
  },
  {
   "cell_type": "markdown",
   "metadata": {},
   "source": [
    "Deriva probabilità a posteriori delle feature (termini) $p(t_j|C_i)$"
   ]
  },
  {
   "cell_type": "code",
   "execution_count": 18,
   "metadata": {},
   "outputs": [],
   "source": [
    "pf1=np.exp(clf1.feature_log_prob_)"
   ]
  },
  {
   "cell_type": "markdown",
   "metadata": {},
   "source": [
    "Plot del modello di linguaggio risultante per le due classi"
   ]
  },
  {
   "cell_type": "code",
   "execution_count": 19,
   "metadata": {},
   "outputs": [
    {
     "data": {
      "image/png": "[encoded data removed]",
      "text/plain": [
       "<Figure size 1152x576 with 2 Axes>"
      ]
     },
     "metadata": {},
     "output_type": "display_data"
    }
   ],
   "source": [
    "fig=plt.figure(figsize=(16,8))\n",
    "for i,c in enumerate(classes):\n",
    "    ax=plt.subplot(nclasses,1,i+1)\n",
    "    ax.bar(range(clf1.feature_count_.shape[1]), pf1[i,:],  facecolor=colors[i+2], alpha=0.9, edgecolor=colors[i+2], lw=2)\n",
    "    plt.title('$p(t_j|C_{0:1d})$'.format(c), fontsize=14)\n",
    "plt.suptitle(r\"Language models by bayesian learning, uniform dirichlet, $\\alpha= {0:2d}$\".format(alpha), fontsize=16)\n",
    "plt.show()"
   ]
  },
  {
   "cell_type": "markdown",
   "metadata": {},
   "source": [
    "Applicazione del classificatore al training set e derivazione della accuracy"
   ]
  },
  {
   "cell_type": "code",
   "execution_count": 20,
   "metadata": {},
   "outputs": [
    {
     "name": "stdout",
     "output_type": "stream",
     "text": [
      "Accuracy = 0.8533333\n"
     ]
    }
   ],
   "source": [
    "preds1 = clf1.predict(xtrain)\n",
    "print('Accuracy = {0:8.7f}'.format(accuracy_score(ytrain, preds1)))"
   ]
  },
  {
   "cell_type": "markdown",
   "metadata": {},
   "source": [
    "Definizione della funzione che calcola la mutua informazione di una feature con le due classi"
   ]
  },
  {
   "cell_type": "code",
   "execution_count": 20,
   "metadata": {},
   "outputs": [],
   "source": [
    "def mutual_information(feature):\n",
    "    s = 0\n",
    "    for cl in [0,1]:\n",
    "        s += pf[cl, feature]*pclass[cl]*np.log2(pf[cl, feature]/pfeature[feature])\n",
    "    return s"
   ]
  },
  {
   "cell_type": "markdown",
   "metadata": {},
   "source": [
    "Calcolo del valore della mutua informazione per ogni feature"
   ]
  },
  {
   "cell_type": "code",
   "execution_count": 21,
   "metadata": {},
   "outputs": [],
   "source": [
    "mi = np.array([mutual_information(f) for f in range(pf.shape[1])])"
   ]
  },
  {
   "cell_type": "markdown",
   "metadata": {},
   "source": [
    "Ordinamento crescente delle feature rispetto alla mutua informazione"
   ]
  },
  {
   "cell_type": "code",
   "execution_count": 22,
   "metadata": {},
   "outputs": [],
   "source": [
    "ordered_features = np.argsort(mi)"
   ]
  },
  {
   "cell_type": "markdown",
   "metadata": {},
   "source": [
    "Plot della mutua informazione delle feature"
   ]
  },
  {
   "cell_type": "code",
   "execution_count": 23,
   "metadata": {},
   "outputs": [
    {
     "data": {
      "image/png": "[encoded data removed]",
      "text/plain": [
       "<Figure size 1152x576 with 1 Axes>"
      ]
     },
     "metadata": {},
     "output_type": "display_data"
    }
   ],
   "source": [
    "fig=plt.figure(figsize=(16,8))\n",
    "plt.bar(range(clf1.feature_count_.shape[1]), mi,  facecolor=colors[5], alpha=0.9, edgecolor=colors[5], lw=2)\n",
    "plt.title(r\"Mutual information\")\n",
    "plt.show()"
   ]
  },
  {
   "cell_type": "markdown",
   "metadata": {},
   "source": [
    "Seleziona le feature più informative e riduci il training set considerando solo quelle"
   ]
  },
  {
   "cell_type": "code",
   "execution_count": 24,
   "metadata": {},
   "outputs": [],
   "source": [
    "k = 15\n",
    "x_red = xtrain[:, ordered_features[-k:]]"
   ]
  },
  {
   "cell_type": "markdown",
   "metadata": {},
   "source": [
    "Plot della mutua informazione delle feature selezionate"
   ]
  },
  {
   "cell_type": "code",
   "execution_count": 25,
   "metadata": {},
   "outputs": [
    {
     "data": {
      "image/png": "[encoded data removed]",
      "text/plain": [
       "<Figure size 1152x576 with 1 Axes>"
      ]
     },
     "metadata": {},
     "output_type": "display_data"
    }
   ],
   "source": [
    "fig=plt.figure(figsize=(16,8))\n",
    "plt.bar(range(k), mi[ordered_features[-k:]],  facecolor=colors[6], alpha=0.9, edgecolor=colors[6], lw=2)\n",
    "plt.title(r\"Mutual information\")\n",
    "plt.show()"
   ]
  },
  {
   "cell_type": "markdown",
   "metadata": {},
   "source": [
    "Crea un nuovo classificatore Naive Bayes ed effettua l'apprendimento sul training set ridotto "
   ]
  },
  {
   "cell_type": "code",
   "execution_count": 27,
   "metadata": {},
   "outputs": [
    {
     "data": {
      "text/plain": [
       "MultinomialNB(alpha=1e-09, class_prior=None, fit_prior=True)"
      ]
     },
     "execution_count": 27,
     "metadata": {},
     "output_type": "execute_result"
    }
   ],
   "source": [
    "clf2 = MultinomialNB(alpha=1.0e-9)\n",
    "clf2.fit(x_red, ytrain.ravel())"
   ]
  },
  {
   "cell_type": "markdown",
   "metadata": {},
   "source": [
    "Applicazione del classificatore al training set ridotto e derivazione della accuracy"
   ]
  },
  {
   "cell_type": "code",
   "execution_count": 28,
   "metadata": {},
   "outputs": [
    {
     "name": "stdout",
     "output_type": "stream",
     "text": [
      "Accuracy = 0.8777778\n"
     ]
    }
   ],
   "source": [
    "preds2 = clf2.predict(x_red)\n",
    "print('Accuracy = {0:8.7f}'.format(accuracy_score(ytrain, preds2)))"
   ]
  },
  {
   "cell_type": "code",
   "execution_count": null,
   "metadata": {},
   "outputs": [],
   "source": []
  }
 ],
 "metadata": {
  "kernelspec": {
   "display_name": "Python 3",
   "language": "python",
   "name": "python3"
  },
  "language_info": {
   "codemirror_mode": {
    "name": "ipython",
    "version": 3
   },
   "file_extension": ".py",
   "mimetype": "text/x-python",
   "name": "python",
   "nbconvert_exporter": "python",
   "pygments_lexer": "ipython3",
   "version": "3.7.4"
  }
 },
 "nbformat": 4,
 "nbformat_minor": 2
}
