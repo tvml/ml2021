{
  "cells": [
    {
      "cell_type": "markdown",
      "source": [
        "# <a href=\"https://colab.research.google.com/github/tvml/ml2021/blob/main/codici/loss.ipynb\" target=\"_parent\"><img src=\"https://colab.research.google.com/assets/colab-badge.svg\" alt=\"Open In Colab\"/></a>\n"
      ],
      "metadata": {
        "nteract": {
          "transient": {
            "deleting": false
          }
        }
      }
    },
    {
      "cell_type": "code",
      "source": [
        "%matplotlib inline\n",
        "import matplotlib as mpl\n",
        "import matplotlib.pyplot as plt\n",
        "import numpy as np\n",
        "import scipy as scipy\n",
        "import scipy.special as sp\n",
        "import pandas as pd\n",
        "\n",
        "import urllib.request"
      ],
      "outputs": [],
      "execution_count": null,
      "metadata": {
        "collapsed": true,
        "jupyter": {
          "source_hidden": false,
          "outputs_hidden": false
        },
        "nteract": {
          "transient": {
            "deleting": false
          }
        }
      }
    },
    {
      "cell_type": "code",
      "source": [
        "colors = [\"xkcd:dusty blue\", \"xkcd:dark peach\", \"xkcd:dark seafoam green\",\n",
        "          \"xkcd:dusty purple\",\"xkcd:watermelon\", \"xkcd:dusky blue\", \"xkcd:amber\",\n",
        "          \"xkcd:purplish\", \"xkcd:dark teal\", \"xkcd:orange\", \"xkcd:slate\"]\n",
        "\n",
        "plt.style.use('ggplot')\n",
        "plt.rcParams['font.family'] = 'sans-serif'\n",
        "plt.rcParams['font.serif'] = 'Ubuntu'\n",
        "plt.rcParams['font.monospace'] = 'Ubuntu Mono'\n",
        "plt.rcParams['font.size'] = 10\n",
        "plt.rcParams['axes.labelsize'] = 10\n",
        "plt.rcParams['axes.labelweight'] = 'bold'\n",
        "plt.rcParams['axes.titlesize'] = 10\n",
        "plt.rcParams['xtick.labelsize'] = 8\n",
        "plt.rcParams['ytick.labelsize'] = 8\n",
        "plt.rcParams['legend.fontsize'] = 10\n",
        "plt.rcParams['figure.titlesize'] = 12\n",
        "plt.rcParams['image.cmap'] = 'jet'\n",
        "plt.rcParams['image.interpolation'] = 'none'\n",
        "plt.rcParams['figure.figsize'] = (16, 8)\n",
        "plt.rcParams['lines.linewidth'] = 2\n",
        "plt.rcParams['lines.markersize'] = 8"
      ],
      "outputs": [],
      "execution_count": null,
      "metadata": {
        "collapsed": true,
        "jupyter": {
          "source_hidden": false,
          "outputs_hidden": false
        },
        "nteract": {
          "transient": {
            "deleting": false
          }
        }
      }
    },
    {
      "cell_type": "code",
      "source": [
        "filepath = \"../dataset/\"\n",
        "url = \"https://tvml.github.io/ml2021/dataset/\"\n",
        "def get_file(filename,local):\n",
        "    if local:\n",
        "        return filepath+filename\n",
        "    else:\n",
        "        urllib.request.urlretrieve (url+filename, filename)\n",
        "        return filename"
      ],
      "outputs": [],
      "execution_count": null,
      "metadata": {
        "collapsed": true,
        "jupyter": {
          "source_hidden": false,
          "outputs_hidden": false
        },
        "nteract": {
          "transient": {
            "deleting": false
          }
        }
      }
    },
    {
      "cell_type": "code",
      "source": [
        "def plot_ds(data,m=None,q=None):\n",
        "    fig = plt.figure(figsize=(16,8))\n",
        "    minx, maxx = min(data.x1), max(data.x1)\n",
        "    deltax = .1*(maxx-minx)\n",
        "    x = np.linspace(minx-deltax,maxx+deltax,1000)\n",
        "    ax = fig.gca()\n",
        "    ax.scatter(data[data.t==0].x1, data[data.t==0].x2, s=40, edgecolor='k', alpha=.7)\n",
        "    ax.scatter(data[data.t==1].x1, data[data.t==1].x2, s=40, edgecolor='k', alpha=.7)\n",
        "    if m:\n",
        "        ax.plot(x, m*x+q, lw=2, color=colors[5])\n",
        "    plt.xlabel('$x_1$', fontsize=12)\n",
        "    plt.ylabel('$x_2$', fontsize=12)\n",
        "    plt.xticks(fontsize=10)\n",
        "    plt.yticks(fontsize=10)\n",
        "    plt.title('Dataset', fontsize=12)\n",
        "    plt.show()"
      ],
      "outputs": [],
      "execution_count": null,
      "metadata": {
        "collapsed": true,
        "jupyter": {
          "source_hidden": false,
          "outputs_hidden": false
        },
        "nteract": {
          "transient": {
            "deleting": false
          }
        }
      }
    },
    {
      "cell_type": "code",
      "source": [
        "def plot_all(cost_history, m, q, low, high, step):\n",
        "    idx = range(low,high,step)\n",
        "    ch = cost_history[idx]\n",
        "    th1 = m[idx]\n",
        "    th0 = q[idx]\n",
        "    fig = plt.figure(figsize=(18,6))\n",
        "    ax = fig.add_subplot(1,2,1)\n",
        "    minx, maxx, miny, maxy = 0, len(ch), ch.min(), ch.max()\n",
        "    deltay, deltax = .1*(maxy-miny), .1*(maxx-minx)\n",
        "    miny, maxy, minx, maxx = miny - deltay, maxy + deltay, minx - deltax, maxx + deltax\n",
        "    ax.plot(range(len(ch)), ch, alpha=1, color=colors[0], linewidth=2)\n",
        "    plt.xlabel('iterazioni')\n",
        "    plt.ylabel('costo')\n",
        "    plt.xlim(minx,maxx)\n",
        "    plt.ylim(miny,maxy)\n",
        "    ax.xaxis.set_major_formatter(mpl.ticker.FuncFormatter(lambda x, pos: '{:0.0f}'.format(x*step+low)))\n",
        "    plt.xticks(fontsize=8)\n",
        "    plt.yticks(fontsize=8)\n",
        "    ax = fig.add_subplot(1,2,2)\n",
        "    minx, maxx, miny, maxy = th0.min(), th0.max(), th1.min(), th1.max()\n",
        "    deltay, deltax = .1*(maxy-miny), .1*(maxx-minx)\n",
        "    miny, maxy = miny - deltay, maxy + deltay\n",
        "    miny, maxy, minx, maxx = miny - deltay, maxy + deltay, minx - deltax, maxx + deltax\n",
        "    ax.plot(th0, th1, alpha=1, color=colors[1], linewidth=2, zorder=1)\n",
        "    ax.scatter(th0[-1],th1[-1], color=colors[5], marker='o', s=40, zorder=2)\n",
        "    plt.xlabel(r'$m$')\n",
        "    plt.ylabel(r'$q$')\n",
        "    plt.xlim(minx,maxx)\n",
        "    plt.ylim(miny,maxy)\n",
        "    plt.xticks(fontsize=8)\n",
        "    plt.yticks(fontsize=8)\n",
        "    plt.tight_layout()\n",
        "    plt.show()"
      ],
      "outputs": [],
      "execution_count": null,
      "metadata": {
        "collapsed": true,
        "jupyter": {
          "source_hidden": false,
          "outputs_hidden": false
        },
        "nteract": {
          "transient": {
            "deleting": false
          }
        }
      }
    },
    {
      "cell_type": "markdown",
      "source": [
        "### Rischio e minimizzazione\n",
        "Dato un qualunque algoritmo che fornisce per ogni valore di input $x$ una previsione $f(x)$, la qualità delle previsioni fornite dall'algoritmo può essere definita per mezzo di una *funzione di costo* (loss function) $L(x_1, x_2)$, dove $x_1$ è il valore predetto dal modello e $x_2$ è il valore corretto associato a $x$ . Sostanzialmente, il valore della funzione di costo $L(f(x),y)$ misura quindi quanto \"costa\" (secondo il modello di costo indotto dalla funzione stessa) prevedere, dato $x$, il valore $f(x)$ invece del valore corretto $y$.\n",
        "\n",
        "Dato che evidentemente il costo è dipendente dalla coppia di valori $x,y$, una valutazione complessiva della qualità delle predizioni dell'algoritmo potrà essere fornita considerando il valore atteso della funzione di costo al variare di $x$ e  $y$, nell'ipotesi di una (densità di) distribuzione di probabilità congiunta di tali valori $p(x,y)$. La distribuzione $p(x,y)$ ci fornisce quindi la probabilità che il prossimo punto su cui effettuare la predizione sia $x$ e che il valore corretto da predire sia $y$. Si noti che non si fa l'ipotesi che due diverse occorrenze di $x$ siano associate allo stesso valore di $y$: non si assume quindi una relazione funzionale, seppure sconosciuta, tra $x$ e $y$, ma solo una relazione in probabilità $p(y\\mid x)$.\n",
        "Questo permette di considerare la presenza di rumore nelle osservazioni effettuate.\n",
        "\n",
        "Da quanto detto, indicando con $D_x$ e $D_y$ i domini di definizione di $x$ e $y$, e assunta una distribuzione $p(x,y)$ che fornisce un modello statistico del contesto in cui si intende effettuare le predizioni, la qualità di un algoritmo di previsione che calcola la funzione $f(x)$ sarà data dal *rischio*\n",
        "$$\n",
        "\\mathcal{R}(f)=\\mathbb{E}_p[L(f(x),y)]=\\int_{D_x}\\int_{D_y} L(f(x),y)p(x,y)dxdy\n",
        "$$\n",
        "\n",
        "Il rischio di dice quindi quanto ci aspettiamo che ci costi prevedere $f(x)$, assumendo che:\n",
        "\n",
        "1. $x$ sia estratto a caso dalla distribuzione marginale\n",
        "   $$\n",
        "   p(x)=\\int_{D_y} p(x,y)dy\n",
        "   $$\n",
        "\n",
        "2. il relativo valore corretto da predire sia estratto a caso dalla distribuzione condizionata\n",
        "$$\n",
        "p(y\\mid x)=\\frac{p(x,y)}{p(x)}\n",
        "$$\n",
        "\n",
        "3. il costo sia rappresentato dalla funzione $L(x_1,x_2)$"
      ],
      "metadata": {
        "nteract": {
          "transient": {
            "deleting": false
          }
        }
      }
    },
    {
      "cell_type": "markdown",
      "source": [
        "##### Esempio"
      ],
      "metadata": {
        "nteract": {
          "transient": {
            "deleting": false
          }
        }
      }
    },
    {
      "cell_type": "markdown",
      "source": [
        "Consideriamo il caso in cui vogliamo effettuare previsioni sulla possibilità di pioggia in giornata, date le condizioni del cielo al mattino, assumendo che le possibili osservazioni siano \"sereno\" (S), \"nuvoloso\" (N), \"coperto\" (C), e che le previsioni siano \"pioggia\" (T) e \"non pioggia\" (F). La funzione di costo, sarà allora del tipo $L:\\{T,F\\}^2\\mapsto\\mathbb{R}$\n",
        "\n",
        "La definizione di una particolare funzione di costo è legata alla valutazione delle priorità dell'utente. Nel caso specifico, se si valuta allo stesso modo \"sgradevole\" uscire con l'ombrello (per una previsione T) senza poi doverlo usare che bagnarsi per la pioggia non avendo preso l'ombrello (per una previsione F) allora la funzione di costo risulta $L_1(x_1,x_2)$, definita dalla tabella seguente\n",
        "\n",
        "| $x_1$/$x_2$ |  T   |  F   |\n",
        "| :---------: | :--: | :--: |\n",
        "|      T      |  0   |  1   |\n",
        "|      F      |  1   |  0   |\n",
        "\n",
        "Se invece reputiamo molto più sgradevole bagnarci per non aver preso l'ombrello rispetto a prendere l'ombrello stesso inutilmente, allora la funzione di costo $L_2(x_1,x_2)$, potrà essere definita come\n",
        "\n",
        "| $x_1$/$x_2$ |  T   |  F   |\n",
        "| :---------: | :--: | :--: |\n",
        "|      T      |  0   |  1   |\n",
        "|      F      |  25   |  0   |\n",
        "\n",
        "Se facciamo l'ipotesi che la distribuzione congiunta su $\\{S,N,C\\}\\times\\{T,F\\}$ sia\n",
        "\n",
        "| $x$/$y$ |  T   |  F   |\n",
        "| :-----: | :--: | :--: |\n",
        "|    S    | .05  |  .2  |\n",
        "|    N    | .25  | .25  |\n",
        "|    C    |  .2  | .05  |\n",
        "\n",
        "e consideriamo due possibili funzioni predittive $f_1(x)$ e $f_2(x)$\n",
        "\n",
        "\n",
        "| $x$  |   $f_1(x)$         | $f_2(x)$ |\n",
        "| :--: | :--------------------:         | :------: |\n",
        "|  S   |    &nbsp; &nbsp; F &nbsp; &nbsp; &nbsp; | &nbsp; &nbsp; F &nbsp; &nbsp; &nbsp;  |\n",
        "|  N   |    &nbsp; &nbsp; F               | &nbsp; &nbsp; T     |\n",
        "|  C   |    &nbsp; &nbsp; T               | &nbsp; &nbsp; T     |\n",
        "\n",
        "\n",
        "possiamo verificare che nel caso in cui la funzione di costo sia $L_1$ allora il rischio nei due casi è  $\\mathcal{R}(f_1)=0.65$ e $\\mathcal{R}(f_2)=0.4$ per cui $f_2$ è preferibile a $f_1$. Al contrario, se la funzione di costo è $L_2$, allora risulta $\\mathcal{R}(f_1)=1.55$ e $\\mathcal{R}(f_2)=7.55$, per cui, al contrario, $f_1$ è preferibile a $f_2$.\n",
        "\n",
        "Come si vede, quindi, la scelta tra $f_1(x)$ e $f_2(x)$ è dipendente dalla funzione di costo adottata e dalla distribuzione $p(x,y)$ che invece è data e, tra l'altro, sconosciuta. Quindi, una diversa distribuzione potrebbe portare a conclusioni diverse anche considerando una stessa funzione di costo: se ad esempio si fa riferimento alla funzione di costo $L_1$, allora la distribuzione congiunta\n",
        "\n",
        "| $x$/$y$ |  T   |  F   |\n",
        "| :-----: | :--: | :--: |\n",
        "|    S    | .05  | .05  |\n",
        "|    N    | .05  |  .4  |\n",
        "|    C    | .05  |  .4  |\n",
        "\n",
        "determina dei valori di rischio $\\mathcal{R}(f_1)=0.6$ e $\\mathcal{R}(f_2)=0.9$, rendendo ora $f_1$ preferibile a $f_2$.\n"
      ],
      "metadata": {
        "nteract": {
          "transient": {
            "deleting": false
          }
        }
      }
    },
    {
      "cell_type": "markdown",
      "source": [
        "#### Rischio empirico\n",
        "Dato che la distribuzione reale $p(x,y)$ è sconosciuta per ipotesi (se così non fosse potremmo sempre effettuare predizioni utilizzando la distribuzione condizionata reale $p(y\\mid x)$) il calcolo del rischio reale è impossibile ed è necessario effettuare delle approssimazioni, sulla base dei dati disponibili. In particolare, possiamo applicare il metodo standard di utilizzando la media aritmetica su un campione come stimatore del valore atteso, e considerare il *rischio empirico* (empirical risk) calcolato effettuando l'operazione di media sul campione offerto dai dati disponibili nel training set $X=\\{(x_1,y_1),\\ldots,(x_n,y_n)\\}$\n",
        "\n",
        "$$\n",
        "\\overline{\\mathcal{R}}(f; X)=\\overline{L}(f(x), y; X)=\\frac{1}{n}\\sum_{i=1}^nL(f(x_i),y_i)\n",
        "$$\n",
        "\n",
        "La funzione utilizzata per le predizioni sarà allora quella che, nell'insieme di funzioni considerato, minimizza il rischio empirico\n",
        "\n",
        "$$\n",
        "f^*=\\underset{f\\in F}{\\mathrm{argmin}}\\;\\overline{\\mathcal{R}}(f;X)\n",
        "$$\n",
        "\n",
        "Si noti che, in effetti, il rischio empirico dipende sia dai dati in $X$ che dalla funzione $f$: in questo senso è una funzione rispetto a $X$ e un funzionale rispetto a $f$. La ricerca di $f^*$ comporta quindi una minimizzazione funzionale del rischio empirico. In generale, tale situazione viene semplificata limitando la ricerca all'interno di classi di funzioni definite da coefficienti: in questo modo, il rischio empirico può essere espresso come funzione dei coefficienti della funzione (oltre che di $X$) e la minimizzazione è una normale minimizzazione di funzione.\n",
        "\n",
        "Chiaramente, la speranza è che minimizzare il rischio empirico dia risultati simili a quelli che si otterrebbero minimizzando il rischio reale. Ciò dipende, in generale, da quattro fattori:\n",
        "\n",
        "- La dimensione del training set $X$. Al crescere della quantità di dati, $\\overline{\\mathcal{R}}(f; X)$ tende a $\\mathcal{R}(f)$ per ogni funzione $f$\n",
        "- La distribuzione reale $p(x,y)$. Maggiore è la sua complessità, maggiore è la quantità di dati necessari per averne una buona approssimazione.\n",
        "- La funzione di costo $L$, che può creare problemi se assegna costi molto elevati in situazioni particolari e poco probabili\n",
        "- L'insieme $F$ delle funzioni considerate. Se la sua dimensione è elevata, e le funzioni hanno una struttura complessa, una maggior quantità di dati risulta necessaria per avere una buona approssimazione.\n",
        "Al tempo stesso, considerare un insieme piccolo di funzioni semplici rende sì la minimizzazione del rischio implicito su $F$ una buona approssimazione del minimo rischio reale su $F$ stesso, ma al tempo stesso comporta che tale minimo possa essere molto peggiore di quello ottenibile considerando classi più ampie di funzioni."
      ],
      "metadata": {
        "nteract": {
          "transient": {
            "deleting": false
          }
        }
      }
    },
    {
      "cell_type": "markdown",
      "source": [
        "### Minimizzazione della funzione di rischio"
      ],
      "metadata": {
        "nteract": {
          "transient": {
            "deleting": false
          }
        }
      }
    },
    {
      "cell_type": "markdown",
      "source": [
        "In generale, l'insieme $F$ delle funzioni è definito in modo parametrico $F=\\{f(x;\\theta)\\}$ dove $\\theta\\in D_\\theta$ è un coefficiente (tipicamente multidimensionale) che determina, all'interno della classe $F$ (definita tipicamente in termini ''strutturali'') la particolare funzione utilizzata. Un esempio tipico è offerto dalla *regressione lineare*, in cui si vuole prevedere il valore di un attributo $y$ con dominio $R$ sulla base dei valori di altri $m$ attributi $x_1,\\ldots, x_m$ (che assumiamo per semplicità in $R$ anch'essi): nella regressione lineare, l'insieme delle possibili funzioni $f:R^m\\mapsto R$ è limitato alle sole funzioni lineari $f_\\mathbf{w}(x)=w_0+w_1x_1+\\ldots+w_mx_m$, e il parametro $\\theta$ corrisponde al vettore $\\mathbf{w}=(w_0,\\ldots,w_m)$ dei coefficienti.\n",
        "\n",
        "In questo caso, il rischio empirico, fissata la famiglia $F$ di funzioni, può essere ora inteso come funzione di $\\theta$\n",
        "$$\n",
        "\\overline{\\mathcal{R}}(\\theta; X)=\\overline{L}(f(x;\\theta), y; X)=\\frac{1}{n}\\sum_{i=1}^nL(f(x_i;\\theta),y_i)\\hspace{2cm}f\\in F\n",
        "$$\n",
        "e la minimizzazione del rischio empirico può essere effettuata rispetto a $\\theta$\n",
        "$$\n",
        "\\theta^*=\\underset{\\theta\\in D_\\theta}{\\mathrm{argmin}}\\;\\overline{\\mathcal{R}}(\\theta;X)\n",
        "$$\n",
        "da cui deriva la funzione ottima (nella famiglia $F$) $f^*=f(x;\\theta^*)$\n",
        "\n",
        "la minimizzazione della funzione di rischio avrà luogo nel dominio di definizione $D_\\theta$ di $\\theta$, e potrà essere effettuata in modi diversi, in dipendenza della situazione e di considerazioni di efficienza di calcolo e di qualità delle soluzioni derivate."
      ],
      "metadata": {
        "nteract": {
          "transient": {
            "deleting": false
          }
        }
      }
    },
    {
      "cell_type": "markdown",
      "source": [
        "#### Ricerca analitica dell'ottimo\n",
        "Se il problema si pone in termini di minimizzazione *senza vincoli*, e quindi all'interno di $R^m$, un primo approccio è quello standard dell'analisi di funzioni, consistente nella ricerca di valori $\\overline\\theta$ di $\\theta$ per i quali si annullano tutte le derivate parziali $\\frac{\\partial \\overline{\\mathcal{R}}(\\theta; X)}{\\partial \\theta_i}$, tale cioè che, se indichiamo con $m$ la dimensione (numero delle componenti) di $\\theta$, il sistema su $m$ incognite definito dalle $m$ equazioni\n",
        "$$\n",
        "\\frac{\\partial \\overline{\\mathcal{R}}(\\theta; X)}{\\partial \\theta_i}\\Bigr|_{\\theta=\\overline\\theta}=0\\hspace{2cm} i=1,\\ldots,m\n",
        "$$\n",
        "risulta soddisfatto. La soluzione analitica di questo sistema risulta tipicamente ardua o impossibile, per cui vengono spesso adottate tecniche di tipo numerico."
      ],
      "metadata": {
        "nteract": {
          "transient": {
            "deleting": false
          }
        }
      }
    },
    {
      "cell_type": "markdown",
      "source": [
        "##### Gradient descent\n",
        "\n",
        "La discesa del gradiente (*gradient descent*) è una delle tecniche di ottimizzazione più popolari, in particolare nel settore del Machine Learning e delle Reti Neurali. La tecnica consiste nel minimizzare una funzione obiettivo $J(\\theta)$ definita sui parametri $\\theta\\in\\mathbb{R}^d$ del modello mediante aggiornamenti successivi del valore di $\\theta$ (a partire da un valore iniziale $\\theta^{(0)}$) nella direzione opposta a quella del valore attuale del gradiente $J'(\\theta)=\\nabla J(\\theta)$. Si ricorda, a tale proposito, che, data una funzione $f(x_1,x_2,\\ldots,x_d)$, il gradiente $\\nabla f$ di $f$ è il vettore $d$-dimensionale delle derivate di $f$ rispetto alle variabili $x_1,\\ldots, x_d$: il vettore cioè tale che $[\\nabla f]_i=\\frac{\\partial f}{\\partial x_i}$. Un parametro $\\eta$, detto *learning rate* determina la scala degli aggiornamenti effettuati, e quindi la dimensione dei passi effettuati nella direzione di un minimo locale.\n",
        "\n",
        "Possiamo interpretare la tecnica come il muoversi sulla superficie della funzione $J(\\theta)$ seguendo sempre la direzione di massima pendenza verso il basso, fino a raggiungere un punto da cui è impossibile scendere ulteriormente."
      ],
      "metadata": {
        "nteract": {
          "transient": {
            "deleting": false
          }
        }
      }
    },
    {
      "cell_type": "markdown",
      "source": [
        "##### Varianti di discesa del gradiente\n",
        "In molti casi, e sempre nell'ambito del ML, la funzione obiettivo corrisponde all'applicazione di una funzione di costo (*loss function*), predefinita e dipendente dal modello adottato, su un insieme dato di elementi di un dataset $X=(x_1,\\ldots, x_n)$ (che nel caso di apprendimento supervisionato è un insieme di coppie $X=((x_1,t_1),\\ldots,(x_n,t_n))$): rappresentiamo questa situazione con $J(\\theta; X)$. Questo corrisponde all'approssimazione del *rischio*\n",
        "\n",
        "$$\n",
        "\\mathcal{R}(\\theta)=\\int J(\\theta,x)p(x)dx=E_{p}[\\theta]\n",
        "$$\n",
        "\n",
        "In generale, la funzione di costo è definita in modo additivo rispetto agli elementi di $X$ (il costo relativo all'insieme $X$ è pari alla somma dei costi relativi ai suoi elementi), per cui il valore risulta $J(\\theta;X)=\\sum_{i=1}^nJ(\\theta;x_i)$, o preferibilmente, per evitare una eccessiva dipendenza dal numero di elementi, come media\n",
        "$$J(\\theta;X)=\\frac{1}{n}\\sum_{i=1}^nJ(\\theta;x_i)$$\n",
        "Si noti che, per le proprietà dell'operazione di derivazione, da questa ipotesi deriva l'additività anche del gradiente, per cui\n",
        "$$J'(\\theta; X)=\\sum_{i=1}^nJ'(\\theta;x_i)$$ o $$J'(\\theta;X)=\\frac{1}{n}\\sum_{i=1}^nJ'(\\theta;x_i)$$\n",
        "\n",
        "Possiamo allora identificare tre varianti del metodo, che differiscono tra loro per la quantità di elementi di $X$ utilizzati, ad ogni passo, per calcolare il gradiente della funzione obiettivo. Una quantità maggiore di dati utilizzati aumenta l'accuratezza dell'aggiornamento, ma anche il tempo necessario per effettuare l'aggiornamento stesso (in particolare, per valutare il gradiente per il valore attuale di $\\theta$)."
      ],
      "metadata": {
        "nteract": {
          "transient": {
            "deleting": false
          }
        }
      }
    },
    {
      "cell_type": "markdown",
      "source": [
        "###### Batch gradient descent\n",
        "\n",
        "In questo caso, il gradiente è valutato, ogni volta, considerando tutti gli elementi nel training set $X$. Quindi si ha che al passo $k$-esimo viene eseguito l'aggiornamento\n",
        "\n",
        "$$\n",
        "\\theta^{(k+1)}=\\theta^{(k)}-\\eta\\sum_{i=1}^nJ'(\\theta^{(k)};x_i)\n",
        "$$\n",
        "\n",
        " o anche, per i singoli coefficienti\n",
        "\n",
        "$$\n",
        "\\theta_j^{(k+1)}=\\theta_j^{(k)}-\\eta\\sum_{i=1}^n\\frac{\\partial J(\\theta;x_i)}{\\partial\\theta_j}\\Bigr\\vert_{\\small\\theta=\\theta^{(k)}}\n",
        "$$\n",
        "\n",
        "Dato che si richiede quindi, ad ogni iterazione, la valutazione del gradiente (con il valore attuale $\\theta^{(k)}$ di tutti i coefficienti) su tutti gli elementi di $X$, questa soluzione tende ad essere molto lenta, soprattutto in presenza di dataset di dimensioni molto estese, come nel caso di reti neurali complesse e deep learning. Inoltre, l'approccio diventa del tutto impraticabile se il dataset è talmente esteso da non entrare neanche in memoria.\n",
        "\n",
        "In termini di codice, il metodo batch gradient descent si presenta come:\n",
        "\n",
        "```python\n",
        "for i in range(n_epochs):\n",
        "    g = 0\n",
        "    for k in range(dataset_size):\n",
        "        g = g+evaluate_gradient(loss_function, theta, X[k])\n",
        "    theta = theta-eta*g\n",
        "```\n",
        "Il ciclo viene eseguito un numero di volte pari al numero di epoche, dove per *epoca* si intende una iterazione su tutti gli\n",
        "elementi di $X$. Di conseguenza, la valutazione di $\\theta$ viene aggiornata un numero di volte pari al numero di epoche. Il\n",
        "metodo batch gradient descent converge certamente al minimo globale se la funzione $J(\\theta)$ è convessa, mentre altrimenti\n",
        "converge a un minimo locale.\n",
        "\n"
      ],
      "metadata": {
        "nteract": {
          "transient": {
            "deleting": false
          }
        }
      }
    },
    {
      "cell_type": "markdown",
      "source": [
        "##### Esempio\n",
        "Applichiamo le considerazioni a un semplice problema di classificazione su un dataset bidimensionale, riportato graficamente di seguito."
      ],
      "metadata": {
        "nteract": {
          "transient": {
            "deleting": false
          }
        }
      }
    },
    {
      "cell_type": "code",
      "source": [
        "data = pd.read_csv(get_file(\"testSet.txt\", local=0), delim_whitespace=True, header=None, names=['x1','x2','t'])"
      ],
      "outputs": [],
      "execution_count": null,
      "metadata": {
        "collapsed": true,
        "jupyter": {
          "source_hidden": false,
          "outputs_hidden": false
        },
        "nteract": {
          "transient": {
            "deleting": false
          }
        }
      }
    },
    {
      "cell_type": "code",
      "source": [
        "plot_ds(data)"
      ],
      "outputs": [],
      "execution_count": null,
      "metadata": {
        "collapsed": true,
        "jupyter": {
          "source_hidden": false,
          "outputs_hidden": false
        },
        "nteract": {
          "transient": {
            "deleting": false
          }
        }
      }
    },
    {
      "cell_type": "code",
      "source": [
        "n = len(data)\n",
        "nfeatures = len(data.columns)-1\n",
        "\n",
        "X = np.array(data[['x1','x2']])\n",
        "t = np.array(data['t']).reshape(-1,1)\n",
        "X = np.column_stack((np.ones(n), X))"
      ],
      "outputs": [],
      "execution_count": null,
      "metadata": {
        "collapsed": true,
        "jupyter": {
          "source_hidden": false,
          "outputs_hidden": false
        },
        "nteract": {
          "transient": {
            "deleting": false
          }
        }
      }
    },
    {
      "cell_type": "markdown",
      "source": [
        "\n",
        "Il metodo considerato per la classificazione è la *logistic regression*, che determina un iperpiano (retta, in questo caso) di separazione minimizzando rispetto al vettore $\\theta$ dei coefficienti dell'equazione dell'iperpiano (3 in questo caso) il rischio empirico sul dataset associato alla funzione di costo *cross-entropy*, per la quale il costo associato a un singolo elemento $x=(x_1,\\ldots,x_d)$ è\n",
        "\n",
        "$$ J(\\theta, x)=-\\left(t\\log y + (1-t)\\log (1-y)\\right) $$\n",
        "dove $t$ è il valore *target* è il valore $0/1$ della classe dell'elemento e $y\\in (0,1)$ è il valore predetto dal modello, definito come\n",
        "$$\n",
        "y = \\sigma(x) = \\frac{1}{1+e^{-\\sum_{i=1}^d\\theta_ix_i+\\theta_0}}\n",
        "$$"
      ],
      "metadata": {
        "nteract": {
          "transient": {
            "deleting": false
          }
        }
      }
    },
    {
      "cell_type": "code",
      "source": [
        "def sigma(theta, X):\n",
        "    return sp.expit(np.dot(X, theta))"
      ],
      "outputs": [],
      "execution_count": null,
      "metadata": {
        "collapsed": true,
        "jupyter": {
          "source_hidden": false,
          "outputs_hidden": false
        },
        "nteract": {
          "transient": {
            "deleting": false
          }
        }
      }
    },
    {
      "cell_type": "markdown",
      "source": [
        "Il rischio empirico associato all'intero dataset può essere allora definito come la corrispondente media\n",
        "$$\n",
        "J(\\theta, X)=\\frac{1}{n}\\sum_{i=1}^n \\left(t_i\\log \\sigma(x_i) -(1-t_i)\\log (1-\\sigma(x_i))\\right)\n",
        "$$"
      ],
      "metadata": {
        "nteract": {
          "transient": {
            "deleting": false
          }
        }
      }
    },
    {
      "cell_type": "code",
      "source": [
        "def approx_zero(v):\n",
        "    eps = 1e-50\n",
        "    v[v<eps]=eps\n",
        "    return v\n",
        "\n",
        "def cost(theta, X, t):\n",
        "    eps = 1e-50\n",
        "    v = sigma(theta,X)\n",
        "    v[v<eps]=eps\n",
        "    term1 = np.dot(np.log(v).T,t)\n",
        "    v = 1.0 - sigma(theta,X)\n",
        "    v[v<eps]=eps\n",
        "    term2 = np.dot(np.log(v).T,1-t)\n",
        "    return ((-term1 - term2) / len(X))[0]"
      ],
      "outputs": [],
      "execution_count": null,
      "metadata": {
        "collapsed": true,
        "jupyter": {
          "source_hidden": false,
          "outputs_hidden": false
        },
        "nteract": {
          "transient": {
            "deleting": false
          }
        }
      }
    },
    {
      "cell_type": "markdown",
      "source": [
        "Il gradiente della funzione di costo risulta allora pari a\n",
        "\n",
        "\\begin{align*}\n",
        "\\frac{\\partial J(\\theta,x)}{\\partial\\theta_i}&=-(t-\\sigma(x))x_i\\hspace{1cm}i=1,\\ldots,d\\\\\n",
        "\\frac{\\partial J(\\theta,x)}{\\partial\\theta_0}&=-(t-\\sigma(x))\n",
        "\\end{align*}\n",
        "\n",
        "e il corrispondente gradiente del rischio empirico è dato da\n",
        "\\begin{align*}\n",
        "\\frac{\\partial J(\\theta,X)}{\\partial\\theta_i}&=-\\frac{1}{n}\\sum_{j=1}^n (t_j-\\sigma(x_j))x_{ji}\\hspace{1cm}i=1,\\ldots,d\\\\\n",
        "\\frac{\\partial J(\\theta,X)}{\\partial\\theta_0}&=-\\frac{1}{n}\\sum_{i=1}^n(t_j-\\sigma(x_j))\n",
        "\\end{align*}"
      ],
      "metadata": {
        "nteract": {
          "transient": {
            "deleting": false
          }
        }
      }
    },
    {
      "cell_type": "code",
      "source": [
        "def gradient(theta, X, t):\n",
        "    return -np.dot(X.T, (t-sigma(theta, X))) / len(X)"
      ],
      "outputs": [],
      "execution_count": null,
      "metadata": {
        "collapsed": true,
        "jupyter": {
          "source_hidden": false,
          "outputs_hidden": false
        },
        "nteract": {
          "transient": {
            "deleting": false
          }
        }
      }
    },
    {
      "cell_type": "markdown",
      "source": [
        "Per quanto detto, una iterazione di BGD corrisponde agli aggiornamenti\n",
        "\\begin{align*}\n",
        "\\theta_j^{(k+1)}&=\\theta_j^{(k)}-\\eta\\frac{\\partial J(\\theta,X)}{\\partial\\theta_j}{\\LARGE\\vert}_{\\small\\theta=\\theta^{(k)}}=\\theta_j^{(k)}+\\frac{\\eta}{n}\\sum_{i=1}^n (t_i-\\sigma(x_i))x_{ij}\\hspace{1cm}j=1,\\ldots,d\\\\\n",
        "\\theta_0^{(k+1)}&=\\theta_0^{(k)}-\\eta\\frac{\\partial J(\\theta,X)}{\\partial\\theta_0}{\\LARGE\\vert}_{\\small\\theta=\\theta^{(k)}}=\\theta_0^{(k)}+\\frac{\\eta}{n}\\sum_{i=1}^n(t_i-\\sigma(x_i))\n",
        "\\end{align*}"
      ],
      "metadata": {
        "nteract": {
          "transient": {
            "deleting": false
          }
        }
      }
    },
    {
      "cell_type": "code",
      "source": [
        "def batch_gd(X, t, eta = 0.1, epochs = 10000):\n",
        "    theta = np.zeros(nfeatures+1).reshape(-1,1)\n",
        "    theta_history = []\n",
        "    cost_history = []\n",
        "    for k in range(epochs):\n",
        "        theta = theta - eta * gradient(theta,X,t)\n",
        "        theta_history.append(theta)\n",
        "        cost_history.append(cost(theta, X, t))\n",
        "    theta_history = np.array(theta_history).reshape(-1,3)\n",
        "    cost_history = np.array(cost_history).reshape(-1,1)\n",
        "    m = -theta_history[:,1]/theta_history[:,2]\n",
        "    q = -theta_history[:,0]/theta_history[:,2]\n",
        "    return cost_history, theta_history, m, q"
      ],
      "outputs": [],
      "execution_count": null,
      "metadata": {
        "collapsed": true,
        "jupyter": {
          "source_hidden": false,
          "outputs_hidden": false
        },
        "nteract": {
          "transient": {
            "deleting": false
          }
        }
      }
    },
    {
      "cell_type": "markdown",
      "source": [
        "Applicando il metodo sul dataset, fissando un valore per il parametro $\\eta$ e per il numero di epoche (dove una epoca corrisponde all'applicazione dell'iterazione su tutti gli elementi del dataset), otteniamo le sequenze dei costi e dei valori di coefficiente angolare e termine noto della retta di separazione."
      ],
      "metadata": {
        "nteract": {
          "transient": {
            "deleting": false
          }
        }
      }
    },
    {
      "cell_type": "code",
      "source": [
        "cost_history, theta_history, m, q = batch_gd(X, t, eta = 0.1, epochs = 100000)"
      ],
      "outputs": [],
      "execution_count": null,
      "metadata": {
        "collapsed": true,
        "jupyter": {
          "source_hidden": false,
          "outputs_hidden": false
        },
        "nteract": {
          "transient": {
            "deleting": false
          }
        }
      }
    },
    {
      "cell_type": "markdown",
      "source": [
        "La convergenza regolare del metodo è evidente nella figura seguente, dove si mostrano un andamento tipico della funzione di costo\n",
        "rispetto al numero di iterazioni e la sequenza di valori assunti da $\\theta$, considerata bidimensionale."
      ],
      "metadata": {
        "nteract": {
          "transient": {
            "deleting": false
          }
        }
      }
    },
    {
      "cell_type": "code",
      "source": [
        "low, high, step = 0, 5000, 10\n",
        "plot_all(cost_history, m, q, low, high, step)"
      ],
      "outputs": [],
      "execution_count": null,
      "metadata": {
        "collapsed": true,
        "jupyter": {
          "source_hidden": false,
          "outputs_hidden": false
        },
        "nteract": {
          "transient": {
            "deleting": false
          }
        }
      }
    },
    {
      "cell_type": "code",
      "source": [
        "m_star = 0.62595499\n",
        "q_star = 7.3662299\n",
        "f = lambda i: np.sqrt((m_star-m[i])**2+(q_star-q[i])**2)"
      ],
      "outputs": [],
      "execution_count": null,
      "metadata": {
        "collapsed": true,
        "jupyter": {
          "source_hidden": false,
          "outputs_hidden": false
        },
        "nteract": {
          "transient": {
            "deleting": false
          }
        }
      }
    },
    {
      "cell_type": "code",
      "source": [
        "dist = np.array([f(i) for i in range(len(m))])\n",
        "np.argmin(dist>1e-2)+1"
      ],
      "outputs": [],
      "execution_count": null,
      "metadata": {
        "collapsed": true,
        "jupyter": {
          "source_hidden": false,
          "outputs_hidden": false
        },
        "nteract": {
          "transient": {
            "deleting": false
          }
        }
      }
    },
    {
      "cell_type": "markdown",
      "source": [
        "Di seguito, la retta di separazione risultante:"
      ],
      "metadata": {
        "nteract": {
          "transient": {
            "deleting": false
          }
        }
      }
    },
    {
      "cell_type": "code",
      "source": [
        "plot_ds(data,m[-1],q[-1])"
      ],
      "outputs": [],
      "execution_count": null,
      "metadata": {
        "collapsed": true,
        "jupyter": {
          "source_hidden": false,
          "outputs_hidden": false
        },
        "nteract": {
          "transient": {
            "deleting": false
          }
        }
      }
    },
    {
      "cell_type": "markdown",
      "source": [
        "#### Stochastic gradient descent\n",
        "\n",
        "Nella stochastic gradient descent, a differenza del caso precedente, la valutazione del gradiente effettuata ad ogni iterazione fa riferimento a un solo elemento $x_i$ del training set. Quindi si ha\n",
        "\n",
        "$$\n",
        "\\theta^{(k+1)}=\\theta^{(k)}-\\eta J'(\\theta^{(k)};x_i)\n",
        "$$\n",
        "\n",
        "e, per i singoli coefficienti,\n",
        "\n",
        "$$\n",
        "\\theta_j^{(k+1)}=\\theta_j^{(k)}-\\eta\\frac{\\partial J(\\theta;x_i)}{\\partial\\theta_j}\\LARGE\\vert_{\\small\\theta=\\theta^{(k)}}\n",
        "$$\n",
        "\n",
        "\n"
      ],
      "metadata": {
        "nteract": {
          "transient": {
            "deleting": false
          }
        }
      }
    },
    {
      "cell_type": "markdown",
      "source": [
        "La discesa del gradiente batch valuta il gradiente per tutti gli elementi, anche quelli simili tra loro, a ogni iterazione,\n",
        "eseguendo così un insieme ridondante di operazioni. SGD risolve questo problema effettuando una sola valutazione, e quindi\n",
        "operando in modo più veloce.\n",
        "\n",
        "Al tempo stesso, però, mentre i valori della funzione di costo nel caso di BGD decrescono con regolarità verso il minimo locale,\n",
        "applicando SGD si riscontra un andamento molto più irregolare, con fluttuazione della funzione di costo intorno a un trend\n",
        "complessivo di decrescita, ma con incrementi locali anche significativi. Questo da un lato può non risultare negativo, in quanto\n",
        "le oscillazioni locali posso consentire di uscire dall'intorno di un minimo locale, proseguendo la ricerca di nuovi minimi. Al\n",
        "tempo stesso, l'oscillazione locale rende difficile la convergenza finale verso il minimo.\n",
        "\n",
        "Questa oscillazione si riscontra anche nell'andamento dei valori dei coefficienti. Si noti comunque che, considerando la sequenza dei valori della funzione di costo assunti al termine di ogni *epoca* (sequenza\n",
        "delle iterazioni che considerano tutti gli elementi del dataset), emerge la tendenza di decrescita di fondo.\n"
      ],
      "metadata": {
        "nteract": {
          "transient": {
            "deleting": false
          }
        }
      }
    },
    {
      "cell_type": "markdown",
      "source": [
        "In termini di codice, il metodo stochastic gradient descent si presenta come:\n",
        "\n",
        "```python\n",
        "for i in range(n_epochs):\n",
        "    np.random.shuffle(data)\n",
        "    for k in range(dataset_size):\n",
        "        g = evaluate_gradient(loss_function, theta, X[k])\n",
        "        theta = theta-eta*g\n",
        "```\n",
        "\n",
        "\n",
        "Nel caso della logistic regression, l'aggiornamento a ogni iterazione risulta quindi\n",
        "\\begin{align*}\n",
        "\\theta_j^{(k+1)}&=\\theta_j^{(k)}+\\eta(t_i-\\sigma(x_i))x_{ij}\\hspace{1cm}j=1,\\ldots,d\\\\\n",
        "\\theta_0^{(k+1)}&=\\theta_0^{(k)}+\\eta(t_i-\\sigma(x_i))\n",
        "\\end{align*}"
      ],
      "metadata": {
        "nteract": {
          "transient": {
            "deleting": false
          }
        }
      }
    },
    {
      "cell_type": "code",
      "source": [
        "def stochastic_gd(X, t, eta = 0.01, epochs = 1000):\n",
        "    theta = np.zeros(nfeatures+1).reshape(-1,1)\n",
        "    theta_history = []\n",
        "    cost_history = []\n",
        "    for j in range(epochs):\n",
        "        for i in range(n):\n",
        "            e = (t[i] - sigma(theta, X[i,:]))[0]\n",
        "            theta = theta + eta * e * X[i,:].reshape(-1,1)\n",
        "            theta_history.append(theta)\n",
        "            cost_history.append(cost(theta, X, t))\n",
        "    theta_history = np.array(theta_history).reshape(-1,3)\n",
        "    cost_history = np.array(cost_history).reshape(-1,1)\n",
        "    m = -theta_history[:,1]/theta_history[:,2]\n",
        "    q = -theta_history[:,0]/theta_history[:,2]\n",
        "    return cost_history, theta_history, m, q"
      ],
      "outputs": [],
      "execution_count": null,
      "metadata": {
        "collapsed": true,
        "jupyter": {
          "source_hidden": false,
          "outputs_hidden": false
        },
        "nteract": {
          "transient": {
            "deleting": false
          }
        }
      }
    },
    {
      "cell_type": "markdown",
      "source": [
        "Applicando il metodo è necessario ancora specificare il valore di $\\theta$ e il numero di epoche. Per la struttura dell'algoritmo, si avranno allora un numero di iterazioni pari al numero di epoche moltiplicato per la dimensionae $n$ del dataset."
      ],
      "metadata": {
        "nteract": {
          "transient": {
            "deleting": false
          }
        }
      }
    },
    {
      "cell_type": "code",
      "source": [
        "cost_history, theta_history, m, q = stochastic_gd(X, t, eta = 0.01, epochs = 10000)"
      ],
      "outputs": [],
      "execution_count": null,
      "metadata": {
        "collapsed": true,
        "jupyter": {
          "source_hidden": false,
          "outputs_hidden": false
        },
        "nteract": {
          "transient": {
            "deleting": false
          }
        }
      }
    },
    {
      "cell_type": "code",
      "source": [
        "low, high, step = 0*n, 150*n, 30\n",
        "plot_all(cost_history, m, q, low, high, step)"
      ],
      "outputs": [],
      "execution_count": null,
      "metadata": {
        "collapsed": true,
        "jupyter": {
          "source_hidden": false,
          "outputs_hidden": false
        },
        "nteract": {
          "transient": {
            "deleting": false
          }
        }
      }
    },
    {
      "cell_type": "code",
      "source": [
        "dist = np.array([f(i) for i in range(len(m))])\n",
        "np.argmin(dist>1e-2)+1"
      ],
      "outputs": [],
      "execution_count": null,
      "metadata": {
        "collapsed": true,
        "jupyter": {
          "source_hidden": false,
          "outputs_hidden": false
        },
        "nteract": {
          "transient": {
            "deleting": false
          }
        }
      }
    },
    {
      "cell_type": "code",
      "source": [
        "plot_ds(data,m[-1],q[-1])"
      ],
      "outputs": [],
      "execution_count": null,
      "metadata": {
        "collapsed": true,
        "jupyter": {
          "source_hidden": false,
          "outputs_hidden": false
        },
        "nteract": {
          "transient": {
            "deleting": false
          }
        }
      }
    },
    {
      "cell_type": "markdown",
      "source": [
        "Come si può vedere dalla figura seguente, considerando i valori di costo e dei coefficienti soltanto alla fine delle varie epoche risulta una andamento uniforme dei valori stessi."
      ],
      "metadata": {
        "nteract": {
          "transient": {
            "deleting": false
          }
        }
      }
    },
    {
      "cell_type": "code",
      "source": [
        "low, high, step = 0*n, 1000*n, n\n",
        "plot_all(cost_history, m, q, low, high, step)"
      ],
      "outputs": [],
      "execution_count": null,
      "metadata": {
        "collapsed": true,
        "jupyter": {
          "source_hidden": false,
          "outputs_hidden": false
        },
        "nteract": {
          "transient": {
            "deleting": false
          }
        }
      }
    },
    {
      "cell_type": "markdown",
      "source": [
        "#### Mini-batch gradient descent\n",
        "\n",
        "Questo approccio si pone in posizione intermedia rispetto ai due precedenti, generalizzando l'impostazione di SGD di considerare un solo elemento per iterazione a considerare sottoinsiemi diversi del dataset. L'algoritmo opera quindi partizionando, all'inizio di ogni epoca, il dataset in $\\lceil n/s\\rceil$ sottoinsiemi (*mini-batch*) di dimensione prefissata $s$, ed effettuando poi $\\lceil n/s\\rceil$ iterazioni all'interno di ognuna delle quali l'aggiornamento di $\\theta$ viene effettuato valutando il gradiente sugli $s$ elementi del mini-batch attuale.\n",
        "\n",
        "La discesa del gradiente con mini-batch è l'algoritmo tipicamente utilizzato per l'addestramento di reti neurali, in particolare in presenza di reti *deep*.\n",
        "\n",
        "Se indichiamo con $X_i\\subset X$ il mini-batch attualmente considerato, l'aggiornamento a ogni iterazione è il seguente\n",
        "$$\n",
        "\\theta^{(k+1)}=\\theta^{(k)}-\\eta\\sum_{x\\in X_i}J'(\\theta^{(k)};x)\n",
        "$$\n",
        "o anche\n",
        "$$\n",
        "\\theta_j^{(k+1)}=\\theta_j^{(k)}-\\eta\\sum_{x\\in X_i}\\frac{\\partial J(\\theta;x)}{\\partial\\theta_j}\\LARGE\\vert_{\\small\\theta=\\theta^{(k)}}\n",
        "$$\n",
        "In questo modo, la varianza degli aggiornamenti dei coefficienti viene diminuita. Inoltre, è possibile fare uso, in pratica, di implementazioni molto efficienti del calcolo del gradiente rispetto a un mini-batch disponibili nelle più recenti librerie per il *deep learning*. La dimensione dei mini-batch varia tra $50$ e $256$.\n",
        "\n",
        "```python\n",
        "for i in range(n_epochs):\n",
        "    np.random.shuffle(data)\n",
        "    for batch in get_batches(dataset, batch_size):\n",
        "        g = 0\n",
        "        for x in batch:\n",
        "            g = g+evaluate_gradient(loss_function, theta, batch)\n",
        "        theta = theta-eta*g\n",
        "```\n",
        "Ne risulta un andamento oscillante sia della funzione di costo che dei valori stimati dei coefficienti. Chiaramente, l'oscillazione sarà tanto più marcata quanto minore è la dimensione dei mini-batch, e quindi quanto più si tende a SGD.\n",
        "\n",
        "![Andamento di costo e soluzione durante l'applicazione di gradient descent con mini batch.](assets/mbgd_all.jpg)\n",
        "\n",
        "Gli aggiornamenti nel caso della logistic regression derivano immediatamente da quanto sopra\n",
        "\n",
        "\n",
        "\\begin{align*}\n",
        "\\theta_j^{(k+1)}&=\\theta_j^{(k)}+\\eta\\sum_{x_i\\in MB}( t_i-y_i)x_{ij}\\hspace{1cm}j=1,\\ldots,d\\\\\n",
        "\\theta_0^{(k+1)}&=\\theta_0^{(k)}+\\eta\\sum_{x_i\\in MB}(t_i-y_i)\n",
        "\\end{align*}\n"
      ],
      "metadata": {
        "nteract": {
          "transient": {
            "deleting": false
          }
        }
      }
    },
    {
      "cell_type": "code",
      "source": [
        "def mb_gd(X, t, eta = 0.01, epochs = 1000, minibatch_size = 5):\n",
        "    mb = int(np.ceil(float(n)/minibatch_size))\n",
        "    idx = np.arange(0,n)\n",
        "    np.random.shuffle(idx)\n",
        "    theta = np.zeros(nfeatures+1).reshape(-1,1)\n",
        "    theta_history = []\n",
        "    cost_history = []\n",
        "    cost_history_iter = []\n",
        "\n",
        "    for j in range(epochs):\n",
        "        for k in range(mb-1):\n",
        "            g = 0\n",
        "            for i in idx[k*minibatch_size:(k+1)*minibatch_size]:\n",
        "                e = (t[i] - sigma(theta, X[i,:]))[0]\n",
        "                g = g + e * X[i,:]\n",
        "            theta = theta + eta * g.reshape(-1,1)\n",
        "            theta_history.append(theta)\n",
        "            cost_history.append(cost(theta, X, t))\n",
        "        g = 0\n",
        "        for i in idx[k*minibatch_size:n]:\n",
        "            e = (t[i] - sigma(theta, X[i,:]))[0]\n",
        "            g = g + e * X[i,:]\n",
        "        theta = theta + eta * g.reshape(-1,1)\n",
        "        theta_history.append(theta)\n",
        "        cost_history.append(cost(theta, X, t))\n",
        "    theta_history = np.array(theta_history).reshape(-1,3)\n",
        "    cost_history = np.array(cost_history).reshape(-1,1)\n",
        "    m = -theta_history[:,1]/theta_history[:,2]\n",
        "    q = -theta_history[:,0]/theta_history[:,2]\n",
        "    return cost_history, m, q"
      ],
      "outputs": [],
      "execution_count": null,
      "metadata": {
        "collapsed": true,
        "jupyter": {
          "source_hidden": false,
          "outputs_hidden": false
        },
        "nteract": {
          "transient": {
            "deleting": false
          }
        }
      }
    },
    {
      "cell_type": "code",
      "source": [
        "cost_history, m, q = mb_gd(X, t, eta = 0.01, epochs = 10000, minibatch_size = 5)"
      ],
      "outputs": [],
      "execution_count": null,
      "metadata": {
        "collapsed": true,
        "jupyter": {
          "source_hidden": false,
          "outputs_hidden": false
        },
        "nteract": {
          "transient": {
            "deleting": false
          }
        }
      }
    },
    {
      "cell_type": "code",
      "source": [
        "low, high, step = 0, 5000, 10\n",
        "plot_all(cost_history, m, q, low, high, step)"
      ],
      "outputs": [],
      "execution_count": null,
      "metadata": {
        "collapsed": true,
        "jupyter": {
          "source_hidden": false,
          "outputs_hidden": false
        },
        "nteract": {
          "transient": {
            "deleting": false
          }
        }
      }
    },
    {
      "cell_type": "code",
      "source": [
        "dist = np.array([f(i) for i in range(len(m))])\n",
        "np.argmin(dist>1e-2)+1"
      ],
      "outputs": [],
      "execution_count": null,
      "metadata": {
        "collapsed": true,
        "jupyter": {
          "source_hidden": false,
          "outputs_hidden": false
        },
        "nteract": {
          "transient": {
            "deleting": false
          }
        }
      }
    },
    {
      "cell_type": "code",
      "source": [
        "plot_ds(data,m[-1],q[-1])"
      ],
      "outputs": [],
      "execution_count": null,
      "metadata": {
        "collapsed": true,
        "jupyter": {
          "source_hidden": false,
          "outputs_hidden": false
        },
        "nteract": {
          "transient": {
            "deleting": false
          }
        }
      }
    },
    {
      "cell_type": "markdown",
      "source": [
        "#### Criticità\n",
        "\n",
        "I metodi elementari di discesa del gradiente illustrati sopra non garantiscono in generale una elevata convergenza. Inoltre, il loro utilizzo pone un insieme di questioni\n",
        "\n",
        "- la scelta del valore del learning rate $\\eta$ può risultare difficile. Un valore troppo piccolo può comportare una convergenza eccessivamente lenta, mentre un valore troppo grande può portare ad oscillazioni intorno al minimo, o addirittura a divergenza\n",
        "- per ovviare a questa problematica è possibile utilizzare dei metodi di aggiustamento di $\\eta$ nel tempo, ad esempio riducendolo secondo uno schema predefinito o quando il decremento della funzione di costo calcolata in due epoche successive risulti inferiore a una soglia data. Sia gli schemi che le soglie devono però essere predefiniti e non possono quindi adattarsi in dipendenza delle caratteristiche del dataset\n",
        "- lo stesso learning rate si applica per l'aggiornamento di tutti i coefficienti\n",
        "- in molti casi la funzione di costo, in particolare se si ha a che fare con reti neurali, risulta fortemente non convessa, caratterizzata quindi da numerosi minimi locali e da punti di sella. I metodi considerati possono avere difficoltà a uscire da situazioni di questo tipo, e in particolare dai punti di sella, spesso circondati da regioni a gradiente molto limitato.\n"
      ],
      "metadata": {
        "nteract": {
          "transient": {
            "deleting": false
          }
        }
      }
    },
    {
      "cell_type": "markdown",
      "source": [
        "#### Momento\n",
        "\n",
        "I metodi precedenti risultano poco efficienti in situazioni in cui la funzione di costo varia in modo molto diverso al variare della direzione considerata (ad esempio se si hanno valli che discendono lentamente e con pareti laterali ripide). In questo caso, infatti, gli algoritmi precedenti procedono molto lentamente in direzione del minimo, oscillando in modo sostanziale nella direzione trasversale ad essa: questa situazione è illustrata a sinistra nella figura sottostante.\n",
        "\n",
        "Il *metodo del momento* fa riferimento ad una interpretazione fisica del metodo di ottimizzazione, in cui il processo di discesa del gradiente viene visto come lo spostamento di un corpo di massa $m=1$ che si muove sulla superficie della funzione di costo $J(\\theta)$ soggetto a una forza peso $F(\\theta)=-\\nabla U(\\theta)$, dove $U(\\theta)=\\eta h(\\theta)=\\eta J(\\theta)$ è l'energia potenziale del corpo nella posizione $\\theta$ (si assume quindi che la costante fisica $g$ relativa alla forza peso $F=-mgh$ sia pari a $\\eta$). In questo modello, il valore negativo del gradiente $-\\eta J'(\\theta)$ è quindi pari al vettore forza (e accelerazione, in quanto $a=\\frac{F}{m}$) del corpo nel punto $\\theta$.\n",
        "\n",
        "Nel metodo della discesa del gradiente, si assume che lo spostamento del corpo in un certo punto $\\theta$ sia determinato dalla accelerazione calcolata nello stesso punto, e quindi dal gradiente $J'(\\theta)$, in quanto vale la regola di aggiornamento $\\theta^{(k+1)}=\\theta^{(k)}-\\eta J'(\\theta^{(k)})$.\n",
        "\n",
        "Nel metodo del momento, si fa riferimento a un modello più consistente con la realtà fisica di un corpo che si muove su una superficie soggetto alla forza peso, modello che prevede di utilizzare il concetto di velocità $v(\\theta)$. In questo modello, lo spostamento del corpo a partire da un certo punto $\\theta$ è determinato dalla velocità calcolata nello stesso punto $\\theta^{(k+1)}=\\theta^{(k)}+v^{(k+1)}$, dove la variazione di velocità è data dalla accelerazione $v^{(k+1)}=v^{(k)}-\\eta J'(\\theta^{(k)})$.\n",
        "\n",
        "Come si può osservare, si ha che\n",
        "\n",
        "\\begin{align*}\n",
        "v^{(k+1)}&=-\\eta J'(\\theta^{(k)})+v^{(k)}=-\\eta J'(\\theta^{(k)})-\\eta J'(\\theta^{(k-1)})+v^{(k-1)}=\\cdots=-\\eta\\sum_{i=0}^kJ'(\\theta^{(i)})+v^{(0)}\\\\\n",
        "\\theta^{(k+1)}&=\\theta^{(k)}+v^{(k+1)}=\\theta^{(k)}-\\eta\\sum_{i=0}^kJ'(\\theta^{(i)})+v^{(0)}\n",
        "\\end{align*}\n",
        "\n",
        "che corrisponde all'associare lo spostamento alla somma (integrale nel caso della fisica) delle accelerazioni passate.\n"
      ],
      "metadata": {
        "nteract": {
          "transient": {
            "deleting": false
          }
        }
      }
    },
    {
      "cell_type": "markdown",
      "source": [
        "\n",
        "![Effetto dell'introduzione di momento nell'andamento del costo durante l'applicazione di gradient descent.](assets/momentum.jpg)\n",
        "\n",
        "Il riferimento a questo modello porta l'algoritmo a tendere ad ogni passo a mantenere, almeno in parte, la direzione del passo precedente (in quanto $v^{(k+1)}=-\\eta J'(\\theta^{(k)})+v^{(k)})$, premiando le direzioni che si manifestano con costanza in una sequenza di passi. Ne deriva il comportamento a destra della figura precedente, in cui l'inerzia nella direzione del minimo porta a una limitazione delle oscillazioni.\n",
        "\n",
        "Si noti che ciò non avviene nella  discesa del gradiente, in cui si ha $v^{(k+1)}=-\\eta J'(\\theta^{(k)})$.\n",
        "\n",
        "Matematicamente, l'effetto di inerzia viene ottenuto sottraendo alla velocità (vettoriale) calcolata al passo precedente la valutazione del gradiente effettuata nella corrispondente posizione. Il gradiente viene sottratto in quanto, mantenendo la corrispondenza con la meccanica, un gradiente positivo tende a ridurre la velocità.\n",
        "\n",
        "Il metodo del momento utilizza tipicamente un secondo parametro $\\gamma$, che determina la frazione di $v^{(k)}$ che permane nella definizione di $v^{(k+1)}$, e che svolge la funzione (fisicamente) di un coefficiente di attrito. Si ottiene quindi la formulazione:\n",
        "\n",
        "\\begin{align*}\n",
        "v^{(k+1)}&=\\gamma v^{(k)} -\\eta\\sum_{i=1}^nJ'(\\theta^{(k)};x_i)\\\\\n",
        "\\theta^{(k+1)}&=\\theta^{(k)}+v^{(k+1)}\n",
        "\\end{align*}\n",
        "Il metodo del momento ad ogni passo determina inizialmente il vettore di spostamento attuale, a partire da quello al passo precedente e dal gradiente di $\\theta$: il contributo relativo dei due termini è pesato dalla coppia di parametri $\\gamma$ e $\\eta$. Lo spostamento calcolato viene quindi applicato al valore attuale di $\\theta$ (il segno meno deriva come sempre dal fatto che stiamo assumendo di cercare un minimo locale).\n",
        "\n",
        "Se il gradiente è orientato nella stessa direzione della velocità attuale, tale velocità viene incrementata, per cui l'aggiornamento di $\\theta$ diviene maggiore, incrementandosi man mano che la direzione di spostamento rimane coerente con il gradiente nei punti attraversati.\n",
        "\n",
        "```python\n",
        "v = 0\n",
        "for i in range(n_epochs):\n",
        "    g = 0\n",
        "    for k in range(dataset_size):\n",
        "        g = g+evaluate_gradient(loss_function, theta, X[k])\n",
        "    v = gamma*v-eta*g\n",
        "    theta = theta+v\n",
        "```"
      ],
      "metadata": {
        "nteract": {
          "transient": {
            "deleting": false
          }
        }
      }
    },
    {
      "cell_type": "markdown",
      "source": [
        "\n",
        "Come si può vedere, mentre $\\theta^{(k)}=(\\theta_1^{(k)},\\ldots,\\theta_d^{(k)})^T$ è la valutazione della soluzione ottima al passo $k$, $v^{(k)}=(v_1^{(k)},\\ldots,v_d^{(k)})^T$ è l'aggiornamento applicato a tale valore per ottenere $\\theta^{(k+1)}$: possiamo vedere quindi $v$ come il vettore velocità di spostamento di $\\theta$ nello spazio delle soluzioni.\n",
        "\n",
        "Come già illustrato sopra, possiamo esprimere l'aggiornamento nel modo seguente, evidenziando come esso dipenda dal gradiente calcolato in tutte le posizioni precedentemente attraversate, con un effetto che va a diminuire esponenzialmente con $\\gamma$ man mano che si risale nel passato. Assumendo $v^{(0)}=0$:\n",
        "\n",
        "\\begin{align*}\n",
        "\\theta^{(k+1)}&=\\theta^{(k+1)}+v^{(k+1)}= \\theta^{(k)}+\\gamma v^{(k)}-\\eta\\sum_{i=1}^nJ'(\\theta^{(k)};x_i)=\\theta^{(k)}+\\gamma^2 v^{(k-1)}-\\gamma\\eta\\sum_{i=1}^nJ'(\\theta^{(k-1)};x_i) -\\eta\\sum_{i=1}^nJ'(\\theta^{(k)};x_i)\\\\\n",
        "&=\\theta^{(k)}+\\gamma^2 v^{(k-1)}-\\eta\\left(\\sum_{i=1}^nJ'(\\theta^{(k)};x_i)+\\gamma\\sum_{i=1}^nJ'(\\theta^{(k-1)};x_i)\\right)=\\cdots=\n",
        "\\theta^{(k)}-\\eta\\left(\\sum_{j=0}^k\\gamma^j\\sum_{i=1}^nJ'(\\theta^{(k-j)};x_i)\\right)\n",
        "\\end{align*}\n",
        "\n",
        "Gli aggiornamenti nel caso della logistic regression derivano immediatamente\n",
        "\n",
        "\\begin{align*}\n",
        "v_j^{(k+1)}&=\\gamma v_j^{(k)}+\\frac{\\eta}{n}\\sum_{i=1}^n( t_i-\\sigma(x_i))x_{ij}\\hspace{1cm}j=1,\\ldots,d\\\\\n",
        "v_0^{(k+1)}&=\\gamma v_0^{(k)}+\\frac{\\eta}{n}\\sum_{i=1}^n(t_i-\\sigma(x_i)) \\\\\n",
        "\\theta_j^{(k+1)}&=\\theta_j^{(k)}+v_j^{(k+1)}\\hspace{1cm}j=0,\\ldots,d\n",
        "\\end{align*}"
      ],
      "metadata": {
        "nteract": {
          "transient": {
            "deleting": false
          }
        }
      }
    },
    {
      "cell_type": "code",
      "source": [
        "def momentum_gd(X,t, eta = 0.1, gamma = 0.97, epochs = 1000):\n",
        "    theta = np.zeros(nfeatures+1).reshape(-1,1)\n",
        "    v = np.zeros(nfeatures+1).reshape(-1,1)\n",
        "    theta_history = []\n",
        "    cost_history = []\n",
        "    for k in range(epochs):\n",
        "        v = gamma*v - eta * gradient(theta,X,t)\n",
        "        theta = theta + v\n",
        "        theta_history.append(theta)\n",
        "        cost_history.append(cost(theta, X, t))\n",
        "    theta_history = np.array(theta_history).reshape(-1,3)\n",
        "    cost_history = np.array(cost_history).reshape(-1,1)\n",
        "    m = -theta_history[:,1]/theta_history[:,2]\n",
        "    q = -theta_history[:,0]/theta_history[:,2]\n",
        "    return cost_history, m, q"
      ],
      "outputs": [],
      "execution_count": null,
      "metadata": {
        "collapsed": true,
        "jupyter": {
          "source_hidden": false,
          "outputs_hidden": false
        },
        "nteract": {
          "transient": {
            "deleting": false
          }
        }
      }
    },
    {
      "cell_type": "code",
      "source": [
        "cost_history, m, q = momentum_gd(X, t, eta = 0.1, gamma = 0.97, epochs = 10000)"
      ],
      "outputs": [],
      "execution_count": null,
      "metadata": {
        "collapsed": true,
        "jupyter": {
          "source_hidden": false,
          "outputs_hidden": false
        },
        "nteract": {
          "transient": {
            "deleting": false
          }
        }
      }
    },
    {
      "cell_type": "code",
      "source": [
        "low, high, step = 0, 5000, 10\n",
        "plot_all(cost_history, m, q, low, high, step)"
      ],
      "outputs": [],
      "execution_count": null,
      "metadata": {
        "collapsed": true,
        "jupyter": {
          "source_hidden": false,
          "outputs_hidden": false
        },
        "nteract": {
          "transient": {
            "deleting": false
          }
        }
      }
    },
    {
      "cell_type": "code",
      "source": [
        "dist = np.array([f(i) for i in range(len(m))])\n",
        "np.argmin(dist>1e-2)+1"
      ],
      "outputs": [],
      "execution_count": null,
      "metadata": {
        "collapsed": true,
        "jupyter": {
          "source_hidden": false,
          "outputs_hidden": false
        },
        "nteract": {
          "transient": {
            "deleting": false
          }
        }
      }
    },
    {
      "cell_type": "code",
      "source": [
        "plot_ds(data,m[-1],q[-1])"
      ],
      "outputs": [],
      "execution_count": null,
      "metadata": {
        "collapsed": true,
        "jupyter": {
          "source_hidden": false,
          "outputs_hidden": false
        },
        "nteract": {
          "transient": {
            "deleting": false
          }
        }
      }
    },
    {
      "cell_type": "markdown",
      "source": [
        "#### Accelerazione del gradiente di Nesterov\n",
        "Nel metodo del momento, la conoscenza al passo $k$ di $\\theta^{(k)}$ e di $v^{(k)}$ permette, senza calcolare il gradiente, di avere una valutazione approssimata $\\tilde{\\theta}^{(k+1)}=\\theta^{(k)}+\\gamma v^{(k)}$ di\n",
        "$$\n",
        "\\theta^{(k+1)}=\\theta^{(k)}+v^{(k+1)}=\\theta^{(k)}+\\gamma v^{(k)}-\\eta\\sum_{i=1}^nJ'(\\theta^{(k)};x_i)=\\tilde{\\theta}^{(k+1)}-\\eta\\sum_{i=1}^nJ'(\\theta^{(k)};x_i)\n",
        "$$\n",
        "Il metodo di Nesterov segue lo stesso approccio del metodo del momento, con la differenza che, ad ogni passo, la valutazione del gradiente viene effettuata, con un *look-ahead* approssimato, non nel punto attuale $\\theta^{(k)}$ dello spazio delle soluzioni visitato ma, più o meno, nel punto successivo $\\theta^{(k+1)}$ (approssimato da $\\tilde{\\theta}^{(k+1)}$). In questo modo, le variazioni di $v$ (e quindi di $\\theta$) vengono anticipate rispetto a quanto avviene nel metodo del momento.\n",
        "\\begin{align*}\n",
        "v^{(k+1)}&=\\gamma v^{(k)} +\\eta\\sum_{i=1}^nJ'(\\tilde{\\theta}^{(k)};x_i)=\\gamma v^{(k)} +\\eta\\sum_{i=1}^nJ'(\\theta^{(k)}+\\gamma v^{(k)};x_i)\\\\\n",
        "\\theta^{(k+1)}&=\\theta^{(k)}+v^{(k+1)}\n",
        "\\end{align*}\n",
        "\n",
        "![Aggiornamento per momentum e per Nesterov.](assets/nesterov.png)\n",
        "\n",
        "\n"
      ],
      "metadata": {
        "nteract": {
          "transient": {
            "deleting": false
          }
        }
      }
    },
    {
      "cell_type": "markdown",
      "source": [
        "```python\n",
        "v = 0\n",
        "for i in range(n_epochs):\n",
        "    g = 0\n",
        "    theta_approx = theta+gamma*v\n",
        "    for k in range(dataset_size):\n",
        "        g = g+evaluate_gradient(loss_function, theta_approx, X[k])\n",
        "    v = gamma*v-eta*g\n",
        "    theta = theta+v\n",
        "```"
      ],
      "metadata": {
        "nteract": {
          "transient": {
            "deleting": false
          }
        }
      }
    },
    {
      "cell_type": "code",
      "source": [
        "def nesterov_gd(X,t, eta = 0.1, gamma = 0.97, epochs = 1000):\n",
        "    theta = np.zeros(nfeatures+1).reshape(-1,1)\n",
        "    v = np.zeros(nfeatures+1).reshape(-1,1)\n",
        "    theta_history = []\n",
        "    cost_history = []\n",
        "    for k in range(epochs):\n",
        "        v = gamma*v - eta * gradient(theta+gamma*v,X,t)\n",
        "        theta = theta + v\n",
        "        theta_history.append(theta)\n",
        "        cost_history.append(cost(theta, X, t))\n",
        "    theta_history = np.array(theta_history).reshape(-1,3)\n",
        "    cost_history = np.array(cost_history).reshape(-1,1)\n",
        "    m = -theta_history[:,1]/theta_history[:,2]\n",
        "    q = -theta_history[:,0]/theta_history[:,2]\n",
        "    return cost_history, m, q"
      ],
      "outputs": [],
      "execution_count": null,
      "metadata": {
        "collapsed": true,
        "jupyter": {
          "source_hidden": false,
          "outputs_hidden": false
        },
        "nteract": {
          "transient": {
            "deleting": false
          }
        }
      }
    },
    {
      "cell_type": "code",
      "source": [
        "cost_history, m, q = nesterov_gd(X, t, eta = 0.1, gamma = 0.97, epochs = 10000)"
      ],
      "outputs": [],
      "execution_count": null,
      "metadata": {
        "collapsed": true,
        "jupyter": {
          "source_hidden": false,
          "outputs_hidden": false
        },
        "nteract": {
          "transient": {
            "deleting": false
          }
        }
      }
    },
    {
      "cell_type": "code",
      "source": [
        "low, high, step = 0, 5000, 10\n",
        "plot_all(cost_history, m, q, low, high, step)"
      ],
      "outputs": [],
      "execution_count": null,
      "metadata": {
        "collapsed": true,
        "jupyter": {
          "source_hidden": false,
          "outputs_hidden": false
        },
        "nteract": {
          "transient": {
            "deleting": false
          }
        }
      }
    },
    {
      "cell_type": "code",
      "source": [
        "dist = np.array([f(i) for i in range(len(m))])\n",
        "np.argmin(dist>1e-2)+1"
      ],
      "outputs": [],
      "execution_count": null,
      "metadata": {
        "collapsed": true,
        "jupyter": {
          "source_hidden": false,
          "outputs_hidden": false
        },
        "nteract": {
          "transient": {
            "deleting": false
          }
        }
      }
    },
    {
      "cell_type": "code",
      "source": [
        "plot_ds(data,m[-1],q[-1])"
      ],
      "outputs": [],
      "execution_count": null,
      "metadata": {
        "collapsed": true,
        "jupyter": {
          "source_hidden": false,
          "outputs_hidden": false
        },
        "nteract": {
          "transient": {
            "deleting": false
          }
        }
      }
    },
    {
      "cell_type": "markdown",
      "source": [
        "### Adagrad"
      ],
      "metadata": {
        "nteract": {
          "transient": {
            "deleting": false
          }
        }
      }
    },
    {
      "cell_type": "markdown",
      "source": [
        "Adagrad introduce la possibilità di applicare learning rate diversi ai vari parametri da ottimizzare (dimensioni dello spazio di ricerca): in particolare, dimensioni rispetto alle quali si sono avuti nel corso dei passi precedenti valori elevati del gradiente avranno associati, tendenzialmente, learning rate più piccoli, in modo tale che l'aggiornamento nella direzione stessa sia limitato. Al contrario, in presenza di dimensioni (parametri) con valori del gradiente precedenti piccoli, e quindi poco modificate, il learning rate risulterà più grande, rendendo le modifiche delle componenti corrispondenti più sensibili ai valori del gradiente.\n",
        "\n",
        "Come visto, nella gradient descent \"base\" l'aggiornamento del coefficiente $k$-esimo è dato da\n",
        "\n",
        "$$\n",
        "\\theta_j^{(k+1)}= \\theta_j^{(k)}-\\eta \\frac{\\partial J(\\theta, X)}{\\partial\\theta_j}\\Bigr\\vert_{\\small\\theta=\\theta^{(k)}}= \\theta_j^{(k)}-\\eta\\sum_{i=1}^n\\frac{\\partial J(\\theta;x_i)}{\\partial\\theta_j}\\Bigr\\vert_{\\small\\theta=\\theta^{(k)}}\n",
        "$$\n",
        "\n",
        "dove $\\eta$ è lo stesso per tutti i coefficienti. In Adagrad, l'aggiornamento prevede un learning rate\n",
        "$\\eta_{j}^{(k)}$, dipendente dal coefficiente e dal passo di applicazione del metodo, definito nel modo seguente\n",
        "\n",
        "$$\n",
        "\\eta_{j}^{(k)} = \\frac{\\eta}{\\sqrt{G_{j,k}+\\varepsilon}}\n",
        "$$\n",
        "\n",
        "dove $\\eta$ è una costante, $G_{j,k}=\\sum_{i=0}^{k}g_{j,i}^2$ è la somma dei valori $g_{j,i}=\\frac{\\partial J(\\theta, X)}{\\partial\\theta_j}\\Bigr\\vert_{\\small\\theta=\\theta^{(i)}}$ del gradiente relativo a $\\theta_j$ per tutte le iterazioni precedenti, mentre $\\varepsilon$ è una piccola costante di *smoothing* utilizzata per evitare denominatori nulli.\n",
        "\n",
        "Utilizzando il formalismo introdotto, l'aggiornamento di $\\theta_j$ alla $k+1$-esima iterazione è data da\n",
        "\n",
        "$$\n",
        "\\theta_j^{(k+1)}= \\theta_j^{(k)}-\\frac{\\eta}{\\sqrt{G_{j,k}+\\varepsilon}}g_{j,k}\n",
        "$$\n",
        "\n",
        "Come si può vedere, il learning rate diminuisce in modo monotono al procedere delle iterazioni per tutti i coefficienti. Al tempo stesso, coefficienti con elevati valori di gradiente nel passato (quindi soggetti a variazioni significative) avranno decrementi più elevati del learning rate, che quindi tenderà più rapidamente a $0$ e a modificare poco i valori di tali cofficienti, mentre coefficienti con valori limitati (che sono variati poco fino ad ora) manterrano un learning rate più alto.\n",
        "\n",
        "Dato che in ogni caso il denominatore cresce ad ogni iterazione, il learning rate continua a diminuire fino a raggiungere valori talmente piccoli da impedire un reale aggiornamento della soluzione."
      ],
      "metadata": {
        "nteract": {
          "transient": {
            "deleting": false
          }
        }
      }
    },
    {
      "cell_type": "markdown",
      "source": [
        "### Adadelta"
      ],
      "metadata": {
        "nteract": {
          "transient": {
            "deleting": false
          }
        }
      }
    },
    {
      "cell_type": "markdown",
      "source": [
        "Al fine di limitare una eccessiva diminuzione del learning rate, in Adadelta non vengono accumulati tutti i gradienti passati attraverso la somma dei loro quadrati, per cui si ha:\n",
        "\n",
        "$$\n",
        "G_{j,k}=G_{j,k-1}+g_{j,k}^2\n",
        "$$\n",
        "\n",
        "viene invece applicato uno *smorzamento* (decay) per mezzo di un coefficiente $0<\\gamma<1$\n",
        "\n",
        "$$\n",
        "G_{j,k}=\\gamma G_{j,k-1}+(1-\\gamma)g_{j,k}^2\n",
        "$$\n"
      ],
      "metadata": {
        "nteract": {
          "transient": {
            "deleting": false
          }
        }
      }
    },
    {
      "cell_type": "markdown",
      "source": [
        "### Metodi del secondo ordine"
      ],
      "metadata": {
        "nteract": {
          "transient": {
            "deleting": false
          }
        }
      }
    },
    {
      "cell_type": "markdown",
      "source": [
        "La ricerca di un punto di massimo (o minimo) può anche essere effettuata in termini di ricerca di punti in cui la derivata prima (o il gradiente, in generale) si annullano, applicando uno dei metodi iterativi standard per la ricerca degli zeri di una funzione.\n",
        "\n",
        "Un tipico metodo utilizzato in questo ambito è quello di Newton-Raphson, in cui (considerando una funzione univariata) viene applicato, ad ogni iterazione, l'aggiornamento\n",
        "\n",
        "$$\n",
        "x_{i+1}=x_{i}-\\frac{f(x_{i})}{f'(x_{i})}\n",
        "$$\n",
        "\n",
        "A ogni iterazione, l'algoritmo approssima $f$ per mezzo di una retta tangente a $f$ in $(x_i,f(x_{i}))$, e definisce $x_{i+1}$ come il valore in cui tale retta interseca l'asse $x$.\n",
        "\n",
        "![Newton-Raphson.](assets/newton.pdf)\n",
        "\n",
        "\n",
        "Nel caso in cui si cercano punti di massimo o minimo, l'iterazione evidentemente diviene\n",
        "\n",
        "$$\n",
        "x_{i+1}=x_{i}-\\frac{f'(x_{i})}{f''(x_{i})}\n",
        "$$"
      ],
      "metadata": {
        "nteract": {
          "transient": {
            "deleting": false
          }
        }
      }
    },
    {
      "cell_type": "markdown",
      "source": [
        "Nel caso di funzioni a più variabili, la derivata prima è sostituita dal gradiente\n",
        "$\\nabla f$, mentre la derivata seconda corrisponde alla matrice *Hessiana* $H$, definita come\n",
        "\n",
        "$$\n",
        "H_{ij}(f)=\\frac{\\partial^{2}f}{\\partial x_{i}\\partial x_{j}}\n",
        "$$\n",
        "\n",
        "L'aggiornamento ad ogni iterazione diviene quindi\n",
        "\n",
        "$$\n",
        "x^{(i+1)}=x^{(i)}-\\big(H(f)^{-1}\\nabla f\\big)\\big|_{ x_{(i)}}\n",
        "$$\n"
      ],
      "metadata": {
        "nteract": {
          "transient": {
            "deleting": false
          }
        }
      }
    }
  ],
  "metadata": {
    "kernelspec": {
      "language": "python",
      "argv": [
        "/Users/giorgio/opt/anaconda3/bin/python",
        "-m",
        "ipykernel",
        "-f",
        "{connection_file}"
      ],
      "display_name": "Python 3",
      "name": "python3"
    }
  },
  "nbformat": 4,
  "nbformat_minor": 0
}