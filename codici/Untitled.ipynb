{
 "cells": [
  {
   "cell_type": "markdown",
   "id": "former-white",
   "metadata": {},
   "source": [
    "Programming languages generally have the following common ingredients: variables, operators, iterators, conditional statements, functions (built-in and user defined) and higher-order data structures. We will look at these in Python and highlight qualities unique to this language."
   ]
  },
  {
   "cell_type": "markdown",
   "id": "unlike-worcester",
   "metadata": {},
   "source": [
    "## Variables\n",
    "\n",
    "Variables in Python are defined and typed for you when you set a value to them."
   ]
  },
  {
   "cell_type": "code",
   "execution_count": 2,
   "id": "complicated-surfing",
   "metadata": {},
   "outputs": [
    {
     "name": "stdout",
     "output_type": "stream",
     "text": [
      "2\n"
     ]
    },
    {
     "data": {
      "text/plain": [
       "int"
      ]
     },
     "execution_count": 2,
     "metadata": {},
     "output_type": "execute_result"
    }
   ],
   "source": [
    "my_variable = 2\n",
    "print(my_variable)\n",
    "type(my_variable)"
   ]
  },
  {
   "cell_type": "markdown",
   "id": "young-proof",
   "metadata": {},
   "source": [
    "This makes variable definition easy for the programmer. As usual, though, great power comes with great responsibility. For example:"
   ]
  },
  {
   "cell_type": "code",
   "execution_count": 3,
   "id": "banned-faculty",
   "metadata": {},
   "outputs": [
    {
     "name": "stdout",
     "output_type": "stream",
     "text": [
      "2\n"
     ]
    }
   ],
   "source": [
    "my_varible = my_variable+1\n",
    "print (my_variable)"
   ]
  },
  {
   "cell_type": "markdown",
   "id": "careful-corporation",
   "metadata": {},
   "source": [
    "If you accidentally mistype a variable name, Python will not catch it for you. This can lead to bugs that can be hard to track - so beware."
   ]
  },
  {
   "cell_type": "markdown",
   "id": "pregnant-science",
   "metadata": {},
   "source": [
    "## Types and Typecasting\n",
    "\n",
    "The usual typecasting is available in Python, so it is easy to convert strings to ints or floats, floats to ints, etc. The syntax is slightly different than C:"
   ]
  },
  {
   "cell_type": "code",
   "execution_count": 4,
   "id": "fitting-prior",
   "metadata": {},
   "outputs": [
    {
     "ename": "TypeError",
     "evalue": "can only concatenate str (not \"int\") to str",
     "output_type": "error",
     "traceback": [
      "\u001b[0;31m---------------------------------------------------------------------------\u001b[0m",
      "\u001b[0;31mTypeError\u001b[0m                                 Traceback (most recent call last)",
      "\u001b[0;32m<ipython-input-4-be7863440997>\u001b[0m in \u001b[0;36m<module>\u001b[0;34m\u001b[0m\n\u001b[1;32m      1\u001b[0m \u001b[0ma\u001b[0m \u001b[0;34m=\u001b[0m \u001b[0;34m\"1\"\u001b[0m\u001b[0;34m\u001b[0m\u001b[0;34m\u001b[0m\u001b[0m\n\u001b[1;32m      2\u001b[0m \u001b[0mb\u001b[0m \u001b[0;34m=\u001b[0m \u001b[0;36m5\u001b[0m\u001b[0;34m\u001b[0m\u001b[0;34m\u001b[0m\u001b[0m\n\u001b[0;32m----> 3\u001b[0;31m \u001b[0mprint\u001b[0m\u001b[0;34m(\u001b[0m\u001b[0ma\u001b[0m\u001b[0;34m+\u001b[0m\u001b[0mb\u001b[0m\u001b[0;34m)\u001b[0m\u001b[0;34m\u001b[0m\u001b[0;34m\u001b[0m\u001b[0m\n\u001b[0m",
      "\u001b[0;31mTypeError\u001b[0m: can only concatenate str (not \"int\") to str"
     ]
    }
   ],
   "source": [
    "a = \"1\"\n",
    "b = 5\n",
    "print(a+b)"
   ]
  },
  {
   "cell_type": "code",
   "execution_count": 5,
   "id": "boxed-meaning",
   "metadata": {},
   "outputs": [
    {
     "name": "stdout",
     "output_type": "stream",
     "text": [
      "6\n"
     ]
    }
   ],
   "source": [
    "a = \"1\"\n",
    "b = 5\n",
    "print(int(a)+b)"
   ]
  },
  {
   "cell_type": "markdown",
   "id": "quantitative-mixture",
   "metadata": {},
   "source": [
    "Note that the typing is dynamic. I.e. a variable that was initally say an integer can become another type (float, string, etc.) via reassignment."
   ]
  },
  {
   "cell_type": "code",
   "execution_count": 6,
   "id": "adverse-thunder",
   "metadata": {},
   "outputs": [
    {
     "name": "stdout",
     "output_type": "stream",
     "text": [
      "<class 'str'>\n",
      "<class 'float'>\n"
     ]
    }
   ],
   "source": [
    "a = \"1\"\n",
    "type(a)\n",
    "print(type(a))\n",
    "\n",
    "a = 1.0\n",
    "print(type(a))"
   ]
  },
  {
   "cell_type": "markdown",
   "id": "boring-final",
   "metadata": {},
   "source": [
    "## Operators\n",
    "\n",
    "Python offers the usual operators such as +,-,/,*,=,>,<,==,!=,&,|, (sum, difference, divide, product, assignment, greater than, less than, equal - comparison,not equal, and, or, respectively).\n",
    "Additionally, there are %,// and ** (modulo, floor division and ‘to the power’). Note a few specifics:"
   ]
  },
  {
   "cell_type": "code",
   "execution_count": 7,
   "id": "desirable-terminology",
   "metadata": {},
   "outputs": [
    {
     "name": "stdout",
     "output_type": "stream",
     "text": [
      "0.75\n",
      "0.75\n",
      "3\n",
      "0\n",
      "81\n"
     ]
    }
   ],
   "source": [
    "print(3/4)\n",
    "print(3.0 / 4.0)\n",
    "print(3%4)\n",
    "print(3//4)\n",
    "print(3**4)"
   ]
  },
  {
   "cell_type": "markdown",
   "id": "reported-immigration",
   "metadata": {},
   "source": [
    "Note the behavior of / when applied to integers! This is similar to the behavior of other strongly typed languages such as C/C++. The result of the integer division is the same as the floor division //. If you want the floating point result, the arguments to / must be floats as well (or appropriately typecast)."
   ]
  },
  {
   "cell_type": "code",
   "execution_count": 8,
   "id": "pleased-switzerland",
   "metadata": {},
   "outputs": [
    {
     "name": "stdout",
     "output_type": "stream",
     "text": [
      "0.75\n",
      "0.75\n"
     ]
    }
   ],
   "source": [
    "a = 3\n",
    "b = 4\n",
    "print(a/b)\n",
    "print(float(a)/float(b))"
   ]
  },
  {
   "cell_type": "markdown",
   "id": "accredited-mumbai",
   "metadata": {},
   "source": [
    "## Iterators\n",
    "\n",
    "Python has the usual iterators, while, for, and some other constructions that will be addressed later. Here are examples of each:"
   ]
  },
  {
   "cell_type": "code",
   "execution_count": 9,
   "id": "civic-entry",
   "metadata": {},
   "outputs": [
    {
     "name": "stdout",
     "output_type": "stream",
     "text": [
      "1\n",
      "2\n",
      "3\n",
      "4\n",
      "5\n",
      "6\n",
      "7\n",
      "8\n",
      "9\n"
     ]
    }
   ],
   "source": [
    "for i in range(1,10):\n",
    "     print(i)"
   ]
  },
  {
   "cell_type": "markdown",
   "id": "urban-scheme",
   "metadata": {},
   "source": [
    "The most important thing to note above is that the range function gives us values up to, but not including, the upper limit."
   ]
  },
  {
   "cell_type": "code",
   "execution_count": 10,
   "id": "quantitative-grain",
   "metadata": {},
   "outputs": [
    {
     "name": "stdout",
     "output_type": "stream",
     "text": [
      "1\n",
      "2\n",
      "3\n",
      "4\n",
      "5\n",
      "6\n",
      "7\n",
      "8\n",
      "9\n"
     ]
    }
   ],
   "source": [
    "i = 1\n",
    "while i < 10:\n",
    "    print(i)\n",
    "    i+=1"
   ]
  },
  {
   "cell_type": "markdown",
   "id": "existing-immunology",
   "metadata": {},
   "source": [
    "This is unremarkable, so we proceeed without further comment."
   ]
  },
  {
   "cell_type": "markdown",
   "id": "cardiovascular-doubt",
   "metadata": {},
   "source": [
    "## Conditional Statements"
   ]
  },
  {
   "cell_type": "code",
   "execution_count": 11,
   "id": "electronic-speaking",
   "metadata": {},
   "outputs": [
    {
     "name": "stdout",
     "output_type": "stream",
     "text": [
      "else\n"
     ]
    }
   ],
   "source": [
    "a = 20\n",
    "if a >= 22:\n",
    "   print(\"if\")\n",
    "elif a >= 21:\n",
    "    print(\"elif\")\n",
    "else:\n",
    "    print(\"else\")"
   ]
  },
  {
   "cell_type": "markdown",
   "id": "ongoing-python",
   "metadata": {},
   "source": [
    "Again, nothing remarkable here, just need to learn the syntax. Here, we should also mention spacing. Python is picky about indentation - you must start a newline after each conditional statemen (it is the same for the iterators above) and indent the same number of spaces for every statement within the scope of that condition.\n"
   ]
  },
  {
   "cell_type": "code",
   "execution_count": 12,
   "id": "ethical-mouse",
   "metadata": {},
   "outputs": [
    {
     "ename": "IndentationError",
     "evalue": "unexpected indent (<ipython-input-12-41a7aa888384>, line 4)",
     "output_type": "error",
     "traceback": [
      "\u001b[0;36m  File \u001b[0;32m\"<ipython-input-12-41a7aa888384>\"\u001b[0;36m, line \u001b[0;32m4\u001b[0m\n\u001b[0;31m    print(\"greater than or equal 22\")\u001b[0m\n\u001b[0m    ^\u001b[0m\n\u001b[0;31mIndentationError\u001b[0m\u001b[0;31m:\u001b[0m unexpected indent\n"
     ]
    }
   ],
   "source": [
    "a = 23\n",
    "if a >= 22:\n",
    "   print(\"if\")\n",
    "    print(\"greater than or equal 22\")\n",
    "elif a >= 21:\n",
    "    print(\"elif\")\n",
    "else:\n",
    "    print(\"else\")"
   ]
  },
  {
   "cell_type": "code",
   "execution_count": 13,
   "id": "beginning-dollar",
   "metadata": {},
   "outputs": [
    {
     "name": "stdout",
     "output_type": "stream",
     "text": [
      "if\n",
      "greater than or equal 22\n"
     ]
    }
   ],
   "source": [
    "a = 23\n",
    "if a >= 22:\n",
    "   print(\"if\")\n",
    "   print(\"greater than or equal 22\")\n",
    "elif a >= 21:\n",
    "    print(\"elif\")\n",
    "else:\n",
    "    print(\"else\")"
   ]
  },
  {
   "cell_type": "markdown",
   "id": "numerical-money",
   "metadata": {},
   "source": [
    "Four spaces are customary, but you can use whatever you like. Consistency is necessary."
   ]
  },
  {
   "cell_type": "markdown",
   "id": "pending-stand",
   "metadata": {},
   "source": [
    "Python has another type of conditional expression that is very useful. Suppose your program is processing user input or data from a file. You don’t always know for sure what you are getting in that case, and this can lead to problems. The ‘try/except’ conditional can solve them!"
   ]
  },
  {
   "cell_type": "code",
   "execution_count": 14,
   "id": "injured-distinction",
   "metadata": {},
   "outputs": [
    {
     "name": "stdout",
     "output_type": "stream",
     "text": [
      "1  is not a number\n"
     ]
    }
   ],
   "source": [
    "a = \"1\"\n",
    "\n",
    "try:\n",
    "  b = a + 2\n",
    "except:\n",
    "  print(a, \" is not a number\")"
   ]
  },
  {
   "cell_type": "markdown",
   "id": "wired-translation",
   "metadata": {},
   "source": [
    "Here, we have tried to add a number and a string. That generates an exception - but we have trapped the exception and informed the user of the problem. This is much preferable to the programming crashing with some cryptic error like:"
   ]
  },
  {
   "cell_type": "code",
   "execution_count": 15,
   "id": "selected-loading",
   "metadata": {},
   "outputs": [
    {
     "ename": "TypeError",
     "evalue": "can only concatenate str (not \"int\") to str",
     "output_type": "error",
     "traceback": [
      "\u001b[0;31m---------------------------------------------------------------------------\u001b[0m",
      "\u001b[0;31mTypeError\u001b[0m                                 Traceback (most recent call last)",
      "\u001b[0;32m<ipython-input-15-d3a6f614f9e8>\u001b[0m in \u001b[0;36m<module>\u001b[0;34m\u001b[0m\n\u001b[1;32m      1\u001b[0m \u001b[0ma\u001b[0m \u001b[0;34m=\u001b[0m \u001b[0;34m\"1\"\u001b[0m\u001b[0;34m\u001b[0m\u001b[0;34m\u001b[0m\u001b[0m\n\u001b[0;32m----> 2\u001b[0;31m \u001b[0mb\u001b[0m \u001b[0;34m=\u001b[0m \u001b[0ma\u001b[0m \u001b[0;34m+\u001b[0m \u001b[0;36m2\u001b[0m\u001b[0;34m\u001b[0m\u001b[0;34m\u001b[0m\u001b[0m\n\u001b[0m",
      "\u001b[0;31mTypeError\u001b[0m: can only concatenate str (not \"int\") to str"
     ]
    }
   ],
   "source": [
    "a = \"1\"\n",
    "b = a + 2\n"
   ]
  },
  {
   "cell_type": "markdown",
   "id": "hungry-content",
   "metadata": {},
   "source": [
    "## Functions"
   ]
  },
  {
   "cell_type": "code",
   "execution_count": 16,
   "id": "played-bibliography",
   "metadata": {},
   "outputs": [
    {
     "name": "stdout",
     "output_type": "stream",
     "text": [
      "0.75\n",
      "0.75\n",
      "0.75\n",
      "0.75\n"
     ]
    }
   ],
   "source": [
    "def Division(a, b):\n",
    "    print(a/b)\n",
    "Division(3,4)\n",
    "Division(3.0,4.0)\n",
    "Division(3,4.0)\n",
    "Division(3.0,4)"
   ]
  },
  {
   "cell_type": "markdown",
   "id": "listed-rendering",
   "metadata": {},
   "source": [
    "Notice that the function does not specify the types of the arguments, like you would see in statically typed languages. This is both useful and dangerous. For example:"
   ]
  },
  {
   "cell_type": "code",
   "execution_count": 17,
   "id": "dress-surrey",
   "metadata": {},
   "outputs": [
    {
     "ename": "TypeError",
     "evalue": "unsupported operand type(s) for /: 'int' and 'str'",
     "output_type": "error",
     "traceback": [
      "\u001b[0;31m---------------------------------------------------------------------------\u001b[0m",
      "\u001b[0;31mTypeError\u001b[0m                                 Traceback (most recent call last)",
      "\u001b[0;32m<ipython-input-17-18c24b7a5338>\u001b[0m in \u001b[0;36m<module>\u001b[0;34m\u001b[0m\n\u001b[1;32m      1\u001b[0m \u001b[0;32mdef\u001b[0m \u001b[0mDivision\u001b[0m\u001b[0;34m(\u001b[0m\u001b[0ma\u001b[0m\u001b[0;34m,\u001b[0m \u001b[0mb\u001b[0m\u001b[0;34m)\u001b[0m\u001b[0;34m:\u001b[0m\u001b[0;34m\u001b[0m\u001b[0;34m\u001b[0m\u001b[0m\n\u001b[1;32m      2\u001b[0m     \u001b[0mprint\u001b[0m\u001b[0;34m(\u001b[0m\u001b[0ma\u001b[0m\u001b[0;34m/\u001b[0m\u001b[0mb\u001b[0m\u001b[0;34m)\u001b[0m\u001b[0;34m\u001b[0m\u001b[0;34m\u001b[0m\u001b[0m\n\u001b[0;32m----> 3\u001b[0;31m \u001b[0mDivision\u001b[0m\u001b[0;34m(\u001b[0m\u001b[0;36m2\u001b[0m\u001b[0;34m,\u001b[0m\u001b[0;34m\"2\"\u001b[0m\u001b[0;34m)\u001b[0m\u001b[0;34m\u001b[0m\u001b[0;34m\u001b[0m\u001b[0m\n\u001b[0m",
      "\u001b[0;32m<ipython-input-17-18c24b7a5338>\u001b[0m in \u001b[0;36mDivision\u001b[0;34m(a, b)\u001b[0m\n\u001b[1;32m      1\u001b[0m \u001b[0;32mdef\u001b[0m \u001b[0mDivision\u001b[0m\u001b[0;34m(\u001b[0m\u001b[0ma\u001b[0m\u001b[0;34m,\u001b[0m \u001b[0mb\u001b[0m\u001b[0;34m)\u001b[0m\u001b[0;34m:\u001b[0m\u001b[0;34m\u001b[0m\u001b[0;34m\u001b[0m\u001b[0m\n\u001b[0;32m----> 2\u001b[0;31m     \u001b[0mprint\u001b[0m\u001b[0;34m(\u001b[0m\u001b[0ma\u001b[0m\u001b[0;34m/\u001b[0m\u001b[0mb\u001b[0m\u001b[0;34m)\u001b[0m\u001b[0;34m\u001b[0m\u001b[0;34m\u001b[0m\u001b[0m\n\u001b[0m\u001b[1;32m      3\u001b[0m \u001b[0mDivision\u001b[0m\u001b[0;34m(\u001b[0m\u001b[0;36m2\u001b[0m\u001b[0;34m,\u001b[0m\u001b[0;34m\"2\"\u001b[0m\u001b[0;34m)\u001b[0m\u001b[0;34m\u001b[0m\u001b[0;34m\u001b[0m\u001b[0m\n",
      "\u001b[0;31mTypeError\u001b[0m: unsupported operand type(s) for /: 'int' and 'str'"
     ]
    }
   ],
   "source": [
    "def Division(a, b):\n",
    "    print(a/b)\n",
    "Division(2,\"2\")"
   ]
  },
  {
   "cell_type": "markdown",
   "id": "alternative-serve",
   "metadata": {},
   "source": [
    "In a statically typed language, the programmer would have specified the type of a and b (float, int, etc.) and the compiler would have complained about the function being passed a variable of the wrong type. This does not happen here, but we can use the try/except construction."
   ]
  },
  {
   "cell_type": "code",
   "execution_count": 18,
   "id": "powered-registration",
   "metadata": {},
   "outputs": [
    {
     "name": "stdout",
     "output_type": "stream",
     "text": [
      "1.0\n",
      "cannot divide by zero\n"
     ]
    }
   ],
   "source": [
    "def Division(a, b):\n",
    "    try:\n",
    "        print(a/b)\n",
    "    except:\n",
    "        if b == 0:\n",
    "           print(\"cannot divide by zero\")\n",
    "        else:\n",
    "           print(float(a)/float(b))\n",
    "Division(2,\"2\")\n",
    "Division(2,0)"
   ]
  },
  {
   "cell_type": "markdown",
   "id": "improved-break",
   "metadata": {},
   "source": [
    "## Strings and String Handling"
   ]
  },
  {
   "cell_type": "markdown",
   "id": "excess-capture",
   "metadata": {},
   "source": [
    "One of the most important features of Python is its powerful and easy handling of strings. Defining strings is simple enough in most languages. But in Python, it is easy to search and replace, convert cases, concatenate, or access elements. We’ll discuss a few of these here. For a complete list, see: http://www.tutorialspoint.com/python/python_strings.htm"
   ]
  },
  {
   "cell_type": "code",
   "execution_count": 19,
   "id": "incoming-combination",
   "metadata": {},
   "outputs": [
    {
     "name": "stdout",
     "output_type": "stream",
     "text": [
      "A string of characters, with newline \n",
      " CAPITALS, etc.\n",
      "A string of characters, with newline \n",
      " CAPITALS, etc.\n",
      " We can format strings for printing 5.00\n"
     ]
    }
   ],
   "source": [
    "a = \"A string of characters, with newline \\n CAPITALS, etc.\"\n",
    "print(a)\n",
    "b=5.0\n",
    "newstring = a + \"\\n We can format strings for printing %.2f\"\n",
    "print(newstring %b)"
   ]
  },
  {
   "cell_type": "markdown",
   "id": "anticipated-aluminum",
   "metadata": {},
   "source": [
    "Now let’s try some other string operations:"
   ]
  },
  {
   "cell_type": "code",
   "execution_count": 20,
   "id": "maritime-nurse",
   "metadata": {},
   "outputs": [
    {
     "name": "stdout",
     "output_type": "stream",
     "text": [
      "BC\n",
      "ABC D\n"
     ]
    }
   ],
   "source": [
    "a = \"ABC DEFG\"\n",
    "print(a[1:3])\n",
    "print(a[0:5])"
   ]
  },
  {
   "cell_type": "markdown",
   "id": "guided-slope",
   "metadata": {},
   "source": [
    "There are several things to learn from the above. First, Python has associated an index to the string. Second the indexing starts at 0, and lastly, the upper limit again means ‘up to but not including’ (a[0:5] prints elements 0,1,2,3,4)."
   ]
  },
  {
   "cell_type": "code",
   "execution_count": 21,
   "id": "vulnerable-messaging",
   "metadata": {},
   "outputs": [
    {
     "name": "stdout",
     "output_type": "stream",
     "text": [
      "abc defg\n",
      "ABC DEFG\n",
      "4\n",
      "ABC afg\n",
      "ABC defg\n",
      "ABC aaag\n",
      "ABC cccg\n"
     ]
    },
    {
     "data": {
      "text/plain": [
       "3"
      ]
     },
     "execution_count": 21,
     "metadata": {},
     "output_type": "execute_result"
    }
   ],
   "source": [
    "a = \"ABC defg\"\n",
    "print(a.lower())\n",
    "print(a.upper())\n",
    "print(a.find('d'))\n",
    "print(a.replace('de','a'))\n",
    "print(a)\n",
    "b = a.replace('def','aaa')\n",
    "print(b)\n",
    "b = b.replace('a','c')\n",
    "print(b)\n",
    "b.count('c')"
   ]
  },
  {
   "cell_type": "markdown",
   "id": "announced-avatar",
   "metadata": {},
   "source": [
    "This is fun! What else can you do with strings in Python? Pretty much anything you can think of!"
   ]
  },
  {
   "cell_type": "markdown",
   "id": "official-keeping",
   "metadata": {},
   "source": [
    "## Lists, Tuples, Dictionaries"
   ]
  },
  {
   "cell_type": "markdown",
   "id": "honest-veteran",
   "metadata": {},
   "source": [
    "### Lists\n",
    "\n",
    "Lists are exactly as the name implies. They are lists of objects. The objects can be any data type (including lists), and it is allowed to mix data types. In this way they are much more flexible than arrays. It is possible to append, delete, insert and count elements and to sort, reverse, etc. the list.\n"
   ]
  },
  {
   "cell_type": "code",
   "execution_count": 22,
   "id": "geological-estonia",
   "metadata": {},
   "outputs": [
    {
     "name": "stdout",
     "output_type": "stream",
     "text": [
      "['A', 'B', 'F', 'G', 'd', 'x', 'c', [1, 2, 3, 'this is a string', 5.3], 3]\n",
      "[[1, 2, 3, 'this is a string', 5.3], 3]\n"
     ]
    }
   ],
   "source": [
    "a_list = [1,2,3,\"this is a string\",5.3]\n",
    "b_list = [\"A\",\"B\",\"F\",\"G\",\"d\",\"x\",\"c\",a_list,3]\n",
    "print(b_list)\n",
    "print(b_list[7:9])"
   ]
  },
  {
   "cell_type": "code",
   "execution_count": 23,
   "id": "indoor-citizen",
   "metadata": {},
   "outputs": [
    {
     "name": "stdout",
     "output_type": "stream",
     "text": [
      "[0, 1, 2, 3, 4, 5, 6, 7]\n",
      "[0, 1, 2, 3, 4, 5, 6, 7, 8]\n",
      "[8, 7, 6, 5, 4, 3, 2, 1, 0]\n",
      "[0, 1, 2, 3, 4, 5, 6, 7, 8]\n",
      "[0, 1, 2, 3, 4, 5, 6, 7]\n",
      "[0, 1, 2, 4, 5, 6, 7]\n",
      "[0, 1, 2, 4, 6, 7]\n"
     ]
    }
   ],
   "source": [
    "a = [1,2,3,4,5,6,7]\n",
    "a.insert(0,0)\n",
    "print(a)\n",
    "a.append(8)\n",
    "print(a)\n",
    "a.reverse()\n",
    "print(a)\n",
    "a.sort()\n",
    "print(a)\n",
    "a.pop()\n",
    "print(a)\n",
    "a.remove(3)\n",
    "print(a)\n",
    "a.remove(a[4])\n",
    "print(a)"
   ]
  },
  {
   "cell_type": "markdown",
   "id": "relative-cookie",
   "metadata": {},
   "source": [
    "Just like with strings, elements are indexed beginning with 0."
   ]
  },
  {
   "cell_type": "markdown",
   "id": "necessary-disposal",
   "metadata": {},
   "source": [
    "Lists can be constructed using ‘for’ and some conditional statements. These are called, ‘list comprehensions’. For example:"
   ]
  },
  {
   "cell_type": "code",
   "execution_count": null,
   "id": "mighty-weather",
   "metadata": {},
   "outputs": [],
   "source": [
    "even_numbers = [x for x in range(100) if x % 2 == 0]\n",
    "print(even_numbers)"
   ]
  },
  {
   "cell_type": "markdown",
   "id": "peaceful-sauce",
   "metadata": {},
   "source": [
    "List comprehensions can work on strings as well:"
   ]
  },
  {
   "cell_type": "code",
   "execution_count": null,
   "id": "sublime-visibility",
   "metadata": {},
   "outputs": [],
   "source": [
    "first_sentence = \"It was a dark and stormy night.\"\n",
    "characters = [x for x in first_sentence]\n",
    "print(characters)"
   ]
  },
  {
   "cell_type": "markdown",
   "id": "decreased-wednesday",
   "metadata": {},
   "source": [
    "For more on comprehensions see: https://docs.python.org/2/tutorial/datastructures.html?highlight=comprehensions"
   ]
  },
  {
   "cell_type": "markdown",
   "id": "simplified-filling",
   "metadata": {},
   "source": [
    "Another similar feature is called ‘map’. Map applies a function to a list. The syntax is"
   ]
  },
  {
   "cell_type": "code",
   "execution_count": null,
   "id": "controlling-morris",
   "metadata": {},
   "outputs": [],
   "source": [
    "map(aFunction, aSequence). Consider the following examples:\n",
    "\n",
    "def sqr(x): return x ** 2\n",
    "a = [2,3,4]\n",
    "b = [10,5,3]\n",
    "c = map(sqr,a)\n",
    "print(c)\n",
    "d = map(pow,a,b)\n",
    "print(d)"
   ]
  },
  {
   "cell_type": "markdown",
   "id": "aboriginal-nickname",
   "metadata": {},
   "source": [
    "Note that map is usually more efficient than the equivalent list comprehension or looping contruct."
   ]
  },
  {
   "cell_type": "markdown",
   "id": "structured-virgin",
   "metadata": {},
   "source": [
    "### Tuples\n",
    "\n",
    "Tuples are like lists with one very important difference. Tuples are not changeable."
   ]
  },
  {
   "cell_type": "code",
   "execution_count": 24,
   "id": "completed-faith",
   "metadata": {},
   "outputs": [
    {
     "name": "stdout",
     "output_type": "stream",
     "text": [
      "(1, 2, 3, 4)\n"
     ]
    },
    {
     "ename": "TypeError",
     "evalue": "'tuple' object does not support item assignment",
     "output_type": "error",
     "traceback": [
      "\u001b[0;31m---------------------------------------------------------------------------\u001b[0m",
      "\u001b[0;31mTypeError\u001b[0m                                 Traceback (most recent call last)",
      "\u001b[0;32m<ipython-input-24-5d4cff4b2cf3>\u001b[0m in \u001b[0;36m<module>\u001b[0;34m\u001b[0m\n\u001b[1;32m      1\u001b[0m \u001b[0ma\u001b[0m \u001b[0;34m=\u001b[0m \u001b[0;34m(\u001b[0m\u001b[0;36m1\u001b[0m\u001b[0;34m,\u001b[0m\u001b[0;36m2\u001b[0m\u001b[0;34m,\u001b[0m\u001b[0;36m3\u001b[0m\u001b[0;34m,\u001b[0m\u001b[0;36m4\u001b[0m\u001b[0;34m)\u001b[0m\u001b[0;34m\u001b[0m\u001b[0;34m\u001b[0m\u001b[0m\n\u001b[1;32m      2\u001b[0m \u001b[0mprint\u001b[0m\u001b[0;34m(\u001b[0m\u001b[0ma\u001b[0m\u001b[0;34m)\u001b[0m\u001b[0;34m\u001b[0m\u001b[0;34m\u001b[0m\u001b[0m\n\u001b[0;32m----> 3\u001b[0;31m \u001b[0ma\u001b[0m\u001b[0;34m[\u001b[0m\u001b[0;36m1\u001b[0m\u001b[0;34m]\u001b[0m \u001b[0;34m=\u001b[0m \u001b[0;36m2\u001b[0m\u001b[0;34m\u001b[0m\u001b[0;34m\u001b[0m\u001b[0m\n\u001b[0m\u001b[1;32m      4\u001b[0m \u001b[0ma\u001b[0m \u001b[0;34m=\u001b[0m \u001b[0;34m(\u001b[0m\u001b[0;36m1\u001b[0m\u001b[0;34m,\u001b[0m\u001b[0;34m\"string in a tuple\"\u001b[0m\u001b[0;34m,\u001b[0m\u001b[0;36m5.3\u001b[0m\u001b[0;34m)\u001b[0m\u001b[0;34m\u001b[0m\u001b[0;34m\u001b[0m\u001b[0m\n\u001b[1;32m      5\u001b[0m \u001b[0mb\u001b[0m \u001b[0;34m=\u001b[0m \u001b[0;34m(\u001b[0m\u001b[0ma\u001b[0m\u001b[0;34m,\u001b[0m\u001b[0;36m1\u001b[0m\u001b[0;34m,\u001b[0m\u001b[0;36m2\u001b[0m\u001b[0;34m,\u001b[0m\u001b[0;36m3\u001b[0m\u001b[0;34m)\u001b[0m\u001b[0;34m\u001b[0m\u001b[0;34m\u001b[0m\u001b[0m\n",
      "\u001b[0;31mTypeError\u001b[0m: 'tuple' object does not support item assignment"
     ]
    }
   ],
   "source": [
    "a = (1,2,3,4)\n",
    "print(a)\n",
    "a[1] = 2\n",
    "a = (1,\"string in a tuple\",5.3)\n",
    "b = (a,1,2,3)\n",
    "print(a)\n",
    "print(b)"
   ]
  },
  {
   "cell_type": "markdown",
   "id": "multiple-remedy",
   "metadata": {},
   "source": [
    "As you can see, all of the other flexibility remains - so use tuples when you have a list that you do not want to modify."
   ]
  },
  {
   "cell_type": "markdown",
   "id": "mineral-cartridge",
   "metadata": {},
   "source": [
    "One other handy feature of tuples is known as ‘tuple unpacking’. Essentially, this means we can assign the values of a tuple to a list of variable names, like so:"
   ]
  },
  {
   "cell_type": "code",
   "execution_count": 25,
   "id": "lovely-schema",
   "metadata": {},
   "outputs": [
    {
     "name": "stdout",
     "output_type": "stream",
     "text": [
      "Chestnut\n",
      "('Dash', 'Bast')\n"
     ]
    }
   ],
   "source": [
    "my_pets = (\"Chestnut\", \"Tibbs\", \"Dash\", \"Bast\")\n",
    "(aussie,b_collie,indoor_cat,outdoor_cat) = my_pets\n",
    "print(aussie)\n",
    "cats=(indoor_cat,outdoor_cat)\n",
    "print(cats)"
   ]
  },
  {
   "cell_type": "markdown",
   "id": "efficient-deficit",
   "metadata": {},
   "source": [
    "### Dictionaries\n",
    "\n",
    "Dictionaries are unordered, keyed lists. Lists are ordered, and the index may be viewed as a key."
   ]
  },
  {
   "cell_type": "code",
   "execution_count": 28,
   "id": "wrong-pharmacology",
   "metadata": {},
   "outputs": [
    {
     "name": "stdout",
     "output_type": "stream",
     "text": [
      "B\n"
     ]
    }
   ],
   "source": [
    "a = [\"A\",\"B\",\"C\",\"D\"] #list example\n",
    "print(a[1])"
   ]
  },
  {
   "cell_type": "code",
   "execution_count": 29,
   "id": "annual-oxford",
   "metadata": {},
   "outputs": [
    {
     "ename": "KeyError",
     "evalue": "1",
     "output_type": "error",
     "traceback": [
      "\u001b[0;31m---------------------------------------------------------------------------\u001b[0m",
      "\u001b[0;31mKeyError\u001b[0m                                  Traceback (most recent call last)",
      "\u001b[0;32m<ipython-input-29-e643659976bb>\u001b[0m in \u001b[0;36m<module>\u001b[0;34m\u001b[0m\n\u001b[1;32m      1\u001b[0m \u001b[0ma\u001b[0m \u001b[0;34m=\u001b[0m \u001b[0;34m{\u001b[0m\u001b[0;34m'anItem'\u001b[0m\u001b[0;34m:\u001b[0m \u001b[0;34m\"A\"\u001b[0m\u001b[0;34m,\u001b[0m \u001b[0;34m'anotherItem'\u001b[0m\u001b[0;34m:\u001b[0m \u001b[0;34m\"B\"\u001b[0m\u001b[0;34m,\u001b[0m\u001b[0;34m'athirdItem'\u001b[0m\u001b[0;34m:\u001b[0m\u001b[0;34m\"C\"\u001b[0m\u001b[0;34m,\u001b[0m\u001b[0;34m'afourthItem'\u001b[0m\u001b[0;34m:\u001b[0m\u001b[0;34m\"D\"\u001b[0m\u001b[0;34m}\u001b[0m \u001b[0;31m# dictionary example\u001b[0m\u001b[0;34m\u001b[0m\u001b[0;34m\u001b[0m\u001b[0m\n\u001b[0;32m----> 2\u001b[0;31m \u001b[0mprint\u001b[0m\u001b[0;34m(\u001b[0m\u001b[0ma\u001b[0m\u001b[0;34m[\u001b[0m\u001b[0;36m1\u001b[0m\u001b[0;34m]\u001b[0m\u001b[0;34m)\u001b[0m\u001b[0;34m\u001b[0m\u001b[0;34m\u001b[0m\u001b[0m\n\u001b[0m",
      "\u001b[0;31mKeyError\u001b[0m: 1"
     ]
    }
   ],
   "source": [
    "a = {'anItem': \"A\", 'anotherItem': \"B\",'athirdItem':\"C\",'afourthItem':\"D\"} # dictionary example\n",
    "print(a[1])"
   ]
  },
  {
   "cell_type": "code",
   "execution_count": 30,
   "id": "referenced-glasgow",
   "metadata": {},
   "outputs": [
    {
     "name": "stdout",
     "output_type": "stream",
     "text": [
      "A\n",
      "{'anItem': 'A', 'anotherItem': 'B', 'athirdItem': 'C', 'afourthItem': 'D'}\n"
     ]
    }
   ],
   "source": [
    "a = {'anItem': \"A\", 'anotherItem': \"B\",'athirdItem':\"C\",'afourthItem':\"D\"} # dictionary example\n",
    "print(a['anItem'])"
   ]
  },
  {
   "cell_type": "code",
   "execution_count": 31,
   "id": "quick-seminar",
   "metadata": {},
   "outputs": [
    {
     "name": "stdout",
     "output_type": "stream",
     "text": [
      "{'anItem': 'A', 'anotherItem': 'B', 'athirdItem': 'C', 'afourthItem': 'D'}\n"
     ]
    }
   ],
   "source": [
    "print(a)"
   ]
  },
  {
   "cell_type": "markdown",
   "id": "annoying-alert",
   "metadata": {},
   "source": [
    "The dictionary does not order the items, and you cannot access them assuming an order (as an index does). You access elements using the keys."
   ]
  },
  {
   "cell_type": "markdown",
   "id": "disturbed-matter",
   "metadata": {},
   "source": [
    "### Sets\n",
    "Sets are unordered collections of unique elements. Intersections, unions and set differences are supported operations. They can be used to remove duplicates from a collection or to test for membership. For example:"
   ]
  },
  {
   "cell_type": "code",
   "execution_count": 36,
   "id": "simplified-freeware",
   "metadata": {},
   "outputs": [
    {
     "name": "stdout",
     "output_type": "stream",
     "text": [
      "{'oranges'}\n",
      "{'bananas', 'grapes', 'apples'}\n",
      "{'limes', 'grapefruits', 'lemons', 'clementines'}\n",
      "{'grapefruits', 'lemons', 'clementines', 'oranges', 'apples', 'bananas', 'grapes', 'limes'}\n",
      "['a', 'a', 'a', 'b', 1, 2, 3, 'd', 1]\n",
      "{1, 2, 3, 'd', 'a', 'b'}\n",
      "[1, 2, 3, 'd', 'a', 'b']\n"
     ]
    }
   ],
   "source": [
    "fruits = set([\"apples\",\"oranges\",\"grapes\",\"bananas\"])\n",
    "citrus = set([\"lemons\",\"oranges\",\"limes\",\"grapefruits\",\"clementines\"])\n",
    "citrus_in_fruits = fruits & citrus   #intersection\n",
    "print(citrus_in_fruits)\n",
    "diff_fruits = fruits - citrus        # set difference\n",
    "print(diff_fruits)\n",
    "diff_fruits_reverse = citrus - fruits  # set difference\n",
    "print(diff_fruits_reverse)\n",
    "citrus_or_fruits = citrus | fruits     # set union\n",
    "print(citrus_or_fruits)\n",
    "a_list = [\"a\", \"a\",\"a\", \"b\",1,2,3,\"d\",1]\n",
    "print(a_list)\n",
    "a_set = set(a_list)  # Convert list to set\n",
    "print(a_set)         # Creates a set with unique elements\n",
    "new_list = list(a_set) # Convert set to list\n",
    "print(new_list)        # Obtain a list with unique elements"
   ]
  },
  {
   "cell_type": "markdown",
   "id": "innovative-reward",
   "metadata": {},
   "source": [
    "More examples and details regarding sets can be found at: https://docs.python.org/2/library/sets.html"
   ]
  },
  {
   "cell_type": "markdown",
   "id": "assured-humanitarian",
   "metadata": {},
   "source": [
    "## Classes\n",
    "\n",
    "A class (or object) bundles data (known as attributes) and functions (known as methods) together. We access the attributes and methods of a class using the ‘.’ notation. Since everything in Python is an object, we have already been using this attribute acccess - e.g. when we call 'hello'.upper(), we are using the upper method of the instance 'hello' of the string class.\n",
    "\n",
    "The creation of custom classes will not be covered in this course."
   ]
  },
  {
   "cell_type": "markdown",
   "id": "blank-perry",
   "metadata": {},
   "source": [
    "## Modules\n",
    "\n",
    "As the code base gets larger, it is convenient to organize them as modules or packages. At the simplest level, modules can just be regular python files. We import functions in modules using one of the following import variants:\n"
   ]
  },
  {
   "cell_type": "code",
   "execution_count": null,
   "id": "statutory-commander",
   "metadata": {},
   "outputs": [],
   "source": [
    "import numpy\n",
    "import numpy as np # using an alias\n",
    "import numpy.linalg as la # modules can have submodules\n",
    "from numpy import sin, cos, tan # bring trig functions into global namespace\n",
    "from numpy import * # frowned upon because it pollutes the namespace"
   ]
  },
  {
   "cell_type": "code",
   "execution_count": null,
   "id": "outer-relevance",
   "metadata": {},
   "outputs": [],
   "source": []
  },
  {
   "cell_type": "code",
   "execution_count": null,
   "id": "ranking-calendar",
   "metadata": {},
   "outputs": [],
   "source": [
    "\n",
    "\n",
    " \n",
    "\n",
    "\n",
    "Classes\n",
    "\n",
    "\n",
    "\n",
    "\n",
    "The standard library\n",
    "Python comes with “batteries included”, with a diverse collection of functionality available in standard library modules and functions.\n",
    "\n",
    "References\n",
    "\n",
    "Standard library docs\n",
    "Python Module of the Week gives examples of usage.\n",
    "Installing additional modules\n",
    "Most of the time, we can use the pip package manager to install and uninstall modules for us. In general, all that is needed is to issue the command\n",
    "\n",
    "pip install <packagename>\n",
    "at the command line or\n",
    "\n",
    "! pip install <packagename>\n",
    "from within an IPython notebook.\n",
    "\n",
    "Packages that can be installed using pip are listed in the Python Package Index (PyPI).\n",
    "\n",
    "Pip documentation is at https://pip.pypa.io/en/latest/.\n",
    "\n",
    "Keeping the Anaconda distribution up-to-date\n",
    "Just issue\n",
    "\n",
    "conda update conda\n",
    "conda update anaconda\n",
    "at the command line.\n",
    "\n",
    "Note that conda can do much, much, more.\n",
    "\n",
    "Exercises\n",
    "1. Solve the FizzBuzz probelm\n",
    "\n",
    "“Write a program that prints the numbers from 1 to 100. But for multiples of three print “Fizz” instead of the number and for the multiples of five print “Buzz”. For numbers which are multiples of both three and five print “FizzBuzz”.\n",
    "\n",
    "# YOUR CODE HERE\n",
    "\n",
    "# range(start, stop, step)\n",
    "# for loop\n",
    "# print function\n",
    "# % operator\n",
    "# check for equality\n",
    "# if-elif-else control flow\n",
    "\n",
    "for i in range(1, 101):\n",
    "    if i % 15 == 0:\n",
    "        print(\"FizzBuzz\")\n",
    "    elif i % 3 == 0:\n",
    "        print(\"Fizz\")\n",
    "    elif i % 5 == 0:\n",
    "        print(\"Buzz\")\n",
    "    else:\n",
    "        print(i)"
   ]
  }
 ],
 "metadata": {
  "kernelspec": {
   "display_name": "Python 3",
   "language": "python",
   "name": "python3"
  },
  "language_info": {
   "codemirror_mode": {
    "name": "ipython",
    "version": 3
   },
   "file_extension": ".py",
   "mimetype": "text/x-python",
   "name": "python",
   "nbconvert_exporter": "python",
   "pygments_lexer": "ipython3",
   "version": "3.7.7"
  }
 },
 "nbformat": 4,
 "nbformat_minor": 5
}
