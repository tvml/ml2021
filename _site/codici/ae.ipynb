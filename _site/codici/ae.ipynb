{
 "cells": [
  {
   "cell_type": "code",
   "execution_count": null,
   "metadata": {
    "colab": {},
    "colab_type": "code",
    "id": "8tHvN-NwCIrr"
   },
   "outputs": [],
   "source": [
    "%tensorflow_version 2.x"
   ]
  },
  {
   "cell_type": "code",
   "execution_count": 3,
   "metadata": {
    "colab": {
     "base_uri": "https://localhost:8080/",
     "height": 51
    },
    "colab_type": "code",
    "id": "kAph5wBwbXbv",
    "outputId": "501fcf8f-a262-4260-861e-c1ec66482258"
   },
   "outputs": [
    {
     "name": "stderr",
     "output_type": "stream",
     "text": [
      "Using TensorFlow backend.\n"
     ]
    },
    {
     "name": "stdout",
     "output_type": "stream",
     "text": [
      "2.2.0\n"
     ]
    }
   ],
   "source": [
    "from keras.layers import Input, Dense, Conv2D, MaxPooling2D, UpSampling2D, Flatten, Reshape\n",
    "from keras.models import Model, Sequential\n",
    "from keras import regularizers\n",
    "import matplotlib.pyplot as plt\n",
    "import tensorflow as tf\n",
    "print(tf.__version__)"
   ]
  },
  {
   "cell_type": "code",
   "execution_count": 4,
   "metadata": {
    "colab": {
     "base_uri": "https://localhost:8080/",
     "height": 34
    },
    "colab_type": "code",
    "id": "dCydyJ9fNYxF",
    "outputId": "139d3695-1c49-4890-efa1-82d9d05fee56"
   },
   "outputs": [
    {
     "name": "stdout",
     "output_type": "stream",
     "text": [
      "3.6.9\n"
     ]
    }
   ],
   "source": [
    "from platform import python_version\n",
    "\n",
    "print(python_version())"
   ]
  },
  {
   "cell_type": "code",
   "execution_count": 5,
   "metadata": {
    "colab": {
     "base_uri": "https://localhost:8080/",
     "height": 122
    },
    "colab_type": "code",
    "id": "4yXtjuYCbn5d",
    "outputId": "e4609a3f-4c23-4660-cd32-819aae3db738"
   },
   "outputs": [
    {
     "name": "stdout",
     "output_type": "stream",
     "text": [
      "Go to this URL in a browser: https://accounts.google.com/o/oauth2/auth?client_id=947318989803-6bn6qk8qdgf4n4g3pfee6491hc0brc4i.apps.googleusercontent.com&redirect_uri=urn%3aietf%3awg%3aoauth%3a2.0%3aoob&response_type=code&scope=email%20https%3a%2f%2fwww.googleapis.com%2fauth%2fdocs.test%20https%3a%2f%2fwww.googleapis.com%2fauth%2fdrive%20https%3a%2f%2fwww.googleapis.com%2fauth%2fdrive.photos.readonly%20https%3a%2f%2fwww.googleapis.com%2fauth%2fpeopleapi.readonly\n",
      "\n",
      "Enter your authorization code:\n",
      "··········\n",
      "Mounted at /gdrive\n"
     ]
    }
   ],
   "source": [
    "from google.colab import drive\n",
    "drive.mount('/gdrive')"
   ]
  },
  {
   "cell_type": "code",
   "execution_count": null,
   "metadata": {
    "colab": {},
    "colab_type": "code",
    "id": "F4MHlIxub2SM"
   },
   "outputs": [],
   "source": [
    "def save_model(m,filename):\n",
    "    model_json = m.to_json()\n",
    "    with open(\"/gdrive/My Drive/colab_data/\"+filename+\".json\", \"w\") as json_file:\n",
    "        json_file.write(model_json)\n",
    "    # serialize weights to HDF5\n",
    "    m.save_weights(\"/gdrive/My Drive/colab_data/\"+filename+\".h5\")\n",
    "    print(\"Saved model to disk\")"
   ]
  },
  {
   "cell_type": "code",
   "execution_count": null,
   "metadata": {
    "colab": {},
    "colab_type": "code",
    "id": "XE-a6Fv-b3tZ"
   },
   "outputs": [],
   "source": [
    "def load_model_weights(filename, model):\n",
    "    model.load_weights(\"/gdrive/My Drive/colab_data/\"+filename+\".h5\")\n",
    "    print(\"Loaded weights from disk\")\n",
    "    return model"
   ]
  },
  {
   "cell_type": "code",
   "execution_count": null,
   "metadata": {
    "colab": {},
    "colab_type": "code",
    "id": "ZL4L5-aEb7dr"
   },
   "outputs": [],
   "source": [
    "# this is the size of our encoded representations\n",
    "encoding_dim = 32\n",
    "input_size = 784"
   ]
  },
  {
   "cell_type": "code",
   "execution_count": 9,
   "metadata": {
    "colab": {
     "base_uri": "https://localhost:8080/",
     "height": 221
    },
    "colab_type": "code",
    "id": "AbORQ0Lebapy",
    "outputId": "cc2ab9e9-3272-4cd7-9b95-47808196582e"
   },
   "outputs": [
    {
     "name": "stdout",
     "output_type": "stream",
     "text": [
      "Model: \"sequential_1\"\n",
      "_________________________________________________________________\n",
      "Layer (type)                 Output Shape              Param #   \n",
      "=================================================================\n",
      "dense_1 (Dense)              (None, 32)                25120     \n",
      "_________________________________________________________________\n",
      "dense_2 (Dense)              (None, 784)               25872     \n",
      "=================================================================\n",
      "Total params: 50,992\n",
      "Trainable params: 50,992\n",
      "Non-trainable params: 0\n",
      "_________________________________________________________________\n"
     ]
    }
   ],
   "source": [
    "ae = Sequential()\n",
    "\n",
    "# Encoder Layers\n",
    "ae.add(Dense(encoding_dim, input_shape=(input_size,), activation='relu'))\n",
    "\n",
    "# Decoder Layers\n",
    "ae.add(Dense(input_size, activation='sigmoid'))\n",
    "\n",
    "ae.summary()"
   ]
  },
  {
   "cell_type": "code",
   "execution_count": null,
   "metadata": {
    "colab": {},
    "colab_type": "code",
    "id": "33cLZV-Zcy4Y"
   },
   "outputs": [],
   "source": [
    "ae.compile(optimizer='adadelta', loss='binary_crossentropy')"
   ]
  },
  {
   "cell_type": "code",
   "execution_count": 11,
   "metadata": {
    "colab": {
     "base_uri": "https://localhost:8080/",
     "height": 51
    },
    "colab_type": "code",
    "id": "w4Qg4Kxyc3K7",
    "outputId": "01fc0e63-53c8-4c95-cffd-3a2117c4e31e"
   },
   "outputs": [
    {
     "name": "stdout",
     "output_type": "stream",
     "text": [
      "Downloading data from https://s3.amazonaws.com/img-datasets/mnist.npz\n",
      "11493376/11490434 [==============================] - 2s 0us/step\n"
     ]
    }
   ],
   "source": [
    "from keras.datasets import mnist\n",
    "import numpy as np\n",
    "(x_train, _), (x_test, _) = mnist.load_data()"
   ]
  },
  {
   "cell_type": "code",
   "execution_count": 12,
   "metadata": {
    "colab": {
     "base_uri": "https://localhost:8080/",
     "height": 51
    },
    "colab_type": "code",
    "id": "AvZPEKmKc8uu",
    "outputId": "3316deeb-5449-4fbe-f0bb-cb85b87765a7"
   },
   "outputs": [
    {
     "name": "stdout",
     "output_type": "stream",
     "text": [
      "(60000, 784)\n",
      "(10000, 784)\n"
     ]
    }
   ],
   "source": [
    "x_train = x_train.astype('float32') / 255.\n",
    "x_test = x_test.astype('float32') / 255.\n",
    "x_train = x_train.reshape((len(x_train), np.prod(x_train.shape[1:])))\n",
    "x_test = x_test.reshape((len(x_test), np.prod(x_test.shape[1:])))\n",
    "print(x_train.shape)\n",
    "print(x_test.shape)"
   ]
  },
  {
   "cell_type": "code",
   "execution_count": 14,
   "metadata": {
    "colab": {
     "base_uri": "https://localhost:8080/",
     "height": 34
    },
    "colab_type": "code",
    "id": "tuiMxbUAfBiE",
    "outputId": "07fa9b89-7f2d-444e-fba3-7a6380ae3f7c"
   },
   "outputs": [
    {
     "name": "stdout",
     "output_type": "stream",
     "text": [
      "Loaded weights from disk\n"
     ]
    }
   ],
   "source": [
    "#ae = load_model_weights('ae', ae)"
   ]
  },
  {
   "cell_type": "code",
   "execution_count": 14,
   "metadata": {
    "colab": {
     "base_uri": "https://localhost:8080/",
     "height": 1000
    },
    "colab_type": "code",
    "id": "8-p9c_3YdAo6",
    "outputId": "0705e89b-e467-496c-bd3e-e3e50a1f8766"
   },
   "outputs": [
    {
     "name": "stdout",
     "output_type": "stream",
     "text": [
      "Train on 60000 samples, validate on 10000 samples\n",
      "Epoch 1/50\n",
      "60000/60000 [==============================] - 1s 14us/step - loss: 0.1026 - val_loss: 0.1008\n",
      "Epoch 2/50\n",
      "60000/60000 [==============================] - 1s 13us/step - loss: 0.1022 - val_loss: 0.1005\n",
      "Epoch 3/50\n",
      "60000/60000 [==============================] - 1s 13us/step - loss: 0.1019 - val_loss: 0.1001\n",
      "Epoch 4/50\n",
      "60000/60000 [==============================] - 1s 13us/step - loss: 0.1016 - val_loss: 0.0998\n",
      "Epoch 5/50\n",
      "60000/60000 [==============================] - 1s 13us/step - loss: 0.1013 - val_loss: 0.0995\n",
      "Epoch 6/50\n",
      "60000/60000 [==============================] - 1s 13us/step - loss: 0.1010 - val_loss: 0.0993\n",
      "Epoch 7/50\n",
      "60000/60000 [==============================] - 1s 13us/step - loss: 0.1007 - val_loss: 0.0990\n",
      "Epoch 8/50\n",
      "60000/60000 [==============================] - 1s 13us/step - loss: 0.1005 - val_loss: 0.0988\n",
      "Epoch 9/50\n",
      "60000/60000 [==============================] - 1s 13us/step - loss: 0.1002 - val_loss: 0.0985\n",
      "Epoch 10/50\n",
      "60000/60000 [==============================] - 1s 13us/step - loss: 0.1000 - val_loss: 0.0983\n",
      "Epoch 11/50\n",
      "60000/60000 [==============================] - 1s 13us/step - loss: 0.0998 - val_loss: 0.0981\n",
      "Epoch 12/50\n",
      "60000/60000 [==============================] - 1s 13us/step - loss: 0.0995 - val_loss: 0.0979\n",
      "Epoch 13/50\n",
      "60000/60000 [==============================] - 1s 14us/step - loss: 0.0993 - val_loss: 0.0977\n",
      "Epoch 14/50\n",
      "60000/60000 [==============================] - 1s 13us/step - loss: 0.0992 - val_loss: 0.0975\n",
      "Epoch 15/50\n",
      "60000/60000 [==============================] - 1s 13us/step - loss: 0.0990 - val_loss: 0.0973\n",
      "Epoch 16/50\n",
      "60000/60000 [==============================] - 1s 13us/step - loss: 0.0988 - val_loss: 0.0972\n",
      "Epoch 17/50\n",
      "60000/60000 [==============================] - 1s 14us/step - loss: 0.0986 - val_loss: 0.0970\n",
      "Epoch 18/50\n",
      "60000/60000 [==============================] - 1s 13us/step - loss: 0.0985 - val_loss: 0.0969\n",
      "Epoch 19/50\n",
      "60000/60000 [==============================] - 1s 13us/step - loss: 0.0983 - val_loss: 0.0967\n",
      "Epoch 20/50\n",
      "60000/60000 [==============================] - 1s 13us/step - loss: 0.0982 - val_loss: 0.0966\n",
      "Epoch 21/50\n",
      "60000/60000 [==============================] - 1s 14us/step - loss: 0.0981 - val_loss: 0.0965\n",
      "Epoch 22/50\n",
      "60000/60000 [==============================] - 1s 13us/step - loss: 0.0979 - val_loss: 0.0964\n",
      "Epoch 23/50\n",
      "60000/60000 [==============================] - 1s 13us/step - loss: 0.0978 - val_loss: 0.0962\n",
      "Epoch 24/50\n",
      "60000/60000 [==============================] - 1s 13us/step - loss: 0.0977 - val_loss: 0.0961\n",
      "Epoch 25/50\n",
      "60000/60000 [==============================] - 1s 13us/step - loss: 0.0976 - val_loss: 0.0960\n",
      "Epoch 26/50\n",
      "60000/60000 [==============================] - 1s 13us/step - loss: 0.0975 - val_loss: 0.0959\n",
      "Epoch 27/50\n",
      "60000/60000 [==============================] - 1s 14us/step - loss: 0.0974 - val_loss: 0.0958\n",
      "Epoch 28/50\n",
      "60000/60000 [==============================] - 1s 13us/step - loss: 0.0973 - val_loss: 0.0958\n",
      "Epoch 29/50\n",
      "60000/60000 [==============================] - 1s 13us/step - loss: 0.0972 - val_loss: 0.0957\n",
      "Epoch 30/50\n",
      "60000/60000 [==============================] - 1s 13us/step - loss: 0.0971 - val_loss: 0.0956\n",
      "Epoch 31/50\n",
      "60000/60000 [==============================] - 1s 14us/step - loss: 0.0971 - val_loss: 0.0955\n",
      "Epoch 32/50\n",
      "60000/60000 [==============================] - 1s 13us/step - loss: 0.0970 - val_loss: 0.0954\n",
      "Epoch 33/50\n",
      "60000/60000 [==============================] - 1s 13us/step - loss: 0.0969 - val_loss: 0.0954\n",
      "Epoch 34/50\n",
      "60000/60000 [==============================] - 1s 13us/step - loss: 0.0968 - val_loss: 0.0953\n",
      "Epoch 35/50\n",
      "60000/60000 [==============================] - 1s 13us/step - loss: 0.0968 - val_loss: 0.0952\n",
      "Epoch 36/50\n",
      "60000/60000 [==============================] - 1s 13us/step - loss: 0.0967 - val_loss: 0.0952\n",
      "Epoch 37/50\n",
      "60000/60000 [==============================] - 1s 13us/step - loss: 0.0966 - val_loss: 0.0951\n",
      "Epoch 38/50\n",
      "60000/60000 [==============================] - 1s 13us/step - loss: 0.0966 - val_loss: 0.0951\n",
      "Epoch 39/50\n",
      "60000/60000 [==============================] - 1s 13us/step - loss: 0.0965 - val_loss: 0.0950\n",
      "Epoch 40/50\n",
      "60000/60000 [==============================] - 1s 13us/step - loss: 0.0965 - val_loss: 0.0950\n",
      "Epoch 41/50\n",
      "60000/60000 [==============================] - 1s 13us/step - loss: 0.0964 - val_loss: 0.0949\n",
      "Epoch 42/50\n",
      "60000/60000 [==============================] - 1s 13us/step - loss: 0.0963 - val_loss: 0.0948\n",
      "Epoch 43/50\n",
      "60000/60000 [==============================] - 1s 13us/step - loss: 0.0963 - val_loss: 0.0948\n",
      "Epoch 44/50\n",
      "60000/60000 [==============================] - 1s 13us/step - loss: 0.0962 - val_loss: 0.0947\n",
      "Epoch 45/50\n",
      "60000/60000 [==============================] - 1s 13us/step - loss: 0.0962 - val_loss: 0.0947\n",
      "Epoch 46/50\n",
      "60000/60000 [==============================] - 1s 13us/step - loss: 0.0961 - val_loss: 0.0946\n",
      "Epoch 47/50\n",
      "60000/60000 [==============================] - 1s 13us/step - loss: 0.0961 - val_loss: 0.0946\n",
      "Epoch 48/50\n",
      "60000/60000 [==============================] - 1s 13us/step - loss: 0.0960 - val_loss: 0.0946\n",
      "Epoch 49/50\n",
      "60000/60000 [==============================] - 1s 13us/step - loss: 0.0960 - val_loss: 0.0945\n",
      "Epoch 50/50\n",
      "60000/60000 [==============================] - 1s 13us/step - loss: 0.0959 - val_loss: 0.0945\n"
     ]
    }
   ],
   "source": [
    "history = ae.fit(x_train, x_train, epochs=50, batch_size=256, shuffle=True, validation_data=(x_test, x_test))"
   ]
  },
  {
   "cell_type": "code",
   "execution_count": 15,
   "metadata": {
    "colab": {
     "base_uri": "https://localhost:8080/",
     "height": 34
    },
    "colab_type": "code",
    "id": "0IyZV7Y_dwtE",
    "outputId": "fc7aa637-37e2-4116-8237-512501d33720"
   },
   "outputs": [
    {
     "name": "stdout",
     "output_type": "stream",
     "text": [
      "Saved model to disk\n"
     ]
    }
   ],
   "source": [
    "save_model(ae,'ae')"
   ]
  },
  {
   "cell_type": "code",
   "execution_count": 16,
   "metadata": {
    "colab": {
     "base_uri": "https://localhost:8080/",
     "height": 136
    },
    "colab_type": "code",
    "id": "PyZq4tv6M3Eg",
    "outputId": "e71d4df3-fca8-4017-e6e7-24a4af7d462e"
   },
   "outputs": [
    {
     "data": {
      "text/plain": [
       "array([ 0.00194339,  0.0846682 , -0.07817593, -0.07707309,  0.07548209,\n",
       "       -0.0123865 ,  0.01642301, -0.05506727, -0.05366016,  0.06817447,\n",
       "       -0.02695107,  0.01816065,  0.07854893,  0.02507304,  0.0729438 ,\n",
       "        0.04124113,  0.02289303,  0.05009174, -0.05958956, -0.04889537,\n",
       "       -0.03541072, -0.02223837,  0.07349224,  0.00325254,  0.00612249,\n",
       "        0.0630969 , -0.04278798, -0.0028948 ,  0.07713469,  0.08180521,\n",
       "       -0.05644736, -0.03953504], dtype=float32)"
      ]
     },
     "execution_count": 16,
     "metadata": {
      "tags": []
     },
     "output_type": "execute_result"
    }
   ],
   "source": [
    "ae.layers[0].get_weights()[0][780,:]"
   ]
  },
  {
   "cell_type": "code",
   "execution_count": 17,
   "metadata": {
    "colab": {
     "base_uri": "https://localhost:8080/",
     "height": 221
    },
    "colab_type": "code",
    "id": "cZ-vrPUhccO3",
    "outputId": "d3481c21-dbd1-494a-a07c-9c269d965365"
   },
   "outputs": [
    {
     "name": "stdout",
     "output_type": "stream",
     "text": [
      "Model: \"model_1\"\n",
      "_________________________________________________________________\n",
      "Layer (type)                 Output Shape              Param #   \n",
      "=================================================================\n",
      "input_1 (InputLayer)         (None, 784)               0         \n",
      "_________________________________________________________________\n",
      "dense_1 (Dense)              (None, 32)                25120     \n",
      "=================================================================\n",
      "Total params: 25,120\n",
      "Trainable params: 25,120\n",
      "Non-trainable params: 0\n",
      "_________________________________________________________________\n"
     ]
    }
   ],
   "source": [
    "input_img = Input(shape=(input_size,))\n",
    "encoder_layer1 = ae.layers[0]\n",
    "encoder = Model(input_img, encoder_layer1(input_img))\n",
    "\n",
    "encoder.summary()"
   ]
  },
  {
   "cell_type": "code",
   "execution_count": 18,
   "metadata": {
    "colab": {
     "base_uri": "https://localhost:8080/",
     "height": 252
    },
    "colab_type": "code",
    "id": "BUzvaf-ycIrr",
    "outputId": "15b59737-1288-4e60-edc4-da2705addc61"
   },
   "outputs": [
    {
     "data": {
      "image/png": "[encoded data removed]",
      "text/plain": [
       "<Figure size 1296x288 with 30 Axes>"
      ]
     },
     "metadata": {
      "needs_background": "light",
      "tags": []
     },
     "output_type": "display_data"
    }
   ],
   "source": [
    "num_images = 10\n",
    "np.random.seed(42)\n",
    "random_test_images = np.random.randint(x_test.shape[0], size=num_images)\n",
    "\n",
    "encoded_imgs = encoder.predict(x_test)\n",
    "decoded_imgs = ae.predict(x_test)\n",
    "\n",
    "plt.figure(figsize=(18, 4))\n",
    "\n",
    "for i, image_idx in enumerate(random_test_images):\n",
    "    # plot original image\n",
    "    ax = plt.subplot(3, num_images, i + 1)\n",
    "    plt.imshow(x_test[image_idx].reshape(28, 28))\n",
    "    plt.gray()\n",
    "    ax.get_xaxis().set_visible(False)\n",
    "    ax.get_yaxis().set_visible(False)\n",
    "    \n",
    "    # plot encoded image\n",
    "    ax = plt.subplot(3, num_images, num_images + i + 1)\n",
    "    plt.imshow(encoded_imgs[image_idx].reshape(8, 4))\n",
    "    plt.gray()\n",
    "    ax.get_xaxis().set_visible(False)\n",
    "    ax.get_yaxis().set_visible(False)\n",
    "\n",
    "    # plot reconstructed image\n",
    "    ax = plt.subplot(3, num_images, 2*num_images + i + 1)\n",
    "    plt.imshow(decoded_imgs[image_idx].reshape(28, 28))\n",
    "    plt.gray()\n",
    "    ax.get_xaxis().set_visible(False)\n",
    "    ax.get_yaxis().set_visible(False)\n",
    "plt.show()"
   ]
  },
  {
   "cell_type": "code",
   "execution_count": 22,
   "metadata": {
    "colab": {
     "base_uri": "https://localhost:8080/",
     "height": 221
    },
    "colab_type": "code",
    "id": "dQSZFC5Ggx2r",
    "outputId": "332dab05-7a93-4fdc-933a-4f72868ccf67"
   },
   "outputs": [
    {
     "name": "stdout",
     "output_type": "stream",
     "text": [
      "Model: \"sequential_3\"\n",
      "_________________________________________________________________\n",
      "Layer (type)                 Output Shape              Param #   \n",
      "=================================================================\n",
      "dense_5 (Dense)              (None, 32)                25120     \n",
      "_________________________________________________________________\n",
      "dense_6 (Dense)              (None, 784)               25872     \n",
      "=================================================================\n",
      "Total params: 50,992\n",
      "Trainable params: 50,992\n",
      "Non-trainable params: 0\n",
      "_________________________________________________________________\n"
     ]
    }
   ],
   "source": [
    "ae1 = Sequential()\n",
    "\n",
    "# Encoder Layers\n",
    "ae1.add(Dense(encoding_dim, input_shape=(input_size,), activation='relu',\n",
    "                activity_regularizer=regularizers.l1(10e-6)))\n",
    "\n",
    "# Decoder Layers\n",
    "ae1.add(Dense(input_size, activation='sigmoid'))\n",
    "\n",
    "ae1.summary()"
   ]
  },
  {
   "cell_type": "code",
   "execution_count": null,
   "metadata": {
    "colab": {},
    "colab_type": "code",
    "id": "EYtUwlw5erNj"
   },
   "outputs": [],
   "source": [
    "ae1.compile(optimizer='adadelta', loss='binary_crossentropy')"
   ]
  },
  {
   "cell_type": "code",
   "execution_count": 23,
   "metadata": {
    "colab": {
     "base_uri": "https://localhost:8080/",
     "height": 34
    },
    "colab_type": "code",
    "id": "QHT2QwOBfSfu",
    "outputId": "16d81fd2-e8d6-4cad-8f4b-cbefa6f4d8c8"
   },
   "outputs": [
    {
     "name": "stdout",
     "output_type": "stream",
     "text": [
      "Loaded weights from disk\n"
     ]
    }
   ],
   "source": [
    "#ae1 = load_model_weights('ae1', ae1)"
   ]
  },
  {
   "cell_type": "code",
   "execution_count": 24,
   "metadata": {
    "colab": {
     "base_uri": "https://localhost:8080/",
     "height": 1000
    },
    "colab_type": "code",
    "id": "edpgrd11ekiT",
    "outputId": "5e57ce05-2c63-49c8-929f-47cf8ad8d21f"
   },
   "outputs": [
    {
     "name": "stdout",
     "output_type": "stream",
     "text": [
      "Train on 60000 samples, validate on 10000 samples\n",
      "Epoch 1/150\n",
      "60000/60000 [==============================] - 1s 14us/step - loss: 0.4958 - val_loss: 0.3276\n",
      "Epoch 2/150\n",
      "60000/60000 [==============================] - 1s 13us/step - loss: 0.3185 - val_loss: 0.3114\n",
      "Epoch 3/150\n",
      "60000/60000 [==============================] - 1s 13us/step - loss: 0.3078 - val_loss: 0.3043\n",
      "Epoch 4/150\n",
      "60000/60000 [==============================] - 1s 13us/step - loss: 0.3020 - val_loss: 0.2997\n",
      "Epoch 5/150\n",
      "60000/60000 [==============================] - 1s 13us/step - loss: 0.2980 - val_loss: 0.2961\n",
      "Epoch 6/150\n",
      "60000/60000 [==============================] - 1s 14us/step - loss: 0.2948 - val_loss: 0.2933\n",
      "Epoch 7/150\n",
      "60000/60000 [==============================] - 1s 14us/step - loss: 0.2922 - val_loss: 0.2909\n",
      "Epoch 8/150\n",
      "60000/60000 [==============================] - 1s 14us/step - loss: 0.2899 - val_loss: 0.2888\n",
      "Epoch 9/150\n",
      "60000/60000 [==============================] - 1s 14us/step - loss: 0.2879 - val_loss: 0.2869\n",
      "Epoch 10/150\n",
      "60000/60000 [==============================] - 1s 14us/step - loss: 0.2861 - val_loss: 0.2852\n",
      "Epoch 11/150\n",
      "60000/60000 [==============================] - 1s 14us/step - loss: 0.2845 - val_loss: 0.2836\n",
      "Epoch 12/150\n",
      "60000/60000 [==============================] - 1s 14us/step - loss: 0.2830 - val_loss: 0.2822\n",
      "Epoch 13/150\n",
      "60000/60000 [==============================] - 1s 14us/step - loss: 0.2816 - val_loss: 0.2809\n",
      "Epoch 14/150\n",
      "60000/60000 [==============================] - 1s 14us/step - loss: 0.2804 - val_loss: 0.2797\n",
      "Epoch 15/150\n",
      "60000/60000 [==============================] - 1s 14us/step - loss: 0.2792 - val_loss: 0.2786\n",
      "Epoch 16/150\n",
      "60000/60000 [==============================] - 1s 14us/step - loss: 0.2782 - val_loss: 0.2776\n",
      "Epoch 17/150\n",
      "60000/60000 [==============================] - 1s 14us/step - loss: 0.2772 - val_loss: 0.2767\n",
      "Epoch 18/150\n",
      "60000/60000 [==============================] - 1s 14us/step - loss: 0.2764 - val_loss: 0.2759\n",
      "Epoch 19/150\n",
      "60000/60000 [==============================] - 1s 13us/step - loss: 0.2756 - val_loss: 0.2752\n",
      "Epoch 20/150\n",
      "60000/60000 [==============================] - 1s 13us/step - loss: 0.2749 - val_loss: 0.2745\n",
      "Epoch 21/150\n",
      "60000/60000 [==============================] - 1s 13us/step - loss: 0.2742 - val_loss: 0.2739\n",
      "Epoch 22/150\n",
      "60000/60000 [==============================] - 1s 13us/step - loss: 0.2737 - val_loss: 0.2733\n",
      "Epoch 23/150\n",
      "60000/60000 [==============================] - 1s 13us/step - loss: 0.2731 - val_loss: 0.2728\n",
      "Epoch 24/150\n",
      "60000/60000 [==============================] - 1s 13us/step - loss: 0.2727 - val_loss: 0.2724\n",
      "Epoch 25/150\n",
      "60000/60000 [==============================] - 1s 14us/step - loss: 0.2722 - val_loss: 0.2720\n",
      "Epoch 26/150\n",
      "60000/60000 [==============================] - 1s 13us/step - loss: 0.2719 - val_loss: 0.2716\n",
      "Epoch 27/150\n",
      "60000/60000 [==============================] - 1s 13us/step - loss: 0.2715 - val_loss: 0.2713\n",
      "Epoch 28/150\n",
      "60000/60000 [==============================] - 1s 13us/step - loss: 0.2712 - val_loss: 0.2710\n",
      "Epoch 29/150\n",
      "60000/60000 [==============================] - 1s 14us/step - loss: 0.2709 - val_loss: 0.2706\n",
      "Epoch 30/150\n",
      "60000/60000 [==============================] - 1s 13us/step - loss: 0.2706 - val_loss: 0.2704\n",
      "Epoch 31/150\n",
      "60000/60000 [==============================] - 1s 13us/step - loss: 0.2703 - val_loss: 0.2701\n",
      "Epoch 32/150\n",
      "60000/60000 [==============================] - 1s 13us/step - loss: 0.2701 - val_loss: 0.2699\n",
      "Epoch 33/150\n",
      "60000/60000 [==============================] - 1s 13us/step - loss: 0.2698 - val_loss: 0.2696\n",
      "Epoch 34/150\n",
      "60000/60000 [==============================] - 1s 13us/step - loss: 0.2696 - val_loss: 0.2694\n",
      "Epoch 35/150\n",
      "60000/60000 [==============================] - 1s 13us/step - loss: 0.2694 - val_loss: 0.2692\n",
      "Epoch 36/150\n",
      "60000/60000 [==============================] - 1s 14us/step - loss: 0.2692 - val_loss: 0.2690\n",
      "Epoch 37/150\n",
      "60000/60000 [==============================] - 1s 13us/step - loss: 0.2690 - val_loss: 0.2688\n",
      "Epoch 38/150\n",
      "60000/60000 [==============================] - 1s 13us/step - loss: 0.2688 - val_loss: 0.2686\n",
      "Epoch 39/150\n",
      "60000/60000 [==============================] - 1s 13us/step - loss: 0.2686 - val_loss: 0.2684\n",
      "Epoch 40/150\n",
      "60000/60000 [==============================] - 1s 13us/step - loss: 0.2684 - val_loss: 0.2683\n",
      "Epoch 41/150\n",
      "60000/60000 [==============================] - 1s 13us/step - loss: 0.2683 - val_loss: 0.2681\n",
      "Epoch 42/150\n",
      "60000/60000 [==============================] - 1s 13us/step - loss: 0.2681 - val_loss: 0.2679\n",
      "Epoch 43/150\n",
      "60000/60000 [==============================] - 1s 13us/step - loss: 0.2679 - val_loss: 0.2678\n",
      "Epoch 44/150\n",
      "60000/60000 [==============================] - 1s 13us/step - loss: 0.2678 - val_loss: 0.2676\n",
      "Epoch 45/150\n",
      "60000/60000 [==============================] - 1s 13us/step - loss: 0.2676 - val_loss: 0.2674\n",
      "Epoch 46/150\n",
      "60000/60000 [==============================] - 1s 13us/step - loss: 0.2675 - val_loss: 0.2673\n",
      "Epoch 47/150\n",
      "60000/60000 [==============================] - 1s 13us/step - loss: 0.2673 - val_loss: 0.2671\n",
      "Epoch 48/150\n",
      "60000/60000 [==============================] - 1s 13us/step - loss: 0.2672 - val_loss: 0.2670\n",
      "Epoch 49/150\n",
      "60000/60000 [==============================] - 1s 13us/step - loss: 0.2670 - val_loss: 0.2669\n",
      "Epoch 50/150\n",
      "60000/60000 [==============================] - 1s 13us/step - loss: 0.2669 - val_loss: 0.2667\n",
      "Epoch 51/150\n",
      "60000/60000 [==============================] - 1s 13us/step - loss: 0.2667 - val_loss: 0.2666\n",
      "Epoch 52/150\n",
      "60000/60000 [==============================] - 1s 13us/step - loss: 0.2666 - val_loss: 0.2665\n",
      "Epoch 53/150\n",
      "60000/60000 [==============================] - 1s 13us/step - loss: 0.2665 - val_loss: 0.2663\n",
      "Epoch 54/150\n",
      "60000/60000 [==============================] - 1s 13us/step - loss: 0.2663 - val_loss: 0.2662\n",
      "Epoch 55/150\n",
      "60000/60000 [==============================] - 1s 13us/step - loss: 0.2662 - val_loss: 0.2661\n",
      "Epoch 56/150\n",
      "60000/60000 [==============================] - 1s 14us/step - loss: 0.2661 - val_loss: 0.2659\n",
      "Epoch 57/150\n",
      "60000/60000 [==============================] - 1s 13us/step - loss: 0.2659 - val_loss: 0.2658\n",
      "Epoch 58/150\n",
      "60000/60000 [==============================] - 1s 13us/step - loss: 0.2658 - val_loss: 0.2657\n",
      "Epoch 59/150\n",
      "60000/60000 [==============================] - 1s 13us/step - loss: 0.2657 - val_loss: 0.2656\n",
      "Epoch 60/150\n",
      "60000/60000 [==============================] - 1s 13us/step - loss: 0.2656 - val_loss: 0.2654\n",
      "Epoch 61/150\n",
      "60000/60000 [==============================] - 1s 13us/step - loss: 0.2655 - val_loss: 0.2653\n",
      "Epoch 62/150\n",
      "60000/60000 [==============================] - 1s 13us/step - loss: 0.2653 - val_loss: 0.2652\n",
      "Epoch 63/150\n",
      "60000/60000 [==============================] - 1s 13us/step - loss: 0.2652 - val_loss: 0.2651\n",
      "Epoch 64/150\n",
      "60000/60000 [==============================] - 1s 13us/step - loss: 0.2651 - val_loss: 0.2650\n",
      "Epoch 65/150\n",
      "60000/60000 [==============================] - 1s 13us/step - loss: 0.2650 - val_loss: 0.2649\n",
      "Epoch 66/150\n",
      "60000/60000 [==============================] - 1s 13us/step - loss: 0.2649 - val_loss: 0.2647\n",
      "Epoch 67/150\n",
      "60000/60000 [==============================] - 1s 13us/step - loss: 0.2648 - val_loss: 0.2646\n",
      "Epoch 68/150\n",
      "60000/60000 [==============================] - 1s 13us/step - loss: 0.2647 - val_loss: 0.2645\n",
      "Epoch 69/150\n",
      "60000/60000 [==============================] - 1s 14us/step - loss: 0.2646 - val_loss: 0.2644\n",
      "Epoch 70/150\n",
      "60000/60000 [==============================] - 1s 13us/step - loss: 0.2645 - val_loss: 0.2643\n",
      "Epoch 71/150\n",
      "60000/60000 [==============================] - 1s 13us/step - loss: 0.2643 - val_loss: 0.2642\n",
      "Epoch 72/150\n",
      "60000/60000 [==============================] - 1s 13us/step - loss: 0.2642 - val_loss: 0.2641\n",
      "Epoch 73/150\n",
      "60000/60000 [==============================] - 1s 13us/step - loss: 0.2641 - val_loss: 0.2640\n",
      "Epoch 74/150\n",
      "60000/60000 [==============================] - 1s 13us/step - loss: 0.2640 - val_loss: 0.2639\n",
      "Epoch 75/150\n",
      "60000/60000 [==============================] - 1s 13us/step - loss: 0.2639 - val_loss: 0.2638\n",
      "Epoch 76/150\n",
      "60000/60000 [==============================] - 1s 13us/step - loss: 0.2638 - val_loss: 0.2637\n",
      "Epoch 77/150\n",
      "60000/60000 [==============================] - 1s 13us/step - loss: 0.2637 - val_loss: 0.2636\n",
      "Epoch 78/150\n",
      "60000/60000 [==============================] - 1s 13us/step - loss: 0.2636 - val_loss: 0.2635\n",
      "Epoch 79/150\n",
      "60000/60000 [==============================] - 1s 13us/step - loss: 0.2635 - val_loss: 0.2634\n",
      "Epoch 80/150\n",
      "60000/60000 [==============================] - 1s 13us/step - loss: 0.2634 - val_loss: 0.2633\n",
      "Epoch 81/150\n",
      "60000/60000 [==============================] - 1s 13us/step - loss: 0.2634 - val_loss: 0.2633\n",
      "Epoch 82/150\n",
      "60000/60000 [==============================] - 1s 13us/step - loss: 0.2633 - val_loss: 0.2631\n",
      "Epoch 83/150\n",
      "60000/60000 [==============================] - 1s 13us/step - loss: 0.2632 - val_loss: 0.2631\n",
      "Epoch 84/150\n",
      "60000/60000 [==============================] - 1s 13us/step - loss: 0.2631 - val_loss: 0.2629\n",
      "Epoch 85/150\n",
      "60000/60000 [==============================] - 1s 13us/step - loss: 0.2630 - val_loss: 0.2628\n",
      "Epoch 86/150\n",
      "60000/60000 [==============================] - 1s 13us/step - loss: 0.2629 - val_loss: 0.2628\n",
      "Epoch 87/150\n",
      "60000/60000 [==============================] - 1s 13us/step - loss: 0.2628 - val_loss: 0.2627\n",
      "Epoch 88/150\n",
      "60000/60000 [==============================] - 1s 13us/step - loss: 0.2627 - val_loss: 0.2626\n",
      "Epoch 89/150\n",
      "60000/60000 [==============================] - 1s 14us/step - loss: 0.2626 - val_loss: 0.2625\n",
      "Epoch 90/150\n",
      "60000/60000 [==============================] - 1s 13us/step - loss: 0.2626 - val_loss: 0.2624\n",
      "Epoch 91/150\n",
      "60000/60000 [==============================] - 1s 13us/step - loss: 0.2625 - val_loss: 0.2623\n",
      "Epoch 92/150\n",
      "60000/60000 [==============================] - 1s 13us/step - loss: 0.2624 - val_loss: 0.2623\n",
      "Epoch 93/150\n",
      "60000/60000 [==============================] - 1s 13us/step - loss: 0.2623 - val_loss: 0.2621\n",
      "Epoch 94/150\n",
      "60000/60000 [==============================] - 1s 13us/step - loss: 0.2622 - val_loss: 0.2620\n",
      "Epoch 95/150\n",
      "60000/60000 [==============================] - 1s 13us/step - loss: 0.2621 - val_loss: 0.2620\n",
      "Epoch 96/150\n",
      "60000/60000 [==============================] - 1s 13us/step - loss: 0.2621 - val_loss: 0.2619\n",
      "Epoch 97/150\n",
      "60000/60000 [==============================] - 1s 13us/step - loss: 0.2620 - val_loss: 0.2618\n",
      "Epoch 98/150\n",
      "60000/60000 [==============================] - 1s 13us/step - loss: 0.2619 - val_loss: 0.2618\n",
      "Epoch 99/150\n",
      "60000/60000 [==============================] - 1s 13us/step - loss: 0.2618 - val_loss: 0.2616\n",
      "Epoch 100/150\n",
      "60000/60000 [==============================] - 1s 13us/step - loss: 0.2617 - val_loss: 0.2616\n",
      "Epoch 101/150\n",
      "60000/60000 [==============================] - 1s 13us/step - loss: 0.2617 - val_loss: 0.2618\n",
      "Epoch 102/150\n",
      "60000/60000 [==============================] - 1s 13us/step - loss: 0.2616 - val_loss: 0.2614\n",
      "Epoch 103/150\n",
      "60000/60000 [==============================] - 1s 13us/step - loss: 0.2615 - val_loss: 0.2613\n",
      "Epoch 104/150\n",
      "60000/60000 [==============================] - 1s 13us/step - loss: 0.2614 - val_loss: 0.2613\n",
      "Epoch 105/150\n",
      "60000/60000 [==============================] - 1s 13us/step - loss: 0.2614 - val_loss: 0.2612\n",
      "Epoch 106/150\n",
      "60000/60000 [==============================] - 1s 13us/step - loss: 0.2613 - val_loss: 0.2612\n",
      "Epoch 107/150\n",
      "60000/60000 [==============================] - 1s 13us/step - loss: 0.2612 - val_loss: 0.2611\n",
      "Epoch 108/150\n",
      "60000/60000 [==============================] - 1s 13us/step - loss: 0.2611 - val_loss: 0.2610\n",
      "Epoch 109/150\n",
      "60000/60000 [==============================] - 1s 13us/step - loss: 0.2611 - val_loss: 0.2609\n",
      "Epoch 110/150\n",
      "60000/60000 [==============================] - 1s 13us/step - loss: 0.2610 - val_loss: 0.2609\n",
      "Epoch 111/150\n",
      "60000/60000 [==============================] - 1s 14us/step - loss: 0.2609 - val_loss: 0.2607\n",
      "Epoch 112/150\n",
      "60000/60000 [==============================] - 1s 14us/step - loss: 0.2609 - val_loss: 0.2607\n",
      "Epoch 113/150\n",
      "60000/60000 [==============================] - 1s 13us/step - loss: 0.2608 - val_loss: 0.2606\n",
      "Epoch 114/150\n",
      "60000/60000 [==============================] - 1s 13us/step - loss: 0.2607 - val_loss: 0.2605\n",
      "Epoch 115/150\n",
      "60000/60000 [==============================] - 1s 13us/step - loss: 0.2607 - val_loss: 0.2605\n",
      "Epoch 116/150\n",
      "60000/60000 [==============================] - 1s 13us/step - loss: 0.2606 - val_loss: 0.2604\n",
      "Epoch 117/150\n",
      "60000/60000 [==============================] - 1s 13us/step - loss: 0.2605 - val_loss: 0.2603\n",
      "Epoch 118/150\n",
      "60000/60000 [==============================] - 1s 13us/step - loss: 0.2605 - val_loss: 0.2603\n",
      "Epoch 119/150\n",
      "60000/60000 [==============================] - 1s 13us/step - loss: 0.2604 - val_loss: 0.2602\n",
      "Epoch 120/150\n",
      "60000/60000 [==============================] - 1s 13us/step - loss: 0.2603 - val_loss: 0.2601\n",
      "Epoch 121/150\n",
      "60000/60000 [==============================] - 1s 13us/step - loss: 0.2603 - val_loss: 0.2601\n",
      "Epoch 122/150\n",
      "60000/60000 [==============================] - 1s 13us/step - loss: 0.2602 - val_loss: 0.2601\n",
      "Epoch 123/150\n",
      "60000/60000 [==============================] - 1s 13us/step - loss: 0.2601 - val_loss: 0.2601\n",
      "Epoch 124/150\n",
      "60000/60000 [==============================] - 1s 13us/step - loss: 0.2601 - val_loss: 0.2599\n",
      "Epoch 125/150\n",
      "60000/60000 [==============================] - 1s 13us/step - loss: 0.2600 - val_loss: 0.2599\n",
      "Epoch 126/150\n",
      "60000/60000 [==============================] - 1s 13us/step - loss: 0.2600 - val_loss: 0.2599\n",
      "Epoch 127/150\n",
      "60000/60000 [==============================] - 1s 13us/step - loss: 0.2599 - val_loss: 0.2598\n",
      "Epoch 128/150\n",
      "60000/60000 [==============================] - 1s 13us/step - loss: 0.2598 - val_loss: 0.2596\n",
      "Epoch 129/150\n",
      "60000/60000 [==============================] - 1s 13us/step - loss: 0.2598 - val_loss: 0.2596\n",
      "Epoch 130/150\n",
      "60000/60000 [==============================] - 1s 13us/step - loss: 0.2597 - val_loss: 0.2597\n",
      "Epoch 131/150\n",
      "60000/60000 [==============================] - 1s 13us/step - loss: 0.2597 - val_loss: 0.2596\n",
      "Epoch 132/150\n",
      "60000/60000 [==============================] - 1s 13us/step - loss: 0.2596 - val_loss: 0.2594\n",
      "Epoch 133/150\n",
      "60000/60000 [==============================] - 1s 13us/step - loss: 0.2596 - val_loss: 0.2596\n",
      "Epoch 134/150\n",
      "60000/60000 [==============================] - 1s 13us/step - loss: 0.2595 - val_loss: 0.2593\n",
      "Epoch 135/150\n",
      "60000/60000 [==============================] - 1s 13us/step - loss: 0.2594 - val_loss: 0.2593\n",
      "Epoch 136/150\n",
      "60000/60000 [==============================] - 1s 13us/step - loss: 0.2594 - val_loss: 0.2592\n",
      "Epoch 137/150\n",
      "60000/60000 [==============================] - 1s 13us/step - loss: 0.2593 - val_loss: 0.2592\n",
      "Epoch 138/150\n",
      "60000/60000 [==============================] - 1s 13us/step - loss: 0.2593 - val_loss: 0.2591\n",
      "Epoch 139/150\n",
      "60000/60000 [==============================] - 1s 13us/step - loss: 0.2592 - val_loss: 0.2591\n",
      "Epoch 140/150\n",
      "60000/60000 [==============================] - 1s 13us/step - loss: 0.2592 - val_loss: 0.2590\n",
      "Epoch 141/150\n",
      "60000/60000 [==============================] - 1s 13us/step - loss: 0.2591 - val_loss: 0.2589\n",
      "Epoch 142/150\n",
      "60000/60000 [==============================] - 1s 13us/step - loss: 0.2591 - val_loss: 0.2589\n",
      "Epoch 143/150\n",
      "60000/60000 [==============================] - 1s 13us/step - loss: 0.2590 - val_loss: 0.2588\n",
      "Epoch 144/150\n",
      "60000/60000 [==============================] - 1s 13us/step - loss: 0.2589 - val_loss: 0.2588\n",
      "Epoch 145/150\n",
      "60000/60000 [==============================] - 1s 13us/step - loss: 0.2589 - val_loss: 0.2587\n",
      "Epoch 146/150\n",
      "60000/60000 [==============================] - 1s 13us/step - loss: 0.2588 - val_loss: 0.2587\n",
      "Epoch 147/150\n",
      "60000/60000 [==============================] - 1s 13us/step - loss: 0.2588 - val_loss: 0.2587\n",
      "Epoch 148/150\n",
      "60000/60000 [==============================] - 1s 13us/step - loss: 0.2587 - val_loss: 0.2585\n",
      "Epoch 149/150\n",
      "60000/60000 [==============================] - 1s 13us/step - loss: 0.2587 - val_loss: 0.2585\n",
      "Epoch 150/150\n",
      "60000/60000 [==============================] - 1s 13us/step - loss: 0.2586 - val_loss: 0.2584\n"
     ]
    },
    {
     "data": {
      "text/plain": [
       "<keras.callbacks.callbacks.History at 0x7ff2efe811d0>"
      ]
     },
     "execution_count": 24,
     "metadata": {
      "tags": []
     },
     "output_type": "execute_result"
    }
   ],
   "source": [
    "ae1.fit(x_train, x_train,\n",
    "                epochs=150,\n",
    "                batch_size=256,\n",
    "                shuffle=True,\n",
    "                validation_data=(x_test, x_test))\n"
   ]
  },
  {
   "cell_type": "code",
   "execution_count": 25,
   "metadata": {
    "colab": {
     "base_uri": "https://localhost:8080/",
     "height": 34
    },
    "colab_type": "code",
    "id": "U8OKAEodeasj",
    "outputId": "7da6d08d-d979-4ac6-955e-bfe455661bc1"
   },
   "outputs": [
    {
     "name": "stdout",
     "output_type": "stream",
     "text": [
      "Saved model to disk\n"
     ]
    }
   ],
   "source": [
    "save_model(ae1,'ae1')"
   ]
  },
  {
   "cell_type": "code",
   "execution_count": 26,
   "metadata": {
    "colab": {
     "base_uri": "https://localhost:8080/",
     "height": 221
    },
    "colab_type": "code",
    "id": "2F681XlLgHxT",
    "outputId": "ee4a0fd8-1a44-421b-deea-85c02fa5cb53"
   },
   "outputs": [
    {
     "name": "stdout",
     "output_type": "stream",
     "text": [
      "Model: \"model_2\"\n",
      "_________________________________________________________________\n",
      "Layer (type)                 Output Shape              Param #   \n",
      "=================================================================\n",
      "input_2 (InputLayer)         (None, 784)               0         \n",
      "_________________________________________________________________\n",
      "dense_5 (Dense)              (None, 32)                25120     \n",
      "=================================================================\n",
      "Total params: 25,120\n",
      "Trainable params: 25,120\n",
      "Non-trainable params: 0\n",
      "_________________________________________________________________\n"
     ]
    }
   ],
   "source": [
    "input_img = Input(shape=(input_size,))\n",
    "encoder_layer1 = ae1.layers[0]\n",
    "encoder1 = Model(input_img, encoder_layer1(input_img))\n",
    "\n",
    "encoder1.summary()"
   ]
  },
  {
   "cell_type": "code",
   "execution_count": 27,
   "metadata": {
    "colab": {
     "base_uri": "https://localhost:8080/",
     "height": 252
    },
    "colab_type": "code",
    "id": "UDBI58lQhARf",
    "outputId": "e2e9f973-6247-402b-b2b3-342d5897964f"
   },
   "outputs": [
    {
     "data": {
      "image/png": "[encoded data removed]",
      "text/plain": [
       "<Figure size 1296x288 with 30 Axes>"
      ]
     },
     "metadata": {
      "needs_background": "light",
      "tags": []
     },
     "output_type": "display_data"
    }
   ],
   "source": [
    "num_images = 10\n",
    "np.random.seed(42)\n",
    "random_test_images = np.random.randint(x_test.shape[0], size=num_images)\n",
    "\n",
    "encoded_imgs = encoder1.predict(x_test)\n",
    "decoded_imgs = ae1.predict(x_test)\n",
    "\n",
    "plt.figure(figsize=(18, 4))\n",
    "\n",
    "for i, image_idx in enumerate(random_test_images):\n",
    "    # plot original image\n",
    "    ax = plt.subplot(3, num_images, i + 1)\n",
    "    plt.imshow(x_test[image_idx].reshape(28, 28))\n",
    "    plt.gray()\n",
    "    ax.get_xaxis().set_visible(False)\n",
    "    ax.get_yaxis().set_visible(False)\n",
    "    \n",
    "    # plot encoded image\n",
    "    ax = plt.subplot(3, num_images, num_images + i + 1)\n",
    "    plt.imshow(encoded_imgs[image_idx].reshape(8, 4))\n",
    "    plt.gray()\n",
    "    ax.get_xaxis().set_visible(False)\n",
    "    ax.get_yaxis().set_visible(False)\n",
    "\n",
    "    # plot reconstructed image\n",
    "    ax = plt.subplot(3, num_images, 2*num_images + i + 1)\n",
    "    plt.imshow(decoded_imgs[image_idx].reshape(28, 28))\n",
    "    plt.gray()\n",
    "    ax.get_xaxis().set_visible(False)\n",
    "    ax.get_yaxis().set_visible(False)\n",
    "plt.show()"
   ]
  },
  {
   "cell_type": "code",
   "execution_count": 28,
   "metadata": {
    "colab": {
     "base_uri": "https://localhost:8080/",
     "height": 357
    },
    "colab_type": "code",
    "id": "koIWM7FchPz_",
    "outputId": "f0fc9a67-40de-4ed1-f413-e98eedfc5200"
   },
   "outputs": [
    {
     "name": "stdout",
     "output_type": "stream",
     "text": [
      "Model: \"sequential_4\"\n",
      "_________________________________________________________________\n",
      "Layer (type)                 Output Shape              Param #   \n",
      "=================================================================\n",
      "dense_7 (Dense)              (None, 128)               100480    \n",
      "_________________________________________________________________\n",
      "dense_8 (Dense)              (None, 64)                8256      \n",
      "_________________________________________________________________\n",
      "dense_9 (Dense)              (None, 32)                2080      \n",
      "_________________________________________________________________\n",
      "dense_10 (Dense)             (None, 64)                2112      \n",
      "_________________________________________________________________\n",
      "dense_11 (Dense)             (None, 128)               8320      \n",
      "_________________________________________________________________\n",
      "dense_12 (Dense)             (None, 784)               101136    \n",
      "=================================================================\n",
      "Total params: 222,384\n",
      "Trainable params: 222,384\n",
      "Non-trainable params: 0\n",
      "_________________________________________________________________\n"
     ]
    }
   ],
   "source": [
    "ae2 = Sequential()\n",
    "\n",
    "# Encoder Layers\n",
    "ae2.add(Dense(4 * encoding_dim, input_shape=(784,), activation='relu'))\n",
    "ae2.add(Dense(2 * encoding_dim, activation='relu'))\n",
    "ae2.add(Dense(encoding_dim, activation='relu'))\n",
    "\n",
    "# Decoder Layers\n",
    "ae2.add(Dense(2 * encoding_dim, activation='relu'))\n",
    "ae2.add(Dense(4 * encoding_dim, activation='relu'))\n",
    "ae2.add(Dense(784, activation='sigmoid'))\n",
    "\n",
    "ae2.summary()"
   ]
  },
  {
   "cell_type": "code",
   "execution_count": null,
   "metadata": {
    "colab": {},
    "colab_type": "code",
    "id": "Qf2Roa7sPdAf"
   },
   "outputs": [],
   "source": [
    "ae2.compile(optimizer='adam', loss='binary_crossentropy')"
   ]
  },
  {
   "cell_type": "code",
   "execution_count": 30,
   "metadata": {
    "colab": {
     "base_uri": "https://localhost:8080/",
     "height": 34
    },
    "colab_type": "code",
    "id": "MXBDRYBE-pmo",
    "outputId": "5199038e-c1f1-41fc-8c23-acc847ae1b3b"
   },
   "outputs": [
    {
     "name": "stdout",
     "output_type": "stream",
     "text": [
      "Loaded weights from disk\n"
     ]
    }
   ],
   "source": [
    "ae2 = load_model_weights('ae2', ae2)"
   ]
  },
  {
   "cell_type": "code",
   "execution_count": 31,
   "metadata": {
    "colab": {
     "base_uri": "https://localhost:8080/",
     "height": 1000
    },
    "colab_type": "code",
    "id": "jhW71zTU-mJX",
    "outputId": "24d3f275-b400-447d-b941-8ee5ac82f854"
   },
   "outputs": [
    {
     "name": "stdout",
     "output_type": "stream",
     "text": [
      "Train on 60000 samples, validate on 10000 samples\n",
      "Epoch 1/50\n",
      "60000/60000 [==============================] - 1s 20us/step - loss: 0.0895 - val_loss: 0.0883\n",
      "Epoch 2/50\n",
      "60000/60000 [==============================] - 1s 18us/step - loss: 0.0886 - val_loss: 0.0880\n",
      "Epoch 3/50\n",
      "60000/60000 [==============================] - 1s 18us/step - loss: 0.0886 - val_loss: 0.0879\n",
      "Epoch 4/50\n",
      "60000/60000 [==============================] - 1s 18us/step - loss: 0.0886 - val_loss: 0.0878\n",
      "Epoch 5/50\n",
      "60000/60000 [==============================] - 1s 18us/step - loss: 0.0885 - val_loss: 0.0878\n",
      "Epoch 6/50\n",
      "60000/60000 [==============================] - 1s 18us/step - loss: 0.0884 - val_loss: 0.0878\n",
      "Epoch 7/50\n",
      "60000/60000 [==============================] - 1s 18us/step - loss: 0.0883 - val_loss: 0.0879\n",
      "Epoch 8/50\n",
      "60000/60000 [==============================] - 1s 18us/step - loss: 0.0883 - val_loss: 0.0877\n",
      "Epoch 9/50\n",
      "60000/60000 [==============================] - 1s 18us/step - loss: 0.0882 - val_loss: 0.0877\n",
      "Epoch 10/50\n",
      "60000/60000 [==============================] - 1s 18us/step - loss: 0.0881 - val_loss: 0.0879\n",
      "Epoch 11/50\n",
      "60000/60000 [==============================] - 1s 18us/step - loss: 0.0881 - val_loss: 0.0880\n",
      "Epoch 12/50\n",
      "60000/60000 [==============================] - 1s 18us/step - loss: 0.0880 - val_loss: 0.0876\n",
      "Epoch 13/50\n",
      "60000/60000 [==============================] - 1s 18us/step - loss: 0.0879 - val_loss: 0.0876\n",
      "Epoch 14/50\n",
      "60000/60000 [==============================] - 1s 18us/step - loss: 0.0878 - val_loss: 0.0873\n",
      "Epoch 15/50\n",
      "60000/60000 [==============================] - 1s 18us/step - loss: 0.0878 - val_loss: 0.0874\n",
      "Epoch 16/50\n",
      "60000/60000 [==============================] - 1s 18us/step - loss: 0.0877 - val_loss: 0.0874\n",
      "Epoch 17/50\n",
      "60000/60000 [==============================] - 1s 18us/step - loss: 0.0876 - val_loss: 0.0875\n",
      "Epoch 18/50\n",
      "60000/60000 [==============================] - 1s 18us/step - loss: 0.0876 - val_loss: 0.0873\n",
      "Epoch 19/50\n",
      "60000/60000 [==============================] - 1s 18us/step - loss: 0.0876 - val_loss: 0.0871\n",
      "Epoch 20/50\n",
      "60000/60000 [==============================] - 1s 18us/step - loss: 0.0875 - val_loss: 0.0870\n",
      "Epoch 21/50\n",
      "60000/60000 [==============================] - 1s 17us/step - loss: 0.0875 - val_loss: 0.0873\n",
      "Epoch 22/50\n",
      "60000/60000 [==============================] - 1s 18us/step - loss: 0.0874 - val_loss: 0.0870\n",
      "Epoch 23/50\n",
      "60000/60000 [==============================] - 1s 17us/step - loss: 0.0874 - val_loss: 0.0869\n",
      "Epoch 24/50\n",
      "60000/60000 [==============================] - 1s 18us/step - loss: 0.0873 - val_loss: 0.0869\n",
      "Epoch 25/50\n",
      "60000/60000 [==============================] - 1s 17us/step - loss: 0.0872 - val_loss: 0.0868\n",
      "Epoch 26/50\n",
      "60000/60000 [==============================] - 1s 18us/step - loss: 0.0872 - val_loss: 0.0869\n",
      "Epoch 27/50\n",
      "60000/60000 [==============================] - 1s 18us/step - loss: 0.0872 - val_loss: 0.0866\n",
      "Epoch 28/50\n",
      "60000/60000 [==============================] - 1s 18us/step - loss: 0.0871 - val_loss: 0.0866\n",
      "Epoch 29/50\n",
      "60000/60000 [==============================] - 1s 18us/step - loss: 0.0870 - val_loss: 0.0870\n",
      "Epoch 30/50\n",
      "60000/60000 [==============================] - 1s 18us/step - loss: 0.0870 - val_loss: 0.0866\n",
      "Epoch 31/50\n",
      "60000/60000 [==============================] - 1s 18us/step - loss: 0.0870 - val_loss: 0.0866\n",
      "Epoch 32/50\n",
      "60000/60000 [==============================] - 1s 18us/step - loss: 0.0870 - val_loss: 0.0867\n",
      "Epoch 33/50\n",
      "60000/60000 [==============================] - 1s 18us/step - loss: 0.0869 - val_loss: 0.0867\n",
      "Epoch 34/50\n",
      "60000/60000 [==============================] - 1s 18us/step - loss: 0.0868 - val_loss: 0.0864\n",
      "Epoch 35/50\n",
      "60000/60000 [==============================] - 1s 18us/step - loss: 0.0868 - val_loss: 0.0867\n",
      "Epoch 36/50\n",
      "60000/60000 [==============================] - 1s 18us/step - loss: 0.0868 - val_loss: 0.0864\n",
      "Epoch 37/50\n",
      "60000/60000 [==============================] - 1s 18us/step - loss: 0.0867 - val_loss: 0.0865\n",
      "Epoch 38/50\n",
      "60000/60000 [==============================] - 1s 17us/step - loss: 0.0867 - val_loss: 0.0864\n",
      "Epoch 39/50\n",
      "60000/60000 [==============================] - 1s 18us/step - loss: 0.0866 - val_loss: 0.0865\n",
      "Epoch 40/50\n",
      "60000/60000 [==============================] - 1s 17us/step - loss: 0.0866 - val_loss: 0.0861\n",
      "Epoch 41/50\n",
      "60000/60000 [==============================] - 1s 18us/step - loss: 0.0866 - val_loss: 0.0868\n",
      "Epoch 42/50\n",
      "60000/60000 [==============================] - 1s 18us/step - loss: 0.0866 - val_loss: 0.0862\n",
      "Epoch 43/50\n",
      "60000/60000 [==============================] - 1s 18us/step - loss: 0.0865 - val_loss: 0.0862\n",
      "Epoch 44/50\n",
      "60000/60000 [==============================] - 1s 17us/step - loss: 0.0865 - val_loss: 0.0864\n",
      "Epoch 45/50\n",
      "60000/60000 [==============================] - 1s 18us/step - loss: 0.0865 - val_loss: 0.0862\n",
      "Epoch 46/50\n",
      "60000/60000 [==============================] - 1s 18us/step - loss: 0.0864 - val_loss: 0.0861\n",
      "Epoch 47/50\n",
      "60000/60000 [==============================] - 1s 18us/step - loss: 0.0864 - val_loss: 0.0862\n",
      "Epoch 48/50\n",
      "60000/60000 [==============================] - 1s 18us/step - loss: 0.0863 - val_loss: 0.0861\n",
      "Epoch 49/50\n",
      "60000/60000 [==============================] - 1s 18us/step - loss: 0.0863 - val_loss: 0.0861\n",
      "Epoch 50/50\n",
      "60000/60000 [==============================] - 1s 17us/step - loss: 0.0863 - val_loss: 0.0861\n"
     ]
    },
    {
     "data": {
      "text/plain": [
       "<keras.callbacks.callbacks.History at 0x7ff2e77eceb8>"
      ]
     },
     "execution_count": 31,
     "metadata": {
      "tags": []
     },
     "output_type": "execute_result"
    }
   ],
   "source": [
    "ae2.fit(x_train, x_train,\n",
    "                epochs=50,\n",
    "                batch_size=256,\n",
    "                validation_data=(x_test, x_test))"
   ]
  },
  {
   "cell_type": "code",
   "execution_count": 32,
   "metadata": {
    "colab": {
     "base_uri": "https://localhost:8080/",
     "height": 34
    },
    "colab_type": "code",
    "id": "gwF7bKUtBCOw",
    "outputId": "30e1199a-2109-49ac-d3e5-b95ba94719ae"
   },
   "outputs": [
    {
     "name": "stdout",
     "output_type": "stream",
     "text": [
      "Saved model to disk\n"
     ]
    }
   ],
   "source": [
    "save_model(ae2,'ae2')"
   ]
  },
  {
   "cell_type": "code",
   "execution_count": 33,
   "metadata": {
    "colab": {
     "base_uri": "https://localhost:8080/",
     "height": 289
    },
    "colab_type": "code",
    "id": "L18KuR5_-b3u",
    "outputId": "928e7c56-d44e-4fb9-e57a-20f5ea9e6c7a"
   },
   "outputs": [
    {
     "name": "stdout",
     "output_type": "stream",
     "text": [
      "Model: \"model_3\"\n",
      "_________________________________________________________________\n",
      "Layer (type)                 Output Shape              Param #   \n",
      "=================================================================\n",
      "input_3 (InputLayer)         (None, 784)               0         \n",
      "_________________________________________________________________\n",
      "dense_7 (Dense)              (None, 128)               100480    \n",
      "_________________________________________________________________\n",
      "dense_8 (Dense)              (None, 64)                8256      \n",
      "_________________________________________________________________\n",
      "dense_9 (Dense)              (None, 32)                2080      \n",
      "=================================================================\n",
      "Total params: 110,816\n",
      "Trainable params: 110,816\n",
      "Non-trainable params: 0\n",
      "_________________________________________________________________\n"
     ]
    }
   ],
   "source": [
    "input_img = Input(shape=(input_size,))\n",
    "encoder_layer1 = ae2.layers[0]\n",
    "encoder_layer2 = ae2.layers[1]\n",
    "encoder_layer3 = ae2.layers[2]\n",
    "encoder2 = Model(input_img, encoder_layer3(encoder_layer2(encoder_layer1(input_img))))\n",
    "\n",
    "encoder2.summary()"
   ]
  },
  {
   "cell_type": "code",
   "execution_count": 34,
   "metadata": {
    "colab": {
     "base_uri": "https://localhost:8080/",
     "height": 252
    },
    "colab_type": "code",
    "id": "0Z-GbQEVBZ1Y",
    "outputId": "c67be28d-7d76-4634-dc6b-a16c7ced1b5e"
   },
   "outputs": [
    {
     "data": {
      "image/png": "[encoded data removed]",
      "text/plain": [
       "<Figure size 1296x288 with 30 Axes>"
      ]
     },
     "metadata": {
      "needs_background": "light",
      "tags": []
     },
     "output_type": "display_data"
    }
   ],
   "source": [
    "num_images = 10\n",
    "np.random.seed(42)\n",
    "random_test_images = np.random.randint(x_test.shape[0], size=num_images)\n",
    "\n",
    "encoded_imgs = encoder2.predict(x_test)\n",
    "decoded_imgs = ae2.predict(x_test)\n",
    "\n",
    "plt.figure(figsize=(18, 4))\n",
    "\n",
    "for i, image_idx in enumerate(random_test_images):\n",
    "    # plot original image\n",
    "    ax = plt.subplot(3, num_images, i + 1)\n",
    "    plt.imshow(x_test[image_idx].reshape(28, 28))\n",
    "    plt.gray()\n",
    "    ax.get_xaxis().set_visible(False)\n",
    "    ax.get_yaxis().set_visible(False)\n",
    "    \n",
    "    # plot encoded image\n",
    "    ax = plt.subplot(3, num_images, num_images + i + 1)\n",
    "    plt.imshow(encoded_imgs[image_idx].reshape(8, 4))\n",
    "    plt.gray()\n",
    "    ax.get_xaxis().set_visible(False)\n",
    "    ax.get_yaxis().set_visible(False)\n",
    "\n",
    "    # plot reconstructed image\n",
    "    ax = plt.subplot(3, num_images, 2*num_images + i + 1)\n",
    "    plt.imshow(decoded_imgs[image_idx].reshape(28, 28))\n",
    "    plt.gray()\n",
    "    ax.get_xaxis().set_visible(False)\n",
    "    ax.get_yaxis().set_visible(False)\n",
    "plt.show()"
   ]
  },
  {
   "cell_type": "code",
   "execution_count": null,
   "metadata": {
    "colab": {},
    "colab_type": "code",
    "id": "I1NKryYLiER9"
   },
   "outputs": [],
   "source": [
    "x_train_r = x_train.reshape((len(x_train), 28, 28, 1))\n",
    "x_test_r = x_test.reshape((len(x_test), 28, 28, 1))"
   ]
  },
  {
   "cell_type": "code",
   "execution_count": 36,
   "metadata": {
    "colab": {
     "base_uri": "https://localhost:8080/",
     "height": 629
    },
    "colab_type": "code",
    "id": "q27v-rvZiH-h",
    "outputId": "b9966624-b293-45c9-d6e6-68f2d3d1b329"
   },
   "outputs": [
    {
     "name": "stdout",
     "output_type": "stream",
     "text": [
      "Model: \"sequential_5\"\n",
      "_________________________________________________________________\n",
      "Layer (type)                 Output Shape              Param #   \n",
      "=================================================================\n",
      "conv2d_1 (Conv2D)            (None, 28, 28, 16)        160       \n",
      "_________________________________________________________________\n",
      "max_pooling2d_1 (MaxPooling2 (None, 14, 14, 16)        0         \n",
      "_________________________________________________________________\n",
      "conv2d_2 (Conv2D)            (None, 14, 14, 8)         1160      \n",
      "_________________________________________________________________\n",
      "max_pooling2d_2 (MaxPooling2 (None, 7, 7, 8)           0         \n",
      "_________________________________________________________________\n",
      "conv2d_3 (Conv2D)            (None, 4, 4, 8)           584       \n",
      "_________________________________________________________________\n",
      "flatten_1 (Flatten)          (None, 128)               0         \n",
      "_________________________________________________________________\n",
      "reshape_1 (Reshape)          (None, 4, 4, 8)           0         \n",
      "_________________________________________________________________\n",
      "conv2d_4 (Conv2D)            (None, 4, 4, 8)           584       \n",
      "_________________________________________________________________\n",
      "up_sampling2d_1 (UpSampling2 (None, 8, 8, 8)           0         \n",
      "_________________________________________________________________\n",
      "conv2d_5 (Conv2D)            (None, 8, 8, 8)           584       \n",
      "_________________________________________________________________\n",
      "up_sampling2d_2 (UpSampling2 (None, 16, 16, 8)         0         \n",
      "_________________________________________________________________\n",
      "conv2d_6 (Conv2D)            (None, 14, 14, 16)        1168      \n",
      "_________________________________________________________________\n",
      "up_sampling2d_3 (UpSampling2 (None, 28, 28, 16)        0         \n",
      "_________________________________________________________________\n",
      "conv2d_7 (Conv2D)            (None, 28, 28, 1)         145       \n",
      "=================================================================\n",
      "Total params: 4,385\n",
      "Trainable params: 4,385\n",
      "Non-trainable params: 0\n",
      "_________________________________________________________________\n"
     ]
    }
   ],
   "source": [
    "autoencoder = Sequential()\n",
    "\n",
    "# Encoder Layers\n",
    "autoencoder.add(Conv2D(16, (3, 3), activation='relu', padding='same', input_shape=x_train_r.shape[1:]))\n",
    "autoencoder.add(MaxPooling2D((2, 2), padding='same'))\n",
    "autoencoder.add(Conv2D(8, (3, 3), activation='relu', padding='same'))\n",
    "autoencoder.add(MaxPooling2D((2, 2), padding='same'))\n",
    "autoencoder.add(Conv2D(8, (3, 3), strides=(2,2), activation='relu', padding='same'))\n",
    "\n",
    "# Flatten encoding for visualization\n",
    "autoencoder.add(Flatten())\n",
    "autoencoder.add(Reshape((4, 4, 8)))\n",
    "\n",
    "# Decoder Layers\n",
    "autoencoder.add(Conv2D(8, (3, 3), activation='relu', padding='same'))\n",
    "autoencoder.add(UpSampling2D((2, 2)))\n",
    "autoencoder.add(Conv2D(8, (3, 3), activation='relu', padding='same'))\n",
    "autoencoder.add(UpSampling2D((2, 2)))\n",
    "autoencoder.add(Conv2D(16, (3, 3), activation='relu'))\n",
    "autoencoder.add(UpSampling2D((2, 2)))\n",
    "autoencoder.add(Conv2D(1, (3, 3), activation='sigmoid', padding='same'))\n",
    "\n",
    "autoencoder.summary()"
   ]
  },
  {
   "cell_type": "code",
   "execution_count": 38,
   "metadata": {
    "colab": {
     "base_uri": "https://localhost:8080/",
     "height": 391
    },
    "colab_type": "code",
    "id": "Cj5POsrhizRS",
    "outputId": "f64ec97d-8713-47b9-f72e-5e076bc14ac6"
   },
   "outputs": [
    {
     "name": "stdout",
     "output_type": "stream",
     "text": [
      "Model: \"model_4\"\n",
      "_________________________________________________________________\n",
      "Layer (type)                 Output Shape              Param #   \n",
      "=================================================================\n",
      "conv2d_1_input (InputLayer)  (None, 28, 28, 1)         0         \n",
      "_________________________________________________________________\n",
      "conv2d_1 (Conv2D)            (None, 28, 28, 16)        160       \n",
      "_________________________________________________________________\n",
      "max_pooling2d_1 (MaxPooling2 (None, 14, 14, 16)        0         \n",
      "_________________________________________________________________\n",
      "conv2d_2 (Conv2D)            (None, 14, 14, 8)         1160      \n",
      "_________________________________________________________________\n",
      "max_pooling2d_2 (MaxPooling2 (None, 7, 7, 8)           0         \n",
      "_________________________________________________________________\n",
      "conv2d_3 (Conv2D)            (None, 4, 4, 8)           584       \n",
      "_________________________________________________________________\n",
      "flatten_1 (Flatten)          (None, 128)               0         \n",
      "=================================================================\n",
      "Total params: 1,904\n",
      "Trainable params: 1,904\n",
      "Non-trainable params: 0\n",
      "_________________________________________________________________\n"
     ]
    }
   ],
   "source": [
    "encoder = Model(inputs=autoencoder.input, outputs=autoencoder.get_layer('flatten_1').output)\n",
    "encoder.summary()"
   ]
  },
  {
   "cell_type": "code",
   "execution_count": null,
   "metadata": {
    "colab": {},
    "colab_type": "code",
    "id": "cQPhJlLaiQIU"
   },
   "outputs": [],
   "source": [
    "autoencoder.compile(optimizer='adam', loss='binary_crossentropy')"
   ]
  },
  {
   "cell_type": "code",
   "execution_count": 41,
   "metadata": {
    "colab": {
     "base_uri": "https://localhost:8080/",
     "height": 34
    },
    "colab_type": "code",
    "id": "PypjdcMJjHgf",
    "outputId": "4d33ed04-cda8-4e6d-8f29-fa411a6aea75"
   },
   "outputs": [
    {
     "name": "stdout",
     "output_type": "stream",
     "text": [
      "Loaded weights from disk\n"
     ]
    }
   ],
   "source": [
    "autoencoder = load_model_weights('ae3',autoencoder)"
   ]
  },
  {
   "cell_type": "code",
   "execution_count": 43,
   "metadata": {
    "colab": {
     "base_uri": "https://localhost:8080/",
     "height": 391
    },
    "colab_type": "code",
    "id": "4RygdH5yjQjN",
    "outputId": "dc94a766-6fc4-4df6-c18a-eb2f13a39249"
   },
   "outputs": [
    {
     "name": "stdout",
     "output_type": "stream",
     "text": [
      "Train on 60000 samples, validate on 10000 samples\n",
      "Epoch 1/10\n",
      "60000/60000 [==============================] - 3s 48us/step - loss: 0.0917 - val_loss: 0.0901\n",
      "Epoch 2/10\n",
      "60000/60000 [==============================] - 3s 46us/step - loss: 0.0909 - val_loss: 0.0894\n",
      "Epoch 3/10\n",
      "60000/60000 [==============================] - 3s 47us/step - loss: 0.0902 - val_loss: 0.0888\n",
      "Epoch 4/10\n",
      "60000/60000 [==============================] - 3s 47us/step - loss: 0.0897 - val_loss: 0.0887\n",
      "Epoch 5/10\n",
      "60000/60000 [==============================] - 3s 48us/step - loss: 0.0892 - val_loss: 0.0881\n",
      "Epoch 6/10\n",
      "60000/60000 [==============================] - 3s 48us/step - loss: 0.0888 - val_loss: 0.0874\n",
      "Epoch 7/10\n",
      "60000/60000 [==============================] - 3s 47us/step - loss: 0.0884 - val_loss: 0.0870\n",
      "Epoch 8/10\n",
      "60000/60000 [==============================] - 3s 47us/step - loss: 0.0880 - val_loss: 0.0874\n",
      "Epoch 9/10\n",
      "60000/60000 [==============================] - 3s 46us/step - loss: 0.0877 - val_loss: 0.0866\n",
      "Epoch 10/10\n",
      "60000/60000 [==============================] - 3s 46us/step - loss: 0.0874 - val_loss: 0.0861\n"
     ]
    },
    {
     "data": {
      "text/plain": [
       "<keras.callbacks.callbacks.History at 0x7ff2e798e860>"
      ]
     },
     "execution_count": 43,
     "metadata": {
      "tags": []
     },
     "output_type": "execute_result"
    }
   ],
   "source": [
    "autoencoder.fit(x_train_r, x_train_r,\n",
    "                epochs=10,\n",
    "                batch_size=128,\n",
    "                validation_data=(x_test_r, x_test_r))"
   ]
  },
  {
   "cell_type": "code",
   "execution_count": 44,
   "metadata": {
    "colab": {
     "base_uri": "https://localhost:8080/",
     "height": 34
    },
    "colab_type": "code",
    "id": "7zuAaxdZi_1s",
    "outputId": "84dcf507-fa00-439d-e31e-f23500cd8bee"
   },
   "outputs": [
    {
     "name": "stdout",
     "output_type": "stream",
     "text": [
      "Saved model to disk\n"
     ]
    }
   ],
   "source": [
    "save_model(autoencoder, 'ae3')"
   ]
  },
  {
   "cell_type": "code",
   "execution_count": 45,
   "metadata": {
    "colab": {
     "base_uri": "https://localhost:8080/",
     "height": 252
    },
    "colab_type": "code",
    "id": "sZ6bQinAmhJL",
    "outputId": "560fd504-d260-449b-a409-dfb1cf087e85"
   },
   "outputs": [
    {
     "data": {
      "image/png": "[encoded data removed]",
      "text/plain": [
       "<Figure size 1296x288 with 30 Axes>"
      ]
     },
     "metadata": {
      "needs_background": "light",
      "tags": []
     },
     "output_type": "display_data"
    }
   ],
   "source": [
    "num_images = 10\n",
    "np.random.seed(42)\n",
    "random_test_images = np.random.randint(x_test.shape[0], size=num_images)\n",
    "\n",
    "encoded_imgs = encoder.predict(x_test_r)\n",
    "decoded_imgs = autoencoder.predict(x_test_r)\n",
    "\n",
    "plt.figure(figsize=(18, 4))\n",
    "\n",
    "for i, image_idx in enumerate(random_test_images):\n",
    "    # plot original image\n",
    "    ax = plt.subplot(3, num_images, i + 1)\n",
    "    plt.imshow(x_test[image_idx].reshape(28, 28))\n",
    "    plt.gray()\n",
    "    ax.get_xaxis().set_visible(False)\n",
    "    ax.get_yaxis().set_visible(False)\n",
    "    \n",
    "    # plot encoded image\n",
    "    ax = plt.subplot(3, num_images, num_images + i + 1)\n",
    "    plt.imshow(encoded_imgs[image_idx].reshape(16, 8))\n",
    "    plt.gray()\n",
    "    ax.get_xaxis().set_visible(False)\n",
    "    ax.get_yaxis().set_visible(False)\n",
    "\n",
    "    # plot reconstructed image\n",
    "    ax = plt.subplot(3, num_images, 2*num_images + i + 1)\n",
    "    plt.imshow(decoded_imgs[image_idx].reshape(28, 28))\n",
    "    plt.gray()\n",
    "    ax.get_xaxis().set_visible(False)\n",
    "    ax.get_yaxis().set_visible(False)\n",
    "plt.show()"
   ]
  },
  {
   "cell_type": "code",
   "execution_count": null,
   "metadata": {
    "colab": {},
    "colab_type": "code",
    "id": "B2xVTnuDSYSD"
   },
   "outputs": [],
   "source": []
  }
 ],
 "metadata": {
  "accelerator": "GPU",
  "colab": {
   "name": "ae.ipynb",
   "provenance": []
  },
  "kernelspec": {
   "display_name": "Python 3",
   "language": "python",
   "name": "python3"
  },
  "language_info": {
   "codemirror_mode": {
    "name": "ipython",
    "version": 3
   },
   "file_extension": ".py",
   "mimetype": "text/x-python",
   "name": "python",
   "nbconvert_exporter": "python",
   "pygments_lexer": "ipython3",
   "version": "3.7.4"
  }
 },
 "nbformat": 4,
 "nbformat_minor": 4
}
