{
 "cells": [
  {
   "cell_type": "code",
   "execution_count": 67,
   "metadata": {
    "colab": {},
    "colab_type": "code",
    "id": "Sx4KZX7cF8Yd"
   },
   "outputs": [],
   "source": [
    "import numpy as np\n",
    "import pandas as pd\n",
    "from sklearn.datasets import load_breast_cancer\n",
    "from sklearn.model_selection import train_test_split\n",
    "from sklearn import svm\n",
    "from sklearn import metrics\n",
    "import matplotlib.pyplot as plt\n",
    "import seaborn as sns\n",
    "import itertools\n",
    "\n",
    "np.random.seed(42)  # for reproducibility\n",
    "sns.set(rc={\"figure.figsize\": (8, 8)})\n",
    "sns.set_style(\"ticks\")"
   ]
  },
  {
   "cell_type": "markdown",
   "metadata": {
    "colab_type": "text",
    "id": "0pddJrEbRtbr"
   },
   "source": [
    "For comparing different metrics, we will use the [Breast Cancer Dataset](https://goo.gl/U2Uwz2) which is provided by sckit-learn in `dataset` module. This dataset is used for binary classification between two types of cancer."
   ]
  },
  {
   "cell_type": "code",
   "execution_count": 69,
   "metadata": {
    "colab": {
     "base_uri": "https://localhost:8080/",
     "height": 413
    },
    "colab_type": "code",
    "executionInfo": {
     "elapsed": 654,
     "status": "ok",
     "timestamp": 1584999148496,
     "user": {
      "displayName": "giorgio gambosi",
      "photoUrl": "",
      "userId": "16824922970776045449"
     },
     "user_tz": -60
    },
    "id": "glPEglrYGV6f",
    "outputId": "b2dfdcbd-c74e-47a4-d302-a27bc91ac99f"
   },
   "outputs": [
    {
     "name": "stdout",
     "output_type": "stream",
     "text": [
      ".. _breast_cancer_dataset:\n",
      "\n",
      "Breast cancer wisconsin (diagnostic) dataset\n",
      "--------------------------------------------\n",
      "\n",
      "**Data Set Characteristics:**\n",
      "\n",
      "    :Number of Instances: 569\n",
      "\n",
      "    :Number of Attributes: 30 numeric, predictive attributes and the class\n",
      "\n",
      "    :Attribute Information:\n",
      "        - radius (mean of distances from center to points on the perimeter)\n",
      "        - texture (standard deviation of gray-scale values)\n",
      "        - perimeter\n",
      "        - area\n",
      "        - smoothness (local variation in radius lengths)\n",
      "        - compactness (perimeter^2 / area - 1.0)\n",
      "        - concavity (severity of concave portions of the contour)\n",
      "        - concave points (number of concave portions of the contour)\n",
      "        - symmetry \n",
      "        - fractal dimension (\"coastline app\n"
     ]
    }
   ],
   "source": [
    "data = load_breast_cancer()\n",
    "print(data.DESCR[:760])  # print short description"
   ]
  },
  {
   "cell_type": "markdown",
   "metadata": {
    "colab_type": "text",
    "id": "XQyaWAlhSTLL"
   },
   "source": [
    "Target classes i.e. types of cancer."
   ]
  },
  {
   "cell_type": "code",
   "execution_count": 70,
   "metadata": {
    "colab": {
     "base_uri": "https://localhost:8080/",
     "height": 34
    },
    "colab_type": "code",
    "id": "bStQWeSOSSp2",
    "outputId": "120309dc-092d-4d5c-dfbf-86af05de251f"
   },
   "outputs": [
    {
     "name": "stdout",
     "output_type": "stream",
     "text": [
      "Types of cancer (targets) are ['malignant' 'benign']\n"
     ]
    }
   ],
   "source": [
    "print(f\"Types of cancer (targets) are {data.target_names}\")"
   ]
  },
  {
   "cell_type": "markdown",
   "metadata": {
    "colab_type": "text",
    "id": "JizLx4ZfSZ-y"
   },
   "source": [
    "What is the dimension of data?  We see there are **569 examples** and each example has **30 features**.  \n",
    "The **target** variable is binary (**0 and 1** for `malignant` and `benign`).   \n",
    "We will consider `benign` as `positive` class, and `malignant` as `negative` class.  \n",
    "We can understand it as:  \n",
    "`0 for is_not_benign`  \n",
    "`1 for is_benign`"
   ]
  },
  {
   "cell_type": "code",
   "execution_count": 72,
   "metadata": {
    "colab": {
     "base_uri": "https://localhost:8080/",
     "height": 35
    },
    "colab_type": "code",
    "executionInfo": {
     "elapsed": 667,
     "status": "ok",
     "timestamp": 1584999237384,
     "user": {
      "displayName": "giorgio gambosi",
      "photoUrl": "",
      "userId": "16824922970776045449"
     },
     "user_tz": -60
    },
    "id": "xG-br8XcHXHC",
    "outputId": "f0d43c33-c975-4e42-de9c-bdd6a8b0612f"
   },
   "outputs": [
    {
     "name": "stdout",
     "output_type": "stream",
     "text": [
      "Shape of features is (569, 30), and shape of target is (569,)\n"
     ]
    }
   ],
   "source": [
    "X = data.data  # features\n",
    "y = data.target  # labels\n",
    "print(f\"Shape of features is {X.shape}, and shape of target is {y.shape}\")"
   ]
  },
  {
   "cell_type": "code",
   "execution_count": 74,
   "metadata": {},
   "outputs": [
    {
     "data": {
      "text/plain": [
       "array([0, 0, 0, 0, 0, 0, 0, 0, 0, 0, 0, 0, 0, 0, 0, 0, 0, 0, 0, 1, 1, 1,\n",
       "       0, 0, 0, 0, 0, 0, 0, 0, 0, 0, 0, 0, 0, 0, 0, 1, 0, 0, 0, 0, 0, 0,\n",
       "       0, 0, 1, 0, 1, 1, 1, 1, 1, 0, 0, 1, 0, 0, 1, 1, 1, 1, 0, 1, 0, 0,\n",
       "       1, 1, 1, 1, 0, 1, 0, 0, 1, 0, 1, 0, 0, 1, 1, 1, 0, 0, 1, 0, 0, 0,\n",
       "       1, 1, 1, 0, 1, 1, 0, 0, 1, 1, 1, 0, 0, 1, 1, 1, 1, 0, 1, 1, 0, 1,\n",
       "       1, 1, 1, 1, 1, 1, 1, 0, 0, 0, 1, 0, 0, 1, 1, 1, 0, 0, 1, 0, 1, 0,\n",
       "       0, 1, 0, 0, 1, 1, 0, 1, 1, 0, 1, 1, 1, 1, 0, 1, 1, 1, 1, 1, 1, 1,\n",
       "       1, 1, 0, 1, 1, 1, 1, 0, 0, 1, 0, 1, 1, 0, 0, 1, 1, 0, 0, 1, 1, 1,\n",
       "       1, 0, 1, 1, 0, 0, 0, 1, 0, 1, 0, 1, 1, 1, 0, 1, 1, 0, 0, 1, 0, 0,\n",
       "       0, 0, 1, 0, 0, 0, 1, 0, 1, 0, 1, 1, 0, 1, 0, 0, 0, 0, 1, 1, 0, 0,\n",
       "       1, 1, 1, 0, 1, 1, 1, 1, 1, 0, 0, 1, 1, 0, 1, 1, 0, 0, 1, 0, 1, 1,\n",
       "       1, 1, 0, 1, 1, 1, 1, 1, 0, 1, 0, 0, 0, 0, 0, 0, 0, 0, 0, 0, 0, 0,\n",
       "       0, 0, 1, 1, 1, 1, 1, 1, 0, 1, 0, 1, 1, 0, 1, 1, 0, 1, 0, 0, 1, 1,\n",
       "       1, 1, 1, 1, 1, 1, 1, 1, 1, 1, 1, 0, 1, 1, 0, 1, 0, 1, 1, 1, 1, 1,\n",
       "       1, 1, 1, 1, 1, 1, 1, 1, 1, 0, 1, 1, 1, 0, 1, 0, 1, 1, 1, 1, 0, 0,\n",
       "       0, 1, 1, 1, 1, 0, 1, 0, 1, 0, 1, 1, 1, 0, 1, 1, 1, 1, 1, 1, 1, 0,\n",
       "       0, 0, 1, 1, 1, 1, 1, 1, 1, 1, 1, 1, 1, 0, 0, 1, 0, 0, 0, 1, 0, 0,\n",
       "       1, 1, 1, 1, 1, 0, 1, 1, 1, 1, 1, 0, 1, 1, 1, 0, 1, 1, 0, 0, 1, 1,\n",
       "       1, 1, 1, 1, 0, 1, 1, 1, 1, 1, 1, 1, 0, 1, 1, 1, 1, 1, 0, 1, 1, 0,\n",
       "       1, 1, 1, 1, 1, 1, 1, 1, 1, 1, 1, 1, 0, 1, 0, 0, 1, 0, 1, 1, 1, 1,\n",
       "       1, 0, 1, 1, 0, 1, 0, 1, 1, 0, 1, 0, 1, 1, 1, 1, 1, 1, 1, 1, 0, 0,\n",
       "       1, 1, 1, 1, 1, 1, 0, 1, 1, 1, 1, 1, 1, 1, 1, 1, 1, 0, 1, 1, 1, 1,\n",
       "       1, 1, 1, 0, 1, 0, 1, 1, 0, 1, 1, 1, 1, 1, 0, 0, 1, 0, 1, 0, 1, 1,\n",
       "       1, 1, 1, 0, 1, 1, 0, 1, 0, 1, 0, 0, 1, 1, 1, 0, 1, 1, 1, 1, 1, 1,\n",
       "       1, 1, 1, 1, 1, 0, 1, 0, 0, 1, 1, 1, 1, 1, 1, 1, 1, 1, 1, 1, 1, 1,\n",
       "       1, 1, 1, 1, 1, 1, 1, 1, 1, 1, 1, 1, 0, 0, 0, 0, 0, 0, 1])"
      ]
     },
     "execution_count": 74,
     "metadata": {},
     "output_type": "execute_result"
    }
   ],
   "source": [
    "y"
   ]
  },
  {
   "cell_type": "markdown",
   "metadata": {
    "colab_type": "text",
    "id": "zpdfCVt8TW5K"
   },
   "source": [
    "### Split the data\n",
    "Since we shouldn't train and test our model with the same dataset, it is always a good idea to split the data in three parts - train data, test data, and validation data.  \n",
    "We won't require validation data here.\n",
    "We split the dataset into training and testing data, with 369 examples for training, and 200 examples for testing."
   ]
  },
  {
   "cell_type": "code",
   "execution_count": 76,
   "metadata": {
    "colab": {},
    "colab_type": "code",
    "id": "QsgrNr2RINsN"
   },
   "outputs": [],
   "source": [
    "X_train, X_test, y_train, y_test = train_test_split(X, y, test_size=200)"
   ]
  },
  {
   "cell_type": "code",
   "execution_count": 77,
   "metadata": {
    "colab": {
     "base_uri": "https://localhost:8080/",
     "height": 35
    },
    "colab_type": "code",
    "executionInfo": {
     "elapsed": 604,
     "status": "ok",
     "timestamp": 1584999338752,
     "user": {
      "displayName": "giorgio gambosi",
      "photoUrl": "",
      "userId": "16824922970776045449"
     },
     "user_tz": -60
    },
    "id": "YAU7JsyNJhc-",
    "outputId": "d16a160e-2231-4b9b-937c-43838e52bca1"
   },
   "outputs": [
    {
     "data": {
      "text/plain": [
       "array([1, 1, 0, 1, 0, 0, 1, 1, 1, 0])"
      ]
     },
     "execution_count": 77,
     "metadata": {},
     "output_type": "execute_result"
    }
   ],
   "source": [
    "y_train[:10]"
   ]
  },
  {
   "cell_type": "markdown",
   "metadata": {
    "colab_type": "text",
    "id": "DVCi5RMsJE-O"
   },
   "source": [
    "### Training and predicting data"
   ]
  },
  {
   "cell_type": "markdown",
   "metadata": {
    "colab_type": "text",
    "id": "4iRqwJU-TmIt"
   },
   "source": [
    "Let us use scikit's Support Vector Machines classifier to predict whether its a benign cancer.  \n",
    "`SVC` classifier is used from `sklearn.svm`."
   ]
  },
  {
   "cell_type": "code",
   "execution_count": 78,
   "metadata": {
    "colab": {},
    "colab_type": "code",
    "id": "4pKL5VoJKh8A"
   },
   "outputs": [],
   "source": [
    "classifier = svm.SVC(kernel='linear', probability=True)"
   ]
  },
  {
   "cell_type": "markdown",
   "metadata": {
    "colab_type": "text",
    "id": "6DwkhGMyT2BJ"
   },
   "source": [
    "Next we fit/train the model on our _training dataset_. It trains quite fast since we are working with relatively small dataset."
   ]
  },
  {
   "cell_type": "code",
   "execution_count": 79,
   "metadata": {
    "colab": {
     "base_uri": "https://localhost:8080/",
     "height": 89
    },
    "colab_type": "code",
    "executionInfo": {
     "elapsed": 5670,
     "status": "ok",
     "timestamp": 1584999512738,
     "user": {
      "displayName": "giorgio gambosi",
      "photoUrl": "",
      "userId": "16824922970776045449"
     },
     "user_tz": -60
    },
    "id": "1rj0E-XnLWaH",
    "outputId": "df2ed2fc-5109-41a2-af36-85515b025234"
   },
   "outputs": [
    {
     "data": {
      "text/plain": [
       "SVC(C=1.0, cache_size=200, class_weight=None, coef0=0.0,\n",
       "    decision_function_shape='ovr', degree=3, gamma='auto_deprecated',\n",
       "    kernel='linear', max_iter=-1, probability=True, random_state=None,\n",
       "    shrinking=True, tol=0.001, verbose=False)"
      ]
     },
     "execution_count": 79,
     "metadata": {},
     "output_type": "execute_result"
    }
   ],
   "source": [
    "classifier.fit(X_train, y_train)"
   ]
  },
  {
   "cell_type": "markdown",
   "metadata": {
    "colab_type": "text",
    "id": "hZvqwrrAT6UV"
   },
   "source": [
    "Now save the prediction results both as probability and as classes.  \n",
    "**`y_preds`** is a **1D vector** of one of `{0, 1}` values, denoting predictions as malignant and benign, respectively.  \n",
    "**`y_proba`** is a **2D vector**, where for each example, it contains a vector of length 2,  \n",
    "`[prob. of malignant, prob. of benign]`"
   ]
  },
  {
   "cell_type": "code",
   "execution_count": 80,
   "metadata": {
    "colab": {},
    "colab_type": "code",
    "id": "1PdjKHbfT6AX"
   },
   "outputs": [],
   "source": [
    "y_preds = classifier.predict(X_test)\n",
    "y_proba = classifier.predict_proba(X_test)"
   ]
  },
  {
   "cell_type": "code",
   "execution_count": 84,
   "metadata": {},
   "outputs": [
    {
     "data": {
      "text/plain": [
       "array([1, 0, 0, 1, 1, 0, 0, 0, 1, 1, 1, 0, 1, 0, 1, 0, 1, 1, 1, 0, 1, 1,\n",
       "       0, 1, 1, 1, 1, 1, 1, 0, 1, 1, 1, 1, 1, 1, 0, 1, 0, 1, 1, 0, 1, 1,\n",
       "       1, 1, 1, 1, 1, 1, 0, 0, 1, 1, 1, 1, 1, 0, 1, 1, 1, 0, 0, 1, 1, 1,\n",
       "       0, 0, 1, 1, 0, 0, 1, 0, 1, 1, 1, 1, 1, 1, 0, 1, 1, 0, 0, 0, 0, 0,\n",
       "       1, 1, 1, 1, 1, 1, 1, 1, 0, 0, 1, 0, 0, 1, 0, 0, 1, 1, 1, 0, 1, 1,\n",
       "       0, 1, 0, 0, 1, 0, 1, 1, 1, 0, 0, 1, 1, 0, 1, 0, 0, 1, 1, 0, 0, 0,\n",
       "       1, 1, 1, 0, 1, 1, 1, 0, 1, 0, 1, 1, 0, 1, 0, 0, 0, 1, 0, 1, 1, 1,\n",
       "       1, 0, 0, 1, 1, 1, 1, 1, 1, 1, 0, 1, 1, 1, 1, 0, 1, 1, 1, 1, 1, 1,\n",
       "       0, 1, 1, 1, 1, 0, 1, 0, 0, 0, 0, 1, 0, 1, 0, 1, 1, 1, 1, 1, 1, 1,\n",
       "       0, 1])"
      ]
     },
     "execution_count": 84,
     "metadata": {},
     "output_type": "execute_result"
    }
   ],
   "source": [
    "y_preds"
   ]
  },
  {
   "cell_type": "markdown",
   "metadata": {
    "colab_type": "text",
    "id": "b-9Dsn3yGXx7"
   },
   "source": [
    "We need to reshape `y_proba` to a 1D vector denoting the probability of having  `benign` cancer."
   ]
  },
  {
   "cell_type": "code",
   "execution_count": 85,
   "metadata": {
    "colab": {},
    "colab_type": "code",
    "id": "To9oQknC19dh"
   },
   "outputs": [],
   "source": [
    "y_proba = y_proba[:,1].reshape((y_proba.shape[0],))"
   ]
  },
  {
   "cell_type": "code",
   "execution_count": 86,
   "metadata": {
    "colab": {
     "base_uri": "https://localhost:8080/",
     "height": 71
    },
    "colab_type": "code",
    "executionInfo": {
     "elapsed": 619,
     "status": "ok",
     "timestamp": 1584999543924,
     "user": {
      "displayName": "giorgio gambosi",
      "photoUrl": "",
      "userId": "16824922970776045449"
     },
     "user_tz": -60
    },
    "id": "J_VDguyUL7fu",
    "outputId": "7a675740-c735-4c7d-8b20-6105736ba1d1"
   },
   "outputs": [
    {
     "data": {
      "text/plain": [
       "(array([8.26913718e-01, 9.13681668e-04, 5.18713674e-02, 9.92224112e-01,\n",
       "        9.99983483e-01]), array([1, 0, 0, 1, 1]), array([1, 0, 0, 1, 1]))"
      ]
     },
     "execution_count": 86,
     "metadata": {},
     "output_type": "execute_result"
    }
   ],
   "source": [
    "y_proba[:5], y_preds[:5], y_test[:5]"
   ]
  },
  {
   "cell_type": "markdown",
   "metadata": {
    "colab_type": "text",
    "id": "QM2WA4_FJfgT"
   },
   "source": [
    "### Confusion Matrix"
   ]
  },
  {
   "cell_type": "markdown",
   "metadata": {
    "colab_type": "text",
    "id": "HEtVeYiBUDvH"
   },
   "source": [
    "Let us calculate confusion matrix of the predictions. It is implemented in Scikit-learn's [`sklearn.metrics.confusion_matrix`](http://scikit-learn.org/stable/modules/generated/sklearn.metrics.confusion_matrix.html)."
   ]
  },
  {
   "cell_type": "code",
   "execution_count": 87,
   "metadata": {
    "colab": {
     "base_uri": "https://localhost:8080/",
     "height": 53
    },
    "colab_type": "code",
    "executionInfo": {
     "elapsed": 594,
     "status": "ok",
     "timestamp": 1584999555168,
     "user": {
      "displayName": "giorgio gambosi",
      "photoUrl": "",
      "userId": "16824922970776045449"
     },
     "user_tz": -60
    },
    "id": "gXSq_kfcN8U8",
    "outputId": "7e7531d8-1cb6-4778-d739-2428b573760b"
   },
   "outputs": [
    {
     "data": {
      "text/plain": [
       "array([[ 66,   5],\n",
       "       [  4, 125]])"
      ]
     },
     "execution_count": 87,
     "metadata": {},
     "output_type": "execute_result"
    }
   ],
   "source": [
    "conf = metrics.confusion_matrix(y_test, y_preds)\n",
    "conf"
   ]
  },
  {
   "cell_type": "code",
   "execution_count": 88,
   "metadata": {
    "colab": {
     "base_uri": "https://localhost:8080/",
     "height": 581
    },
    "colab_type": "code",
    "executionInfo": {
     "elapsed": 854,
     "status": "ok",
     "timestamp": 1584999645785,
     "user": {
      "displayName": "giorgio gambosi",
      "photoUrl": "",
      "userId": "16824922970776045449"
     },
     "user_tz": -60
    },
    "id": "PiSZNOpnOeYu",
    "outputId": "68fb4d51-e119-44eb-e5ce-0c6506caf40d"
   },
   "outputs": [
    {
     "data": {
      "image/png": "[encoded data removed]",
      "text/plain": [
       "<Figure size 576x576 with 2 Axes>"
      ]
     },
     "metadata": {},
     "output_type": "display_data"
    }
   ],
   "source": [
    "classes = [0, 1]\n",
    "# plot confusion matrix\n",
    "plt.imshow(conf, interpolation='nearest', cmap=plt.cm.Greens)\n",
    "plt.title(\"Confusion Matrix\")\n",
    "plt.colorbar()\n",
    "tick_marks = np.arange(len(classes))\n",
    "plt.xticks(tick_marks, classes)\n",
    "plt.yticks(tick_marks, classes)\n",
    "\n",
    "fmt = 'd'\n",
    "thresh = conf.max() / 2.\n",
    "for i, j in itertools.product(range(conf.shape[0]), range(conf.shape[1])):\n",
    "    plt.text(j, i, format(conf[i, j], fmt),\n",
    "             horizontalalignment=\"center\",\n",
    "             color=\"white\" if conf[i, j] > thresh else \"black\")\n",
    "\n",
    "plt.tight_layout()\n",
    "plt.ylabel('True label')\n",
    "plt.xlabel('Predicted label')\n",
    "plt.show()"
   ]
  },
  {
   "cell_type": "markdown",
   "metadata": {
    "colab_type": "text",
    "id": "v81eYMJ0UM29"
   },
   "source": [
    "From the confusion matrix, we can see the number of examples predicted correct by our classifier, for both classes seperately.  \n",
    "We can get the numbers of `True Positives, True Negatives, False Positives, and False Negatives` from this confusion matrix.   \n",
    "Lets store these terms in some variables."
   ]
  },
  {
   "cell_type": "code",
   "execution_count": 90,
   "metadata": {
    "colab": {},
    "colab_type": "code",
    "id": "gjTIQRccOr-A"
   },
   "outputs": [],
   "source": [
    "# from the confusion matrix\n",
    "TP = true_pos = 125\n",
    "TN = true_neg = 66\n",
    "FP = false_pos = 4\n",
    "FN = false_neg = 5"
   ]
  },
  {
   "cell_type": "markdown",
   "metadata": {
    "colab_type": "text",
    "id": "USDonfT5Jpr2"
   },
   "source": [
    "### Some basic metrics"
   ]
  },
  {
   "cell_type": "markdown",
   "metadata": {
    "colab_type": "text",
    "id": "X5dcb4jEPpDR"
   },
   "source": [
    "Now, we will calculate some basic metrics from these four values.  \n",
    "We will need a dictionary to store these metrics. Lets create a dictionary `results`."
   ]
  },
  {
   "cell_type": "code",
   "execution_count": 91,
   "metadata": {
    "colab": {},
    "colab_type": "code",
    "id": "wFE2EKmxV_Xx"
   },
   "outputs": [],
   "source": [
    "results = {}"
   ]
  },
  {
   "cell_type": "markdown",
   "metadata": {
    "colab_type": "text",
    "id": "U6O_iUIHZqgj"
   },
   "source": [
    "#### Accuracy \n",
    "number of examples correctly predicted / total number of examples  \n",
    "\n",
    "$$\n",
    "ACC=\\frac{TP+TN}{TP+FP+TN+FN}\n",
    "$$"
   ]
  },
  {
   "cell_type": "code",
   "execution_count": 93,
   "metadata": {
    "colab": {
     "base_uri": "https://localhost:8080/",
     "height": 35
    },
    "colab_type": "code",
    "executionInfo": {
     "elapsed": 595,
     "status": "ok",
     "timestamp": 1584999686640,
     "user": {
      "displayName": "giorgio gambosi",
      "photoUrl": "",
      "userId": "16824922970776045449"
     },
     "user_tz": -60
    },
    "id": "4y3hcfI0WFfv",
    "outputId": "ab8f7a57-1475-4f93-b05c-7699fc42b8a0"
   },
   "outputs": [
    {
     "name": "stdout",
     "output_type": "stream",
     "text": [
      "ACC is 0.955\n"
     ]
    }
   ],
   "source": [
    "metric = \"ACC\"\n",
    "#results[metric] = (TP + TN) / (TP + TN + FP + FN)\n",
    "results[metric] = metrics.accuracy_score(y_test, y_preds)\n",
    "print(\"{0:s} is {1:.3f}\".format(metric, results[metric]))"
   ]
  },
  {
   "cell_type": "markdown",
   "metadata": {
    "colab_type": "text",
    "id": "vjmFM1v_Z_a8"
   },
   "source": [
    "#### True Positive Rate (Recall)\n",
    "number of `Positive` samples actually predicted as  `Positive` / total number of `Positive` samples\n",
    "\n",
    "$$\n",
    "TPR=\\frac{TP}{TP+FN}\n",
    "$$\n",
    "\n"
   ]
  },
  {
   "cell_type": "code",
   "execution_count": 94,
   "metadata": {
    "colab": {
     "base_uri": "https://localhost:8080/",
     "height": 35
    },
    "colab_type": "code",
    "executionInfo": {
     "elapsed": 690,
     "status": "ok",
     "timestamp": 1584999724609,
     "user": {
      "displayName": "giorgio gambosi",
      "photoUrl": "",
      "userId": "16824922970776045449"
     },
     "user_tz": -60
    },
    "id": "q8JoI-S6WKMS",
    "outputId": "3a82e10f-402d-499f-d998-9c4ec7e1f77a"
   },
   "outputs": [
    {
     "name": "stdout",
     "output_type": "stream",
     "text": [
      "TPR is 0.969\n"
     ]
    }
   ],
   "source": [
    "# Recall\n",
    "metric = \"TPR\"\n",
    "#results[metric] = TP / (TP + FN)\n",
    "results[metric] = metrics.recall_score(y_test, y_preds)\n",
    "print(\"{0:s} is {1:.3f}\".format(metric, results[metric]))"
   ]
  },
  {
   "cell_type": "markdown",
   "metadata": {
    "colab_type": "text",
    "id": "f6y1c1SDa0Lg"
   },
   "source": [
    "#### True Negative Rate (Specificity)\n",
    "number of `Negative` samples actually predicted as  `Negative` / total number of `Negative` samples    \n",
    "\n",
    "$$\n",
    "TNR = \\frac{TN}{TN+FP}\n",
    "$$"
   ]
  },
  {
   "cell_type": "code",
   "execution_count": 96,
   "metadata": {
    "colab": {
     "base_uri": "https://localhost:8080/",
     "height": 35
    },
    "colab_type": "code",
    "executionInfo": {
     "elapsed": 720,
     "status": "ok",
     "timestamp": 1584999729216,
     "user": {
      "displayName": "giorgio gambosi",
      "photoUrl": "",
      "userId": "16824922970776045449"
     },
     "user_tz": -60
    },
    "id": "rkRmDKjSYLYE",
    "outputId": "9b3832c4-2790-481f-b070-a8cea6d79c4e"
   },
   "outputs": [
    {
     "name": "stdout",
     "output_type": "stream",
     "text": [
      "TNR is 0.943\n"
     ]
    }
   ],
   "source": [
    "metric = \"TNR\"\n",
    "results[metric] = TN / (TN + FP)\n",
    "print(\"{0:s} is {1:.3f}\".format(metric, results[metric]))"
   ]
  },
  {
   "cell_type": "markdown",
   "metadata": {
    "colab_type": "text",
    "id": "T_Yx4tm7IbH5"
   },
   "source": [
    "#### False Positive Rate\n",
    "number of `Negative` samples actually predicted as  `Positive` / total number of `Negative` samples  \n",
    "Also called **Specificity**.  \n",
    "\n",
    "$$\n",
    "FPR = \\frac{FP}{TN+FP}\n",
    "$$"
   ]
  },
  {
   "cell_type": "code",
   "execution_count": 97,
   "metadata": {},
   "outputs": [
    {
     "name": "stdout",
     "output_type": "stream",
     "text": [
      "FPR is 0.057\n"
     ]
    }
   ],
   "source": [
    "metric = \"FPR\"\n",
    "results[metric] = FP / (TN + FP)\n",
    "print(\"{0:s} is {1:.3f}\".format(metric, results[metric]))"
   ]
  },
  {
   "cell_type": "markdown",
   "metadata": {},
   "source": [
    "#### False Negative Rate\n",
    "number of `Positive` samples actually predicted as  `Negative` / total number of `Positive` samples  \n",
    "Also called **Specificity**.  \n",
    "\n",
    "$$\n",
    "FNR = \\frac{FN}{TP+FN}\n",
    "$$"
   ]
  },
  {
   "cell_type": "code",
   "execution_count": 98,
   "metadata": {},
   "outputs": [
    {
     "name": "stdout",
     "output_type": "stream",
     "text": [
      "FNR is 0.038\n"
     ]
    }
   ],
   "source": [
    "metric = \"FNR\"\n",
    "results[metric] = FN / (TP + FN)\n",
    "print(\"{0:s} is {1:.3f}\".format(metric, results[metric]))"
   ]
  },
  {
   "cell_type": "markdown",
   "metadata": {
    "colab_type": "text",
    "id": "qK7WCIlpbDis"
   },
   "source": [
    "#### Positive Predictive Value (Precision)\n",
    "number of samples actually and predicted as  `Positive` / total number of samples predicted as `Positive`  \n",
    "  \n",
    "$$\n",
    "PPV = \\frac{TP}{TP+FP}\n",
    "$$\n"
   ]
  },
  {
   "cell_type": "code",
   "execution_count": 99,
   "metadata": {
    "colab": {
     "base_uri": "https://localhost:8080/",
     "height": 34
    },
    "colab_type": "code",
    "id": "lNgS7UwfYce9",
    "outputId": "5328a696-1cc6-48d4-ae87-9aedd31ab22f"
   },
   "outputs": [
    {
     "name": "stdout",
     "output_type": "stream",
     "text": [
      "PPV is 0.969\n"
     ]
    }
   ],
   "source": [
    "# Precision\n",
    "metric = \"PPV\"\n",
    "#results[metric] = TP / (TP + FP)\n",
    "results[metric] = metrics.recall_score(y_test, y_preds)\n",
    "print(\"{0:s} is {1:.3f}\".format(metric, results[metric]))"
   ]
  },
  {
   "cell_type": "markdown",
   "metadata": {
    "colab_type": "text",
    "id": "VBPShM1JdQpO"
   },
   "source": [
    "#### Negative Predictive Value\n",
    "number of samples actually and predicted as  `Negative` / total number of samples predicted as `Negative` \n",
    "\n",
    "$$\n",
    "NPV = \\frac{TN}{TN+FN}\n",
    "$$\n"
   ]
  },
  {
   "cell_type": "code",
   "execution_count": 100,
   "metadata": {
    "colab": {
     "base_uri": "https://localhost:8080/",
     "height": 34
    },
    "colab_type": "code",
    "id": "qAAhCMaOdsSn",
    "outputId": "955c1f57-7e1c-4892-8751-014c16aedcc7"
   },
   "outputs": [
    {
     "name": "stdout",
     "output_type": "stream",
     "text": [
      "NPV is 0.930\n"
     ]
    }
   ],
   "source": [
    "metric = \"NPV\"\n",
    "results[metric] = TN / (TN + FN)\n",
    "print(\"{0:s} is {1:.3f}\".format(metric, results[metric]))"
   ]
  },
  {
   "cell_type": "markdown",
   "metadata": {},
   "source": [
    "#### F1 score\n",
    "Harmonic Mean of Precision and Recall.  \n",
    "\n",
    "$$\n",
    "F_1=2\\frac{\\text{precision}\\cdot \\text{recall}}{\\text{precision}+\\text{recall}}\n",
    "$$"
   ]
  },
  {
   "cell_type": "code",
   "execution_count": 102,
   "metadata": {
    "colab": {
     "base_uri": "https://localhost:8080/",
     "height": 34
    },
    "colab_type": "code",
    "id": "8pNnIhEbdzFc",
    "outputId": "d68bafe1-97ee-4cdd-f1fc-f6349e3afb5f"
   },
   "outputs": [
    {
     "name": "stdout",
     "output_type": "stream",
     "text": [
      "F1 is 0.965\n"
     ]
    }
   ],
   "source": [
    "metric = \"F1\"\n",
    "#results[metric] = 2 / (1 / results[\"PPV\"] + 1 / results[\"TPR\"])\n",
    "results[metric] = metrics.f1_score(y_test, y_preds)\n",
    "print(\"{0:s} is {1:.3f}\".format(metric, results[metric]))"
   ]
  },
  {
   "cell_type": "markdown",
   "metadata": {},
   "source": [
    "#### F beta score\n",
    "Harmonic Mean of Precision and Recall.  \n",
    "\n",
    "$$\n",
    "F_\\beta=(1+\\beta^2)\\frac{\\text{precision}\\cdot \\text{recall}}{\\beta^2\\cdot\\text{precision}+\\text{recall}}\n",
    "$$"
   ]
  },
  {
   "cell_type": "code",
   "execution_count": 103,
   "metadata": {},
   "outputs": [
    {
     "name": "stdout",
     "output_type": "stream",
     "text": [
      "F2 is 0.967\n"
     ]
    }
   ],
   "source": [
    "metric = \"F2\"\n",
    "#results[metric] = 2 / (1 / results[\"PPV\"] + 1 / results[\"TPR\"])\n",
    "results[metric] = metrics.fbeta_score(y_test, y_preds, beta=2)\n",
    "print(\"{0:s} is {1:.3f}\".format(metric, results[metric]))"
   ]
  },
  {
   "cell_type": "markdown",
   "metadata": {},
   "source": [
    "#### Matthew's correlation coefficient\n",
    "Matthew's coefficient range between `[-1, 1]`. `0` usually means totally random predictions. `1` means a perfect classifier, while a negative value (`[-1, 0)`) suggests a negative correlation between predictions and actual values.   \n",
    "\n",
    "$$\n",
    "MCC = \\frac{TP\\cdot TN -FP\\cdot FN}{\\sqrt{(TP+FP)(TP+FN)(TN+FP)(TN+FN)}}\n",
    "$$\n"
   ]
  },
  {
   "cell_type": "code",
   "execution_count": 36,
   "metadata": {
    "colab": {
     "base_uri": "https://localhost:8080/",
     "height": 34
    },
    "colab_type": "code",
    "id": "IxtxoxxmgZxI",
    "outputId": "1be038c0-b1ba-455e-c435-5eeb56ee6dcd"
   },
   "outputs": [
    {
     "name": "stdout",
     "output_type": "stream",
     "text": [
      "MCC is  0.904\n"
     ]
    }
   ],
   "source": [
    "metric = \"MCC\"\n",
    "num = TP * TN - FP * FN\n",
    "den = ((TP + FP) * (TP + FN) * (TN + FP) * (TN + FN)) ** 0.5\n",
    "results[metric] = num / den\n",
    "print(\"{0:s} is {1:.3f}\".format(metric, results[metric]))"
   ]
  },
  {
   "cell_type": "code",
   "execution_count": 44,
   "metadata": {},
   "outputs": [
    {
     "name": "stdout",
     "output_type": "stream",
     "text": [
      "Precision class 1 is 0.946\n",
      "Precision class 0 is 0.971\n",
      "Average precision (micro) is 0.955\n",
      "Average precision (macro) is 0.959\n"
     ]
    }
   ],
   "source": [
    "prec_1 = metrics.precision_score(y_test, y_preds, average='binary', pos_label=1)\n",
    "prec_0 = metrics.precision_score(y_test, y_preds, average='binary', pos_label=0)\n",
    "prec_micro = metrics.precision_score(y_test, y_preds, average='micro')\n",
    "prec_macro = metrics.precision_score(y_test, y_preds, average='macro')\n",
    "print(\"Precision class 1 is {0:.3f}\".format(prec_1))\n",
    "print(\"Precision class 0 is {0:.3f}\".format(prec_0))\n",
    "print(\"Average precision (micro) is {0:.3f}\".format(prec_micro))\n",
    "print(\"Average precision (macro) is {0:.3f}\".format(prec_macro))"
   ]
  },
  {
   "cell_type": "code",
   "execution_count": 45,
   "metadata": {},
   "outputs": [
    {
     "name": "stdout",
     "output_type": "stream",
     "text": [
      "Recall class 1 is 0.984\n",
      "Recall class 0 is 0.907\n",
      "Average recall (micro) is 0.955\n",
      "Average recall (macro) is 0.945\n"
     ]
    }
   ],
   "source": [
    "rec_1 = metrics.recall_score(y_test, y_preds, average='binary', pos_label=1)\n",
    "rec_0 = metrics.recall_score(y_test, y_preds, average='binary', pos_label=0)\n",
    "rec_micro = metrics.recall_score(y_test, y_preds, average='micro')\n",
    "rec_macro = metrics.recall_score(y_test, y_preds, average='macro')\n",
    "print(\"Recall class 1 is {0:.3f}\".format(rec_1))\n",
    "print(\"Recall class 0 is {0:.3f}\".format(rec_0))\n",
    "print(\"Average recall (micro) is {0:.3f}\".format(rec_micro))\n",
    "print(\"Average recall (macro) is {0:.3f}\".format(rec_macro))"
   ]
  },
  {
   "cell_type": "code",
   "execution_count": 47,
   "metadata": {},
   "outputs": [
    {
     "name": "stdout",
     "output_type": "stream",
     "text": [
      "F1 class 1 is 0.965\n",
      "F1 class 0 is 0.938\n",
      "Average F1 (micro) is 0.955\n",
      "Average F1 (macro) is 0.945\n"
     ]
    }
   ],
   "source": [
    "f1_1 = metrics.f1_score(y_test, y_preds, average='binary', pos_label=1)\n",
    "f1_0 = metrics.f1_score(y_test, y_preds, average='binary', pos_label=0)\n",
    "f1_micro = metrics.recall_score(y_test, y_preds, average='micro')\n",
    "f1_macro = metrics.recall_score(y_test, y_preds, average='macro')\n",
    "print(\"F1 class 1 is {0:.3f}\".format(f1_1))\n",
    "print(\"F1 class 0 is {0:.3f}\".format(f1_0))\n",
    "print(\"Average F1 (micro) is {0:.3f}\".format(f1_micro))\n",
    "print(\"Average F1 (macro) is {0:.3f}\".format(f1_macro))"
   ]
  },
  {
   "cell_type": "markdown",
   "metadata": {
    "colab_type": "text",
    "id": "7UI7NWzcpu8p"
   },
   "source": [
    "### ROC curve (Receiver Operating Characteristic curve)\n",
    " A receiver operating characteristic curve, i.e. **ROC curve**, is a graphical plot that illustrates the diagnostic ability of a binary classifier system as its discrimination threshold is varied.  \n",
    " The ROC curve is created by plotting the **True Positive Rate (TPR)** against the **False Positive Rate (FPR)** at various threshold settings.  \n",
    " Let's plot the ROC curve for the Breast Cancer Dataset.  "
   ]
  },
  {
   "cell_type": "code",
   "execution_count": 37,
   "metadata": {
    "colab": {},
    "colab_type": "code",
    "id": "azh7aCjE7Qid"
   },
   "outputs": [],
   "source": [
    "FPRs, TPRs, _ = metrics.roc_curve(y_test, y_proba)"
   ]
  },
  {
   "cell_type": "code",
   "execution_count": 38,
   "metadata": {
    "colab": {
     "base_uri": "https://localhost:8080/",
     "height": 518
    },
    "colab_type": "code",
    "id": "L4-Eric87exv",
    "outputId": "fce9c7a2-3ca6-4a15-e946-2f5aee6860d1"
   },
   "outputs": [
    {
     "data": {
      "image/png": "[encoded data removed]",
      "text/plain": [
       "<Figure size 432x288 with 1 Axes>"
      ]
     },
     "metadata": {
      "needs_background": "light"
     },
     "output_type": "display_data"
    }
   ],
   "source": [
    "# Plot the ROC curve\n",
    "plt.plot(FPRs, TPRs, color='red',\n",
    "         lw=2, label='ROC curve')\n",
    "plt.plot([0, 1], [0, 1], color='navy', lw=2, linestyle='--', label=\"Mean\")\n",
    "plt.xlim([-0.05, 1.0])\n",
    "plt.ylim([0.0, 1.05])\n",
    "plt.xlabel('False Positive Rate')\n",
    "plt.ylabel('True Positive Rate')\n",
    "plt.title(\"Scikit-learn's ROC curve\")\n",
    "plt.legend(loc=\"lower right\")\n",
    "plt.show()"
   ]
  },
  {
   "cell_type": "markdown",
   "metadata": {
    "colab_type": "text",
    "id": "wcQXLrk68FC1"
   },
   "source": [
    "### ROC-AUC score\n",
    "Now, that we know about ROC curve, what it represents, **AUC score** is very easy to understand.  \n",
    "AUC stands for **Area under the Curve**, which is nothing but the area under the ROC curve formed by the predictions.  \n",
    "As we saw, a totally random prediction will have AUC score `0.5`, while a perfect classifier will have AUC score of `1`. "
   ]
  },
  {
   "cell_type": "markdown",
   "metadata": {
    "colab_type": "text",
    "id": "JETH5mgtIs9Y"
   },
   "source": [
    "Lets check the AUC score of our model."
   ]
  },
  {
   "cell_type": "code",
   "execution_count": 40,
   "metadata": {
    "colab": {
     "base_uri": "https://localhost:8080/",
     "height": 34
    },
    "colab_type": "code",
    "id": "pQmvuU9AKUvm",
    "outputId": "5fe6061f-1149-4f4b-8dc6-a3a8dd8bcda6"
   },
   "outputs": [
    {
     "name": "stdout",
     "output_type": "stream",
     "text": [
      "Scikit's ROC-AUC score of SVC model is  0.9872\n"
     ]
    }
   ],
   "source": [
    "auc_score = metrics.roc_auc_score(y_test, y_proba)\n",
    "print(f\"Scikit's ROC-AUC score of SVC model is {auc_score: .4f}\")"
   ]
  },
  {
   "cell_type": "code",
   "execution_count": 66,
   "metadata": {},
   "outputs": [
    {
     "data": {
      "text/plain": [
       "[(0.9328358208955224, 1.0),\n",
       " (0.9323308270676691, 0.992),\n",
       " (0.9393939393939394, 0.992),\n",
       " (0.9389312977099237, 0.984),\n",
       " (0.9461538461538461, 0.984),\n",
       " (0.9534883720930233, 0.984),\n",
       " (0.9609375, 0.984),\n",
       " (0.9606299212598425, 0.976),\n",
       " (0.9603174603174603, 0.968),\n",
       " (0.968, 0.968),\n",
       " (0.967741935483871, 0.96),\n",
       " (0.967479674796748, 0.952),\n",
       " (0.9672131147540983, 0.944),\n",
       " (0.9752066115702479, 0.944),\n",
       " (0.975, 0.936),\n",
       " (0.9831932773109243, 0.936),\n",
       " (0.9830508474576272, 0.928),\n",
       " (0.9829059829059829, 0.92),\n",
       " (0.9827586206896551, 0.912),\n",
       " (0.9826086956521739, 0.904),\n",
       " (0.9824561403508771, 0.896),\n",
       " (0.9823008849557522, 0.888),\n",
       " (0.9821428571428571, 0.88),\n",
       " (0.9819819819819819, 0.872),\n",
       " (0.990909090909091, 0.872),\n",
       " (0.9908256880733946, 0.864),\n",
       " (0.9907407407407407, 0.856),\n",
       " (0.9906542056074766, 0.848),\n",
       " (0.9905660377358491, 0.84),\n",
       " (0.9904761904761905, 0.832),\n",
       " (0.9903846153846154, 0.824),\n",
       " (0.9902912621359223, 0.816),\n",
       " (0.9901960784313726, 0.808),\n",
       " (0.9900990099009901, 0.8),\n",
       " (0.99, 0.792),\n",
       " (0.98989898989899, 0.784),\n",
       " (0.9897959183673469, 0.776),\n",
       " (0.9896907216494846, 0.768),\n",
       " (0.9895833333333334, 0.76),\n",
       " (0.9894736842105263, 0.752),\n",
       " (0.9893617021276596, 0.744),\n",
       " (0.989247311827957, 0.736),\n",
       " (0.9891304347826086, 0.728),\n",
       " (0.989010989010989, 0.72),\n",
       " (0.9888888888888889, 0.712),\n",
       " (0.9887640449438202, 0.704),\n",
       " (0.9886363636363636, 0.696),\n",
       " (0.9885057471264368, 0.688),\n",
       " (0.9883720930232558, 0.68),\n",
       " (0.9882352941176471, 0.672),\n",
       " (0.9880952380952381, 0.664),\n",
       " (0.9879518072289156, 0.656),\n",
       " (0.9878048780487805, 0.648),\n",
       " (0.9876543209876543, 0.64),\n",
       " (0.9875, 0.632),\n",
       " (0.9873417721518988, 0.624),\n",
       " (0.9871794871794872, 0.616),\n",
       " (0.987012987012987, 0.608),\n",
       " (0.9868421052631579, 0.6),\n",
       " (0.9866666666666667, 0.592),\n",
       " (0.9864864864864865, 0.584),\n",
       " (0.9863013698630136, 0.576),\n",
       " (0.9861111111111112, 0.568),\n",
       " (0.9859154929577465, 0.56),\n",
       " (0.9857142857142858, 0.552),\n",
       " (0.9855072463768116, 0.544),\n",
       " (0.9852941176470589, 0.536),\n",
       " (0.9850746268656716, 0.528),\n",
       " (0.9848484848484849, 0.52),\n",
       " (0.9846153846153847, 0.512),\n",
       " (0.984375, 0.504),\n",
       " (0.9841269841269841, 0.496),\n",
       " (0.9838709677419355, 0.488),\n",
       " (0.9836065573770492, 0.48),\n",
       " (0.9833333333333333, 0.472),\n",
       " (0.9830508474576272, 0.464),\n",
       " (0.9827586206896551, 0.456),\n",
       " (0.9824561403508771, 0.448),\n",
       " (0.9821428571428571, 0.44),\n",
       " (0.9818181818181818, 0.432),\n",
       " (0.9814814814814815, 0.424),\n",
       " (0.9811320754716981, 0.416),\n",
       " (0.9807692307692307, 0.408),\n",
       " (0.9803921568627451, 0.4),\n",
       " (0.98, 0.392),\n",
       " (0.9795918367346939, 0.384),\n",
       " (0.9791666666666666, 0.376),\n",
       " (1.0, 0.376),\n",
       " (1.0, 0.368),\n",
       " (1.0, 0.36),\n",
       " (1.0, 0.352),\n",
       " (1.0, 0.344),\n",
       " (1.0, 0.336),\n",
       " (1.0, 0.328),\n",
       " (1.0, 0.32),\n",
       " (1.0, 0.312),\n",
       " (1.0, 0.304),\n",
       " (1.0, 0.296),\n",
       " (1.0, 0.288),\n",
       " (1.0, 0.28),\n",
       " (1.0, 0.272),\n",
       " (1.0, 0.264),\n",
       " (1.0, 0.256),\n",
       " (1.0, 0.248),\n",
       " (1.0, 0.24),\n",
       " (1.0, 0.232),\n",
       " (1.0, 0.224),\n",
       " (1.0, 0.216),\n",
       " (1.0, 0.208),\n",
       " (1.0, 0.2),\n",
       " (1.0, 0.192),\n",
       " (1.0, 0.184),\n",
       " (1.0, 0.176),\n",
       " (1.0, 0.168),\n",
       " (1.0, 0.16),\n",
       " (1.0, 0.152),\n",
       " (1.0, 0.144),\n",
       " (1.0, 0.136),\n",
       " (1.0, 0.128),\n",
       " (1.0, 0.12),\n",
       " (1.0, 0.112),\n",
       " (1.0, 0.104),\n",
       " (1.0, 0.096),\n",
       " (1.0, 0.088),\n",
       " (1.0, 0.08),\n",
       " (1.0, 0.072),\n",
       " (1.0, 0.064),\n",
       " (1.0, 0.056),\n",
       " (1.0, 0.048),\n",
       " (1.0, 0.04),\n",
       " (1.0, 0.032),\n",
       " (1.0, 0.024),\n",
       " (1.0, 0.016),\n",
       " (1.0, 0.008),\n",
       " (1.0, 0.0)]"
      ]
     },
     "execution_count": 66,
     "metadata": {},
     "output_type": "execute_result"
    }
   ],
   "source": [
    "precision, recall, thresholds = metrics.precision_recall_curve(y_test, y_proba)\n",
    "list(zip(precision,recall))"
   ]
  },
  {
   "cell_type": "code",
   "execution_count": 65,
   "metadata": {},
   "outputs": [
    {
     "data": {
      "image/png": "[encoded data removed]",
      "text/plain": [
       "<Figure size 432x288 with 1 Axes>"
      ]
     },
     "metadata": {
      "needs_background": "light"
     },
     "output_type": "display_data"
    }
   ],
   "source": [
    "plt.plot(precision, recall, color='red', lw=2)\n",
    "plt.xlim([0.9, 1.0])\n",
    "plt.ylim([0., 1.0])\n",
    "plt.xlabel('Recall')\n",
    "plt.ylabel('Precision')\n",
    "plt.title(\"Scikit-learn's Precision Recall curve\")\n",
    "plt.show()"
   ]
  },
  {
   "cell_type": "code",
   "execution_count": null,
   "metadata": {},
   "outputs": [],
   "source": []
  }
 ],
 "metadata": {
  "accelerator": "GPU",
  "colab": {
   "collapsed_sections": [],
   "name": "UnderstandingMetrics.ipynb",
   "provenance": []
  },
  "kernelspec": {
   "display_name": "Python 3",
   "language": "python",
   "name": "python3"
  },
  "language_info": {
   "codemirror_mode": {
    "name": "ipython",
    "version": 3
   },
   "file_extension": ".py",
   "mimetype": "text/x-python",
   "name": "python",
   "nbconvert_exporter": "python",
   "pygments_lexer": "ipython3",
   "version": "3.7.4"
  }
 },
 "nbformat": 4,
 "nbformat_minor": 1
}
