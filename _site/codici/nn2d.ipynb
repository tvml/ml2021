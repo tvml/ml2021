{
 "cells": [
  {
   "cell_type": "code",
   "execution_count": 136,
   "metadata": {
    "colab": {},
    "colab_type": "code",
    "id": "m_qNWqBxfss5"
   },
   "outputs": [],
   "source": [
    "IS_COLAB = ('google.colab' in str(get_ipython()))"
   ]
  },
  {
   "cell_type": "code",
   "execution_count": 137,
   "metadata": {},
   "outputs": [
    {
     "name": "stdout",
     "output_type": "stream",
     "text": [
      "2.4.1\n"
     ]
    }
   ],
   "source": [
    "import tensorflow as tf\n",
    "print(tf.__version__)"
   ]
  },
  {
   "cell_type": "code",
   "execution_count": 138,
   "metadata": {
    "colab": {
     "base_uri": "https://localhost:8080/",
     "height": 34
    },
    "colab_type": "code",
    "id": "0OLmAdg-fU7n",
    "outputId": "28a2ab4f-caa5-4fb8-8a2c-da2806b74ba5"
   },
   "outputs": [],
   "source": [
    "%matplotlib inline\n",
    "import pandas as pd\n",
    "import numpy as np\n",
    "import scipy.special as sp\n",
    "from tensorflow.keras.utils import to_categorical\n",
    "from tensorflow.keras.models import Sequential\n",
    "from tensorflow.keras.layers import Dense\n",
    "from tensorflow.keras.regularizers import L1L2\n",
    "from tensorflow.keras.optimizers import Adam\n",
    "from tensorflow.keras.callbacks import Callback\n",
    "from sklearn.metrics import confusion_matrix, precision_recall_fscore_support, accuracy_score\n",
    "from sklearn.model_selection import train_test_split\n",
    "from sklearn.preprocessing import StandardScaler"
   ]
  },
  {
   "cell_type": "code",
   "execution_count": 139,
   "metadata": {
    "colab": {
     "base_uri": "https://localhost:8080/",
     "height": 105
    },
    "colab_type": "code",
    "id": "JORvgj36fVJD",
    "outputId": "124a4870-f51d-4bf2-e7c9-4f5c8415b2ff"
   },
   "outputs": [],
   "source": [
    "import matplotlib.pyplot as plt\n",
    "import matplotlib.colors as mcolors\n",
    "import seaborn as sns\n",
    "\n",
    "plt.style.use('ggplot')\n",
    "\n",
    "plt.rcParams['font.family'] = 'sans-serif'\n",
    "plt.rcParams['font.serif'] = 'Ubuntu'\n",
    "plt.rcParams['font.monospace'] = 'Ubuntu Mono'\n",
    "plt.rcParams['font.size'] = 10\n",
    "plt.rcParams['axes.labelsize'] = 10\n",
    "plt.rcParams['axes.labelweight'] = 'bold'\n",
    "plt.rcParams['axes.titlesize'] = 10\n",
    "plt.rcParams['xtick.labelsize'] = 8\n",
    "plt.rcParams['ytick.labelsize'] = 8\n",
    "plt.rcParams['legend.fontsize'] = 10\n",
    "plt.rcParams['figure.titlesize'] = 12\n",
    "plt.rcParams['image.cmap'] = 'jet'\n",
    "plt.rcParams['image.interpolation'] = 'none'\n",
    "plt.rcParams['figure.figsize'] = (16, 8)\n",
    "plt.rcParams['lines.linewidth'] = 2\n",
    "plt.rcParams['lines.markersize'] = 8\n",
    "\n",
    "colors = ['#008fd5', '#fc4f30', '#e5ae38', '#6d904f', '#8b8b8b', '#810f7c', \n",
    "'#137e6d', '#be0119', '#3b638c', '#af6f09', '#008fd5', '#fc4f30', '#e5ae38', '#6d904f', '#8b8b8b', \n",
    "'#810f7c', '#137e6d', '#be0119', '#3b638c', '#af6f09']\n",
    "\n",
    "cmap = mcolors.LinearSegmentedColormap.from_list(\"\", [\"#82cafc\", \"#069af3\", \"#0485d1\", colors[0], colors[8]])"
   ]
  },
  {
   "cell_type": "code",
   "execution_count": 140,
   "metadata": {
    "colab": {
     "base_uri": "https://localhost:8080/",
     "height": 122
    },
    "colab_type": "code",
    "id": "kpX2ln6Bf7mE",
    "outputId": "7ba1f103-7720-4d43-acdb-22b8d74d4398"
   },
   "outputs": [],
   "source": [
    "if IS_COLAB:\n",
    "  from google.colab import drive\n",
    "  drive.mount('/gdrive')\n",
    "  filepath = \"/gdrive/My Drive/colab_data/\"\n",
    "else:\n",
    "  filepath = \"../ml_store\""
   ]
  },
  {
   "cell_type": "code",
   "execution_count": 141,
   "metadata": {
    "colab": {},
    "colab_type": "code",
    "id": "unFv9gucgIjG"
   },
   "outputs": [],
   "source": [
    "def save_model(m,filename):\n",
    "    model_json = m.to_json()\n",
    "    with open(filepath+filename+\".json\", \"w\") as json_file:\n",
    "        json_file.write(model_json)\n",
    "    # serialize weights to HDF5\n",
    "    m.save_weights(filepath+filename+\".h5\")\n",
    "    print(\"Saved model to disk\")"
   ]
  },
  {
   "cell_type": "code",
   "execution_count": 142,
   "metadata": {
    "colab": {},
    "colab_type": "code",
    "id": "43mL0SdPgOqH"
   },
   "outputs": [],
   "source": [
    "def load_model_weights(filename, model):\n",
    "    model.load_weights(filepath+filename+\".h5\")\n",
    "    print(\"Loaded weights from disk\")\n",
    "    return model"
   ]
  },
  {
   "cell_type": "code",
   "execution_count": 143,
   "metadata": {
    "colab": {},
    "colab_type": "code",
    "id": "_6p5InfQgPry"
   },
   "outputs": [],
   "source": [
    "def load_model(filename):\n",
    "    json_file = open(filepath+filename+'.json', 'r')\n",
    "    loaded_model_json = json_file.read()\n",
    "    json_file.close()\n",
    "    m = model_from_json(loaded_model_json)\n",
    "    # load weights into new model\n",
    "    m.load_weights(filepath+filename+\".h5\")\n",
    "    print(\"Loaded model from disk\")\n",
    "    return m"
   ]
  },
  {
   "cell_type": "code",
   "execution_count": 144,
   "metadata": {
    "colab": {
     "base_uri": "https://localhost:8080/",
     "height": 232
    },
    "colab_type": "code",
    "id": "X0gA0oZ0fVKf",
    "outputId": "99120234-a146-4502-f212-26405b8134e8"
   },
   "outputs": [],
   "source": [
    "class my_cb(Callback):\n",
    "    def __init__(self):\n",
    "        self.epoch = 0\n",
    "    def on_train_begin(self, logs={}):\n",
    "        self.losses = []\n",
    "\n",
    "    def on_batch_end(self, batch, logs={}):\n",
    "        print('.',end='')\n",
    "        \n",
    "    def on_epoch_end(self, batch, logs={}):\n",
    "        self.epoch += 1\n",
    "        print('\\n')\n",
    "        print(\"{0:3d} epochs: accuracy={1:5.4f}\".format(self.epoch, logs['accuracy']))"
   ]
  },
  {
   "cell_type": "code",
   "execution_count": 145,
   "metadata": {
    "colab": {},
    "colab_type": "code",
    "id": "jpTkbyh_gkqw"
   },
   "outputs": [],
   "source": [
    "import urllib.request\n",
    "\n",
    "filepath = \"../dataset/\"\n",
    "url = \"https://tvml.github.io/ml1920/dataset/\"\n",
    "\n",
    "def get_file(filename,local):\n",
    "    if local:\n",
    "        return filepath+filename\n",
    "    else:\n",
    "        urllib.request.urlretrieve (url+filename, filename)\n",
    "        return filename"
   ]
  },
  {
   "cell_type": "code",
   "execution_count": 146,
   "metadata": {
    "colab": {},
    "colab_type": "code",
    "id": "GPvtc6-OfVRV"
   },
   "outputs": [],
   "source": [
    "# legge i dati in dataframe pandas\n",
    "data = pd.read_csv(get_file(\"ex2data1.txt\",False), header=0, delimiter=',', names=['x1','x2','t'])\n",
    "# calcola dimensione dei dati\n",
    "n = len(data)\n",
    "\n",
    "# calcola dimensionalità delle features\n",
    "nfeatures = len(data.columns)-1\n",
    "\n",
    "X = np.array(data[['x1','x2']])\n",
    "t = np.array(data['t']).reshape(-1,1)\n",
    "\n",
    "data[['x1','x2']] = StandardScaler().fit_transform(X)"
   ]
  },
  {
   "cell_type": "code",
   "execution_count": 147,
   "metadata": {
    "colab": {
     "base_uri": "https://localhost:8080/",
     "height": 544
    },
    "colab_type": "code",
    "id": "slAKvbzRfVYN",
    "outputId": "206313a3-1106-431a-d5c7-569101f49fb0"
   },
   "outputs": [
    {
     "data": {
      "image/png": "[encoded data removed]",
      "text/plain": [
       "<Figure size 1152x576 with 1 Axes>"
      ]
     },
     "metadata": {},
     "output_type": "display_data"
    }
   ],
   "source": [
    "fig = plt.figure(figsize=(16,8))\n",
    "ax = fig.gca()\n",
    "ax.scatter(data[data.t==0].x1, data[data.t==0].x2, s=40, color=colors[0], edgecolor='k', alpha=.7)\n",
    "ax.scatter(data[data.t==1].x1, data[data.t==1].x2, s=40, color=colors[1], edgecolor='k', alpha=.7)\n",
    "plt.xlabel('$x_1$', fontsize=12)\n",
    "plt.ylabel('$x_2$', fontsize=12)\n",
    "plt.xticks(fontsize=10)\n",
    "plt.yticks(fontsize=10)\n",
    "plt.title('Dataset', fontsize=12)\n",
    "plt.show()"
   ]
  },
  {
   "cell_type": "code",
   "execution_count": 148,
   "metadata": {
    "colab": {},
    "colab_type": "code",
    "id": "KqMnJA80fVdl"
   },
   "outputs": [],
   "source": [
    "num_classes = np.unique(t).shape[0]"
   ]
  },
  {
   "cell_type": "code",
   "execution_count": 149,
   "metadata": {
    "colab": {},
    "colab_type": "code",
    "id": "mNp6gEuRfVqO"
   },
   "outputs": [],
   "source": [
    "t1 = to_categorical(t, num_classes)"
   ]
  },
  {
   "cell_type": "code",
   "execution_count": 150,
   "metadata": {
    "colab": {},
    "colab_type": "code",
    "id": "HBltoJwufVrh"
   },
   "outputs": [],
   "source": [
    "delta1=max(data.x1)-min(data.x1)\n",
    "delta2=max(data.x2)-min(data.x2)\n",
    "min1=min(data.x1)-delta1/10\n",
    "max1=max(data.x1)+delta1/10\n",
    "min2=min(data.x2)-delta2/10\n",
    "max2=max(data.x2)+delta2/10\n",
    "u = np.linspace(min1, max1, 100)\n",
    "v = np.linspace(min2, max2, 100)\n",
    "u, v = np.meshgrid(u, v)"
   ]
  },
  {
   "cell_type": "code",
   "execution_count": 179,
   "metadata": {
    "colab": {},
    "colab_type": "code",
    "id": "MIVtXGkYfVsJ"
   },
   "outputs": [],
   "source": [
    "model0 = Sequential([\n",
    "    Dense(64, input_dim=2, activation='relu'),\n",
    "    #Dense(32, activation='relu'),\n",
    "    #Dense(64, activation='relu'),\n",
    "    Dense(32, activation='relu'),\n",
    "    #Dense(32, activation='relu'),\n",
    "    #Dense(8, activation='relu'),\n",
    "    Dense(1, activation='sigmoid')\n",
    "])\n",
    "\n",
    "model0.compile(optimizer=Adam(lr=0.01), loss='binary_crossentropy',\n",
    "              metrics=['accuracy'])\n"
   ]
  },
  {
   "cell_type": "code",
   "execution_count": 180,
   "metadata": {
    "colab": {},
    "colab_type": "code",
    "id": "M8EE3wZQhAAR"
   },
   "outputs": [],
   "source": [
    "#model0 = load_model_weights('regr', model0)"
   ]
  },
  {
   "cell_type": "code",
   "execution_count": 181,
   "metadata": {
    "colab": {
     "base_uri": "https://localhost:8080/",
     "height": 289
    },
    "colab_type": "code",
    "id": "uGhxEoVffVtJ",
    "outputId": "cbbba63f-b983-4ca5-bf42-b78ab2246c17"
   },
   "outputs": [
    {
     "name": "stdout",
     "output_type": "stream",
     "text": [
      "Model: \"sequential_10\"\n",
      "_________________________________________________________________\n",
      "Layer (type)                 Output Shape              Param #   \n",
      "=================================================================\n",
      "dense_48 (Dense)             (None, 64)                192       \n",
      "_________________________________________________________________\n",
      "dense_49 (Dense)             (None, 32)                2080      \n",
      "_________________________________________________________________\n",
      "dense_50 (Dense)             (None, 1)                 33        \n",
      "=================================================================\n",
      "Total params: 2,305\n",
      "Trainable params: 2,305\n",
      "Non-trainable params: 0\n",
      "_________________________________________________________________\n"
     ]
    }
   ],
   "source": [
    "model0.summary()"
   ]
  },
  {
   "cell_type": "code",
   "execution_count": 182,
   "metadata": {
    "colab": {
     "base_uri": "https://localhost:8080/",
     "height": 1000
    },
    "colab_type": "code",
    "id": "EHoGT7irfVul",
    "outputId": "601c8a02-58d5-4ede-8754-f23897a48850"
   },
   "outputs": [
    {
     "name": "stdout",
     "output_type": "stream",
     "text": [
      "Epoch 1/30\n",
      "20/20 [==============================] - 0s 989us/step - loss: 0.5644 - accuracy: 0.7030\n",
      "Epoch 2/30\n",
      "20/20 [==============================] - 0s 1ms/step - loss: 0.2739 - accuracy: 0.8889\n",
      "Epoch 3/30\n",
      "20/20 [==============================] - 0s 1ms/step - loss: 0.1758 - accuracy: 0.9557\n",
      "Epoch 4/30\n",
      "20/20 [==============================] - 0s 1ms/step - loss: 0.1444 - accuracy: 0.9255\n",
      "Epoch 5/30\n",
      "20/20 [==============================] - 0s 1ms/step - loss: 0.1389 - accuracy: 0.9415\n",
      "Epoch 6/30\n",
      "20/20 [==============================] - 0s 1ms/step - loss: 0.1887 - accuracy: 0.8605\n",
      "Epoch 7/30\n",
      "20/20 [==============================] - 0s 1ms/step - loss: 0.1781 - accuracy: 0.9413\n",
      "Epoch 8/30\n",
      "20/20 [==============================] - 0s 1ms/step - loss: 0.1646 - accuracy: 0.9343\n",
      "Epoch 9/30\n",
      "20/20 [==============================] - 0s 1ms/step - loss: 0.1457 - accuracy: 0.9289\n",
      "Epoch 10/30\n",
      "20/20 [==============================] - 0s 1ms/step - loss: 0.1563 - accuracy: 0.9148\n",
      "Epoch 11/30\n",
      "20/20 [==============================] - 0s 1ms/step - loss: 0.0903 - accuracy: 0.9772\n",
      "Epoch 12/30\n",
      "20/20 [==============================] - 0s 1ms/step - loss: 0.1048 - accuracy: 0.9740\n",
      "Epoch 13/30\n",
      "20/20 [==============================] - 0s 1ms/step - loss: 0.1088 - accuracy: 0.9847\n",
      "Epoch 14/30\n",
      "20/20 [==============================] - 0s 1ms/step - loss: 0.1424 - accuracy: 0.9385\n",
      "Epoch 15/30\n",
      "20/20 [==============================] - 0s 1ms/step - loss: 0.2431 - accuracy: 0.8228\n",
      "Epoch 16/30\n",
      "20/20 [==============================] - 0s 1ms/step - loss: 0.0875 - accuracy: 0.9570\n",
      "Epoch 17/30\n",
      "20/20 [==============================] - 0s 1ms/step - loss: 0.0719 - accuracy: 0.9784\n",
      "Epoch 18/30\n",
      "20/20 [==============================] - 0s 1ms/step - loss: 0.0665 - accuracy: 0.9759\n",
      "Epoch 19/30\n",
      "20/20 [==============================] - 0s 1ms/step - loss: 0.0717 - accuracy: 1.0000\n",
      "Epoch 20/30\n",
      "20/20 [==============================] - 0s 1ms/step - loss: 0.0507 - accuracy: 0.9757\n",
      "Epoch 21/30\n",
      "20/20 [==============================] - 0s 1ms/step - loss: 0.1707 - accuracy: 0.9087\n",
      "Epoch 22/30\n",
      "20/20 [==============================] - 0s 1ms/step - loss: 0.0584 - accuracy: 0.9592\n",
      "Epoch 23/30\n",
      "20/20 [==============================] - 0s 1ms/step - loss: 0.0529 - accuracy: 0.9806\n",
      "Epoch 24/30\n",
      "20/20 [==============================] - 0s 1ms/step - loss: 0.0453 - accuracy: 0.9832\n",
      "Epoch 25/30\n",
      "20/20 [==============================] - 0s 1ms/step - loss: 0.0477 - accuracy: 0.9748\n",
      "Epoch 26/30\n",
      "20/20 [==============================] - 0s 1ms/step - loss: 0.1150 - accuracy: 0.9378\n",
      "Epoch 27/30\n",
      "20/20 [==============================] - 0s 1ms/step - loss: 0.0488 - accuracy: 0.9765\n",
      "Epoch 28/30\n",
      "20/20 [==============================] - 0s 1ms/step - loss: 0.1327 - accuracy: 0.9225\n",
      "Epoch 29/30\n",
      "20/20 [==============================] - 0s 1ms/step - loss: 0.0418 - accuracy: 0.9773\n",
      "Epoch 30/30\n",
      "20/20 [==============================] - 0s 1ms/step - loss: 0.0772 - accuracy: 0.9718\n"
     ]
    }
   ],
   "source": [
    "batch_size = 10\n",
    "epochs = 30\n",
    "\n",
    "history = model0.fit(data[['x1','x2']], t.ravel(), shuffle=True, batch_size=5, epochs=epochs, verbose=1)"
   ]
  },
  {
   "cell_type": "code",
   "execution_count": 183,
   "metadata": {
    "colab": {
     "base_uri": "https://localhost:8080/",
     "height": 34
    },
    "colab_type": "code",
    "id": "4XxxUL1Ph748",
    "outputId": "b309b7de-e7eb-4a01-959e-ebf022d0f89d"
   },
   "outputs": [
    {
     "name": "stdout",
     "output_type": "stream",
     "text": [
      "Saved model to disk\n"
     ]
    }
   ],
   "source": [
    "save_model(model0,'regr')"
   ]
  },
  {
   "cell_type": "code",
   "execution_count": 184,
   "metadata": {
    "colab": {},
    "colab_type": "code",
    "id": "ahbaFy4ZfVu-"
   },
   "outputs": [],
   "source": [
    "history_df = pd.DataFrame(history.history)"
   ]
  },
  {
   "cell_type": "code",
   "execution_count": 185,
   "metadata": {
    "colab": {
     "base_uri": "https://localhost:8080/",
     "height": 204
    },
    "colab_type": "code",
    "id": "PkJcNeGGhkCC",
    "outputId": "d54c7af9-1d2e-4d99-879a-c550a6bf430b"
   },
   "outputs": [
    {
     "data": {
      "text/html": [
       "<div>\n",
       "<style scoped>\n",
       "    .dataframe tbody tr th:only-of-type {\n",
       "        vertical-align: middle;\n",
       "    }\n",
       "\n",
       "    .dataframe tbody tr th {\n",
       "        vertical-align: top;\n",
       "    }\n",
       "\n",
       "    .dataframe thead th {\n",
       "        text-align: right;\n",
       "    }\n",
       "</style>\n",
       "<table border=\"1\" class=\"dataframe\">\n",
       "  <thead>\n",
       "    <tr style=\"text-align: right;\">\n",
       "      <th></th>\n",
       "      <th>loss</th>\n",
       "      <th>accuracy</th>\n",
       "    </tr>\n",
       "  </thead>\n",
       "  <tbody>\n",
       "    <tr>\n",
       "      <th>25</th>\n",
       "      <td>0.131786</td>\n",
       "      <td>0.939394</td>\n",
       "    </tr>\n",
       "    <tr>\n",
       "      <th>26</th>\n",
       "      <td>0.066205</td>\n",
       "      <td>0.959596</td>\n",
       "    </tr>\n",
       "    <tr>\n",
       "      <th>27</th>\n",
       "      <td>0.105116</td>\n",
       "      <td>0.949495</td>\n",
       "    </tr>\n",
       "    <tr>\n",
       "      <th>28</th>\n",
       "      <td>0.058534</td>\n",
       "      <td>0.969697</td>\n",
       "    </tr>\n",
       "    <tr>\n",
       "      <th>29</th>\n",
       "      <td>0.068226</td>\n",
       "      <td>0.969697</td>\n",
       "    </tr>\n",
       "  </tbody>\n",
       "</table>\n",
       "</div>"
      ],
      "text/plain": [
       "        loss  accuracy\n",
       "25  0.131786  0.939394\n",
       "26  0.066205  0.959596\n",
       "27  0.105116  0.949495\n",
       "28  0.058534  0.969697\n",
       "29  0.068226  0.969697"
      ]
     },
     "execution_count": 185,
     "metadata": {},
     "output_type": "execute_result"
    }
   ],
   "source": [
    "history_df.tail()"
   ]
  },
  {
   "cell_type": "code",
   "execution_count": 186,
   "metadata": {
    "colab": {},
    "colab_type": "code",
    "id": "VYqPf96CfVvO"
   },
   "outputs": [],
   "source": [
    "z = model0.predict(np.c_[u.ravel(), v.ravel()])"
   ]
  },
  {
   "cell_type": "code",
   "execution_count": 187,
   "metadata": {
    "colab": {},
    "colab_type": "code",
    "id": "B5QBXjtFfVvt"
   },
   "outputs": [],
   "source": [
    "z = z[:,0].reshape(u.shape)"
   ]
  },
  {
   "cell_type": "code",
   "execution_count": 188,
   "metadata": {
    "colab": {
     "base_uri": "https://localhost:8080/",
     "height": 525
    },
    "colab_type": "code",
    "id": "e0WRrGHSfV1z",
    "outputId": "a6c0368b-1d99-4920-cfe6-58606c9c9d25"
   },
   "outputs": [
    {
     "data": {
      "image/png": "[encoded data removed]",
      "text/plain": [
       "<Figure size 1152x576 with 1 Axes>"
      ]
     },
     "metadata": {},
     "output_type": "display_data"
    }
   ],
   "source": [
    "fig = plt.figure(figsize=(16,8))\n",
    "ax = fig.gca()\n",
    "imshow_handle = plt.imshow(z, origin='lower', aspect='auto', extent=(min1, max1, min2, max2), alpha=.3)\n",
    "ax.scatter(data[data.t==0].x1, data[data.t==0].x2, edgecolor='k', s=40, color=colors[0], alpha=.7)\n",
    "ax.scatter(data[data.t==1].x1, data[data.t==1].x2, edgecolor='k', s=40, color=colors[1], alpha=.7)\n",
    "plt.contour(u, v, z, [0.5], colors=[colors[8]], linewidths=[1.5])\n",
    "plt.xlabel('Punteggio esame 1', fontsize=10)\n",
    "plt.ylabel('Punteggio esame 2', fontsize=10)\n",
    "plt.xticks(fontsize=10)\n",
    "plt.yticks(fontsize=10)\n",
    "plt.show()"
   ]
  },
  {
   "cell_type": "code",
   "execution_count": 189,
   "metadata": {
    "colab": {},
    "colab_type": "code",
    "id": "BcJcwDe2fV_A"
   },
   "outputs": [],
   "source": [
    "y = model0.predict(data[['x1','x2']])[:,0]"
   ]
  },
  {
   "cell_type": "code",
   "execution_count": 190,
   "metadata": {
    "colab": {},
    "colab_type": "code",
    "id": "Hx9__DevfWAD"
   },
   "outputs": [],
   "source": [
    "y = np.where(y>0.5, 1, 0)"
   ]
  },
  {
   "cell_type": "code",
   "execution_count": 191,
   "metadata": {
    "colab": {
     "base_uri": "https://localhost:8080/",
     "height": 51
    },
    "colab_type": "code",
    "id": "vcoerfLefWAl",
    "outputId": "8e89ee4d-9a58-4044-e7fb-ee1794d8f05b"
   },
   "outputs": [
    {
     "data": {
      "text/plain": [
       "array([[38,  1],\n",
       "       [ 0, 60]])"
      ]
     },
     "execution_count": 191,
     "metadata": {},
     "output_type": "execute_result"
    }
   ],
   "source": [
    "cm = confusion_matrix(t,y)\n",
    "cm"
   ]
  },
  {
   "cell_type": "code",
   "execution_count": 192,
   "metadata": {
    "colab": {},
    "colab_type": "code",
    "id": "m35hxKShfWBs"
   },
   "outputs": [],
   "source": [
    "pr = precision_recall_fscore_support(t,y)"
   ]
  },
  {
   "cell_type": "code",
   "execution_count": 193,
   "metadata": {
    "colab": {
     "base_uri": "https://localhost:8080/",
     "height": 68
    },
    "colab_type": "code",
    "id": "cooXTsk_fWDD",
    "outputId": "0d2ea2c6-07b4-4667-da3b-9bbe1cf4a79b"
   },
   "outputs": [
    {
     "name": "stdout",
     "output_type": "stream",
     "text": [
      "Classe 0: precision=1.000, recall=0.974\n",
      "Classe 1: precision=0.974, recall=1.000\n",
      "Accuracy=0.990\n"
     ]
    }
   ],
   "source": [
    "print('Classe 0: precision={0:5.3f}, recall={1:5.3f}'.format(pr[0][0], pr[1][0]))\n",
    "\n",
    "print('Classe 1: precision={0:5.3f}, recall={1:5.3f}'.format(pr[1][0], pr[1][1]))\n",
    "\n",
    "print('Accuracy={0:5.3f}'.format(accuracy_score(t,y)))"
   ]
  },
  {
   "cell_type": "code",
   "execution_count": null,
   "metadata": {},
   "outputs": [],
   "source": []
  }
 ],
 "metadata": {
  "anaconda-cloud": {},
  "colab": {
   "name": "nn2d.ipynb",
   "provenance": []
  },
  "kernelspec": {
   "display_name": "Python 3.8",
   "language": "python",
   "name": "python3.8"
  },
  "language_info": {
   "codemirror_mode": {
    "name": "ipython",
    "version": 3
   },
   "file_extension": ".py",
   "mimetype": "text/x-python",
   "name": "python",
   "nbconvert_exporter": "python",
   "pygments_lexer": "ipython3",
   "version": "3.8.0"
  }
 },
 "nbformat": 4,
 "nbformat_minor": 4
}
